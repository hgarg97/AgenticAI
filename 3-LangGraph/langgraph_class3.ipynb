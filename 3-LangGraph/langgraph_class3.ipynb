{
 "cells": [
  {
   "cell_type": "code",
   "execution_count": 1,
   "id": "67031d9e",
   "metadata": {},
   "outputs": [],
   "source": [
    "\n",
    "from dotenv import load_dotenv\n",
    "load_dotenv()\n",
    "import os\n",
    "os.environ['GROQ_API_KEY'] = os.getenv(\"GROQ_API_KEY\")"
   ]
  },
  {
   "cell_type": "code",
   "execution_count": 2,
   "id": "eb70dd3f",
   "metadata": {},
   "outputs": [],
   "source": [
    "model=\"deepseek-r1-distill-llama-70b\""
   ]
  },
  {
   "cell_type": "markdown",
   "id": "951e712c",
   "metadata": {},
   "source": [
    "### Load the Model"
   ]
  },
  {
   "cell_type": "code",
   "execution_count": 3,
   "id": "9cbfc632",
   "metadata": {},
   "outputs": [
    {
     "data": {
      "text/plain": [
       "AIMessage(content='<think>\\n\\n</think>\\n\\nHello! How can I assist you today?', additional_kwargs={}, response_metadata={'token_usage': {'completion_tokens': 14, 'prompt_tokens': 4, 'total_tokens': 18, 'completion_time': 0.070609756, 'prompt_time': 5.5479e-05, 'queue_time': 0.205900835, 'total_time': 0.070665235}, 'model_name': 'deepseek-r1-distill-llama-70b', 'system_fingerprint': 'fp_76307ac09b', 'finish_reason': 'stop', 'logprobs': None}, id='run--5462bcf7-78ca-4671-8f46-eeef2d9dd021-0', usage_metadata={'input_tokens': 4, 'output_tokens': 14, 'total_tokens': 18})"
      ]
     },
     "execution_count": 3,
     "metadata": {},
     "output_type": "execute_result"
    }
   ],
   "source": [
    "model=\"deepseek-r1-distill-llama-70b\"\n",
    "from langchain_groq import ChatGroq\n",
    "llm=ChatGroq(model_name=model)\n",
    "llm.invoke(\"hi\")"
   ]
  },
  {
   "cell_type": "code",
   "execution_count": 4,
   "id": "540c1445",
   "metadata": {},
   "outputs": [
    {
     "name": "stdout",
     "output_type": "stream",
     "text": [
      "<think>\n",
      "\n",
      "</think>\n",
      "\n",
      "Hello! How can I assist you today? 😊\n"
     ]
    }
   ],
   "source": [
    "print(llm.invoke(\"hi\").content)"
   ]
  },
  {
   "cell_type": "code",
   "execution_count": 5,
   "id": "1a816439",
   "metadata": {},
   "outputs": [],
   "source": [
    "from langchain_core.tools import tool\n",
    "from langchain_core.messages import HumanMessage, AIMessage\n",
    "from langgraph.graph import StateGraph,MessagesState,START,END\n",
    "from langgraph.prebuilt import ToolNode"
   ]
  },
  {
   "cell_type": "code",
   "execution_count": 39,
   "id": "eee5b886",
   "metadata": {},
   "outputs": [],
   "source": [
    "def call_model(state: MessagesState):\n",
    "    message = state[\"messages\"]\n",
    "    response = llm.invoke(message)\n",
    "\n",
    "    return {\"messages\": [response]}"
   ]
  },
  {
   "cell_type": "code",
   "execution_count": 40,
   "id": "d0a00b18",
   "metadata": {},
   "outputs": [
    {
     "data": {
      "text/plain": [
       "{'messages': [AIMessage(content=\"<think>\\n\\n</think>\\n\\nHi! I'm just a virtual assistant, so I don't have feelings, but I'm here and ready to help you with whatever you need. How are you doing? 😊\", additional_kwargs={}, response_metadata={'token_usage': {'completion_tokens': 42, 'prompt_tokens': 9, 'total_tokens': 51, 'completion_time': 0.216766614, 'prompt_time': 0.000194649, 'queue_time': 0.20608226200000002, 'total_time': 0.216961263}, 'model_name': 'deepseek-r1-distill-llama-70b', 'system_fingerprint': 'fp_76307ac09b', 'finish_reason': 'stop', 'logprobs': None}, id='run--81828a20-af0d-4c81-9601-0f4b6318913e-0', usage_metadata={'input_tokens': 9, 'output_tokens': 42, 'total_tokens': 51})]}"
      ]
     },
     "execution_count": 40,
     "metadata": {},
     "output_type": "execute_result"
    }
   ],
   "source": [
    "state = {\"messages\": [\"Hi, How are you?\"]}\n",
    "\n",
    "call_model(state)"
   ]
  },
  {
   "cell_type": "markdown",
   "id": "fb02e41b",
   "metadata": {},
   "source": [
    "### Design a simple workflow without tool calling"
   ]
  },
  {
   "cell_type": "code",
   "execution_count": 43,
   "id": "0cdde0b6",
   "metadata": {},
   "outputs": [],
   "source": [
    "# def call_model(state: MessagesState):\n",
    "#     question = state[\"messages\"][-1]\n",
    "#     message = HumanMessage([question])\n",
    "\n",
    "#     print(\"This is my Human Message going to LLM \", message)\n",
    "\n",
    "#     response = llm.invoke(message)\n",
    "\n",
    "#     return {\"messages\": [response]}"
   ]
  },
  {
   "cell_type": "code",
   "execution_count": 44,
   "id": "55d9f89b",
   "metadata": {},
   "outputs": [],
   "source": [
    "workflow = StateGraph(MessagesState)"
   ]
  },
  {
   "cell_type": "code",
   "execution_count": 45,
   "id": "c629d21c",
   "metadata": {},
   "outputs": [
    {
     "data": {
      "text/plain": [
       "<langgraph.graph.state.StateGraph at 0x12feea21480>"
      ]
     },
     "execution_count": 45,
     "metadata": {},
     "output_type": "execute_result"
    }
   ],
   "source": [
    "workflow.add_node(\"mybot\", call_model)"
   ]
  },
  {
   "cell_type": "code",
   "execution_count": 46,
   "id": "207c6304",
   "metadata": {},
   "outputs": [
    {
     "data": {
      "text/plain": [
       "<langgraph.graph.state.StateGraph at 0x12feea21480>"
      ]
     },
     "execution_count": 46,
     "metadata": {},
     "output_type": "execute_result"
    }
   ],
   "source": [
    "workflow.add_edge(START, \"mybot\")"
   ]
  },
  {
   "cell_type": "code",
   "execution_count": 47,
   "id": "bb13f35a",
   "metadata": {},
   "outputs": [
    {
     "data": {
      "text/plain": [
       "<langgraph.graph.state.StateGraph at 0x12feea21480>"
      ]
     },
     "execution_count": 47,
     "metadata": {},
     "output_type": "execute_result"
    }
   ],
   "source": [
    "workflow.add_edge(\"mybot\", END)"
   ]
  },
  {
   "cell_type": "code",
   "execution_count": 48,
   "id": "fb3f0d73",
   "metadata": {},
   "outputs": [],
   "source": [
    "app = workflow.compile()"
   ]
  },
  {
   "cell_type": "code",
   "execution_count": 49,
   "id": "3c3c6b3b",
   "metadata": {},
   "outputs": [
    {
     "data": {
      "image/png": "[encoded data removed]",
      "text/plain": [
       "<IPython.core.display.Image object>"
      ]
     },
     "metadata": {},
     "output_type": "display_data"
    }
   ],
   "source": [
    "from IPython.display import Image, display\n",
    "display(Image(app.get_graph().draw_mermaid_png()))"
   ]
  },
  {
   "cell_type": "code",
   "execution_count": 50,
   "id": "9fb8b574",
   "metadata": {},
   "outputs": [],
   "source": [
    "input={\"messages\":[\"hi hello how are you?\"]}\n"
   ]
  },
  {
   "cell_type": "code",
   "execution_count": 51,
   "id": "8f754c93",
   "metadata": {},
   "outputs": [
    {
     "data": {
      "text/plain": [
       "{'messages': [HumanMessage(content='hi hello how are you?', additional_kwargs={}, response_metadata={}, id='6e8fc0ea-15e5-45df-8ffa-9970621b8e9f'),\n",
       "  AIMessage(content=\"<think>\\n\\n</think>\\n\\nHello! I'm just a virtual assistant, so I don't have feelings, but I'm here and ready to help you with whatever you need. How are you doing? 😊\", additional_kwargs={}, response_metadata={'token_usage': {'completion_tokens': 42, 'prompt_tokens': 9, 'total_tokens': 51, 'completion_time': 0.197445219, 'prompt_time': 0.000189209, 'queue_time': 0.206126909, 'total_time': 0.197634428}, 'model_name': 'deepseek-r1-distill-llama-70b', 'system_fingerprint': 'fp_76307ac09b', 'finish_reason': 'stop', 'logprobs': None}, id='run--cdbe3956-71e3-42f5-a0db-0cab44fbcf30-0', usage_metadata={'input_tokens': 9, 'output_tokens': 42, 'total_tokens': 51})]}"
      ]
     },
     "execution_count": 51,
     "metadata": {},
     "output_type": "execute_result"
    }
   ],
   "source": [
    "app.invoke(input)"
   ]
  },
  {
   "cell_type": "markdown",
   "id": "d0adfadb",
   "metadata": {},
   "source": [
    "#### Creating custom tool"
   ]
  },
  {
   "cell_type": "code",
   "execution_count": 52,
   "id": "ea842f15",
   "metadata": {},
   "outputs": [],
   "source": [
    "@tool\n",
    "def search(query:str):\n",
    "    \"\"\"this is my custom tool for searching a weather\"\"\"\n",
    "    if \"delhi\" in query.lower():\n",
    "        return \"the temp is 45 degree celsius\"\n",
    "    return \"the temp is 25 degree celsius\""
   ]
  },
  {
   "cell_type": "code",
   "execution_count": 53,
   "id": "87006a55",
   "metadata": {},
   "outputs": [
    {
     "data": {
      "text/plain": [
       "'the temp is 25 degree celsius'"
      ]
     },
     "execution_count": 53,
     "metadata": {},
     "output_type": "execute_result"
    }
   ],
   "source": [
    "search.invoke(\"what is temperature in Charlotte?\")"
   ]
  },
  {
   "cell_type": "markdown",
   "id": "e8f9e8b7",
   "metadata": {},
   "source": [
    "#### Binding the tool with flow"
   ]
  },
  {
   "cell_type": "code",
   "execution_count": 54,
   "id": "0f954341",
   "metadata": {},
   "outputs": [
    {
     "data": {
      "text/plain": [
       "StructuredTool(name='search', description='this is my custom tool for searching a weather', args_schema=<class 'langchain_core.utils.pydantic.search'>, func=<function search at 0x0000012FEEF27880>)"
      ]
     },
     "execution_count": 54,
     "metadata": {},
     "output_type": "execute_result"
    }
   ],
   "source": [
    "search"
   ]
  },
  {
   "cell_type": "code",
   "execution_count": 55,
   "id": "85326c7e",
   "metadata": {},
   "outputs": [],
   "source": [
    "tools = [search]"
   ]
  },
  {
   "cell_type": "code",
   "execution_count": 56,
   "id": "a8e3415c",
   "metadata": {},
   "outputs": [
    {
     "data": {
      "text/plain": [
       "[StructuredTool(name='search', description='this is my custom tool for searching a weather', args_schema=<class 'langchain_core.utils.pydantic.search'>, func=<function search at 0x0000012FEEF27880>)]"
      ]
     },
     "execution_count": 56,
     "metadata": {},
     "output_type": "execute_result"
    }
   ],
   "source": [
    "tools"
   ]
  },
  {
   "cell_type": "code",
   "execution_count": 57,
   "id": "5413458e",
   "metadata": {},
   "outputs": [],
   "source": [
    "llm_with_tool = llm.bind_tools(tools)"
   ]
  },
  {
   "cell_type": "code",
   "execution_count": 59,
   "id": "c6a6c609",
   "metadata": {},
   "outputs": [],
   "source": [
    "response = llm_with_tool.invoke(\"what is weather in delhi?\")"
   ]
  },
  {
   "cell_type": "code",
   "execution_count": 61,
   "id": "fb3952e4",
   "metadata": {},
   "outputs": [
    {
     "data": {
      "text/plain": [
       "[{'name': 'search',\n",
       "  'args': {'query': 'weather in Delhi'},\n",
       "  'id': 'jg9fy5f57',\n",
       "  'type': 'tool_call'}]"
      ]
     },
     "execution_count": 61,
     "metadata": {},
     "output_type": "execute_result"
    }
   ],
   "source": [
    "response.tool_calls"
   ]
  },
  {
   "cell_type": "code",
   "execution_count": 62,
   "id": "1f29e263",
   "metadata": {},
   "outputs": [],
   "source": [
    "def call_model(state: MessagesState):\n",
    "    question = state['messages']\n",
    "    response = llm_with_tool.invoke(question)\n",
    "    return {\"messages\": [response]}"
   ]
  },
  {
   "cell_type": "code",
   "execution_count": 63,
   "id": "fc0c5da6",
   "metadata": {},
   "outputs": [],
   "source": [
    "input = {\"messages\": [\"what is the weather in delhi?\"]}"
   ]
  },
  {
   "cell_type": "code",
   "execution_count": 65,
   "id": "ef56d4b2",
   "metadata": {},
   "outputs": [],
   "source": [
    "response = call_model(input)"
   ]
  },
  {
   "cell_type": "code",
   "execution_count": 66,
   "id": "d532c5a8",
   "metadata": {},
   "outputs": [
    {
     "data": {
      "text/plain": [
       "''"
      ]
     },
     "execution_count": 66,
     "metadata": {},
     "output_type": "execute_result"
    }
   ],
   "source": [
    "response[\"messages\"][-1].content"
   ]
  },
  {
   "cell_type": "code",
   "execution_count": 67,
   "id": "9140c667",
   "metadata": {},
   "outputs": [
    {
     "data": {
      "text/plain": [
       "[{'name': 'search',\n",
       "  'args': {'query': 'weather in Delhi'},\n",
       "  'id': '38pd5r9eg',\n",
       "  'type': 'tool_call'}]"
      ]
     },
     "execution_count": 67,
     "metadata": {},
     "output_type": "execute_result"
    }
   ],
   "source": [
    "response[\"messages\"][-1].tool_calls"
   ]
  },
  {
   "cell_type": "code",
   "execution_count": 68,
   "id": "7801d0df",
   "metadata": {},
   "outputs": [],
   "source": [
    "def router_function(state: MessagesState):\n",
    "    message = state[\"messages\"]\n",
    "    last_message = message[-1]\n",
    "\n",
    "    if last_message.tool_calls:\n",
    "        return \"tools\"\n",
    "    return END\n"
   ]
  },
  {
   "cell_type": "code",
   "execution_count": 69,
   "id": "24a76991",
   "metadata": {},
   "outputs": [
    {
     "data": {
      "text/plain": [
       "[StructuredTool(name='search', description='this is my custom tool for searching a weather', args_schema=<class 'langchain_core.utils.pydantic.search'>, func=<function search at 0x0000012FEEF27880>)]"
      ]
     },
     "execution_count": 69,
     "metadata": {},
     "output_type": "execute_result"
    }
   ],
   "source": [
    "tools"
   ]
  },
  {
   "cell_type": "code",
   "execution_count": 79,
   "id": "f2c3fe18",
   "metadata": {},
   "outputs": [],
   "source": [
    "workflow2 = StateGraph(MessagesState)"
   ]
  },
  {
   "cell_type": "code",
   "execution_count": 80,
   "id": "92cc8036",
   "metadata": {},
   "outputs": [
    {
     "data": {
      "text/plain": [
       "<langgraph.graph.state.StateGraph at 0x12feeaaa330>"
      ]
     },
     "execution_count": 80,
     "metadata": {},
     "output_type": "execute_result"
    }
   ],
   "source": [
    "workflow2.add_node(\"llmwithtool\",call_model)"
   ]
  },
  {
   "cell_type": "code",
   "execution_count": 81,
   "id": "3da93e04",
   "metadata": {},
   "outputs": [],
   "source": [
    "tool_node = ToolNode(tools)"
   ]
  },
  {
   "cell_type": "code",
   "execution_count": 100,
   "id": "999e60c0",
   "metadata": {},
   "outputs": [
    {
     "data": {
      "text/plain": [
       "tools(tags=None, recurse=True, explode_args=False, func_accepts_config=True, func_accepts={'store': ('__pregel_store', None)}, tools_by_name={'search': StructuredTool(name='search', description='this is my custom tool for searching a weather', args_schema=<class 'langchain_core.utils.pydantic.search'>, func=<function search at 0x0000012FEEF27880>)}, tool_to_state_args={'search': {}}, tool_to_store_arg={'search': None}, handle_tool_errors=True, messages_key='messages')"
      ]
     },
     "execution_count": 100,
     "metadata": {},
     "output_type": "execute_result"
    }
   ],
   "source": [
    "tool_node"
   ]
  },
  {
   "cell_type": "code",
   "execution_count": 82,
   "id": "1ea785fd",
   "metadata": {},
   "outputs": [
    {
     "data": {
      "text/plain": [
       "<langgraph.graph.state.StateGraph at 0x12feeaaa330>"
      ]
     },
     "execution_count": 82,
     "metadata": {},
     "output_type": "execute_result"
    }
   ],
   "source": [
    "workflow2.add_node(\"mytools\", tool_node)"
   ]
  },
  {
   "cell_type": "code",
   "execution_count": 83,
   "id": "6a0d77ba",
   "metadata": {},
   "outputs": [
    {
     "data": {
      "text/plain": [
       "<langgraph.graph.state.StateGraph at 0x12feeaaa330>"
      ]
     },
     "execution_count": 83,
     "metadata": {},
     "output_type": "execute_result"
    }
   ],
   "source": [
    "workflow2.add_edge(START, \"llmwithtool\")"
   ]
  },
  {
   "cell_type": "code",
   "execution_count": 84,
   "id": "f1c8370b",
   "metadata": {},
   "outputs": [
    {
     "data": {
      "text/plain": [
       "<langgraph.graph.state.StateGraph at 0x12feeaaa330>"
      ]
     },
     "execution_count": 84,
     "metadata": {},
     "output_type": "execute_result"
    }
   ],
   "source": [
    "workflow2.add_conditional_edges(\"llmwithtool\",\n",
    "                                router_function,\n",
    "                                {\"tools\": \"mytools\",\n",
    "                                END: END})"
   ]
  },
  {
   "cell_type": "code",
   "execution_count": 85,
   "id": "ae02b1ea",
   "metadata": {},
   "outputs": [],
   "source": [
    "app2 = workflow2.compile()"
   ]
  },
  {
   "cell_type": "code",
   "execution_count": 86,
   "id": "557dd823",
   "metadata": {},
   "outputs": [
    {
     "data": {
      "image/png": "[encoded data removed]",
      "text/plain": [
       "<IPython.core.display.Image object>"
      ]
     },
     "metadata": {},
     "output_type": "display_data"
    }
   ],
   "source": [
    "from IPython.display import Image, display\n",
    "display(Image(app2.get_graph().draw_mermaid_png()))"
   ]
  },
  {
   "cell_type": "code",
   "execution_count": 87,
   "id": "de201db7",
   "metadata": {},
   "outputs": [],
   "source": [
    "response=app2.invoke({\"messages\":[\"what is a weather in bengraluru?\"]})\n"
   ]
  },
  {
   "cell_type": "code",
   "execution_count": 88,
   "id": "9028f238",
   "metadata": {},
   "outputs": [
    {
     "data": {
      "text/plain": [
       "{'messages': [HumanMessage(content='what is a weather in bengraluru?', additional_kwargs={}, response_metadata={}, id='37f3595e-37f9-4344-b56c-e40e1efef6ff'),\n",
       "  AIMessage(content='', additional_kwargs={'reasoning_content': 'Okay, so the user is asking about the weather in Bengaluru. I need to figure out the best way to help them. They mentioned using a tool called \"search\" which is designed for weather searching. Let me recall the tool\\'s parameters. It requires a \"query\" parameter, which is a string. \\n\\nI should format the query as \"weather in Bengaluru\" to get accurate results. Let me make sure the JSON structure is correct. The function name should be \"search\" and the arguments should have the query as \"weather in Bengaluru\". \\n\\nI think that\\'s all. Let me put it together.\\n', 'tool_calls': [{'id': 'vbc0sv7f6', 'function': {'arguments': '{\"query\":\"weather in Bengaluru\"}', 'name': 'search'}, 'type': 'function'}]}, response_metadata={'token_usage': {'completion_tokens': 152, 'prompt_tokens': 135, 'total_tokens': 287, 'completion_time': 0.689178045, 'prompt_time': 0.01632076, 'queue_time': 0.20704459, 'total_time': 0.705498805}, 'model_name': 'deepseek-r1-distill-llama-70b', 'system_fingerprint': 'fp_76307ac09b', 'finish_reason': 'tool_calls', 'logprobs': None}, id='run--3a4fe214-f626-43a6-9979-2eb152590308-0', tool_calls=[{'name': 'search', 'args': {'query': 'weather in Bengaluru'}, 'id': 'vbc0sv7f6', 'type': 'tool_call'}], usage_metadata={'input_tokens': 135, 'output_tokens': 152, 'total_tokens': 287}),\n",
       "  ToolMessage(content='the temp is 25 degree celsius', name='search', id='cf9df022-5e44-4ee5-a048-b399656fb3c4', tool_call_id='vbc0sv7f6')]}"
      ]
     },
     "execution_count": 88,
     "metadata": {},
     "output_type": "execute_result"
    }
   ],
   "source": [
    "response"
   ]
  },
  {
   "cell_type": "code",
   "execution_count": 89,
   "id": "f06b4bef",
   "metadata": {},
   "outputs": [
    {
     "data": {
      "text/plain": [
       "'the temp is 25 degree celsius'"
      ]
     },
     "execution_count": 89,
     "metadata": {},
     "output_type": "execute_result"
    }
   ],
   "source": [
    "response[\"messages\"][-1].content\n"
   ]
  },
  {
   "cell_type": "code",
   "execution_count": 90,
   "id": "dfe27621",
   "metadata": {},
   "outputs": [
    {
     "data": {
      "text/plain": [
       "{'messages': [HumanMessage(content='what is a weather in delhi?', additional_kwargs={}, response_metadata={}, id='d8d730a4-973d-4a2d-a744-65b8336d1d37'),\n",
       "  AIMessage(content='', additional_kwargs={'reasoning_content': 'Okay, the user is asking about the weather in Delhi. I need to use the provided tool to find this information. The tool is called \"search\" and it requires a query parameter. I\\'ll structure the function call with the function name as \"search\" and the arguments as a JSON object containing the query. The query should be \"weather in Delhi\" to get the relevant results.\\n', 'tool_calls': [{'id': 'pjf4z1dab', 'function': {'arguments': '{\"query\":\"weather in Delhi\"}', 'name': 'search'}, 'type': 'function'}]}, response_metadata={'token_usage': {'completion_tokens': 103, 'prompt_tokens': 133, 'total_tokens': 236, 'completion_time': 0.453165825, 'prompt_time': 0.016388549, 'queue_time': 0.205390608, 'total_time': 0.469554374}, 'model_name': 'deepseek-r1-distill-llama-70b', 'system_fingerprint': 'fp_76307ac09b', 'finish_reason': 'tool_calls', 'logprobs': None}, id='run--02fa3bad-9a0e-4bb0-82ff-55e32cca38cb-0', tool_calls=[{'name': 'search', 'args': {'query': 'weather in Delhi'}, 'id': 'pjf4z1dab', 'type': 'tool_call'}], usage_metadata={'input_tokens': 133, 'output_tokens': 103, 'total_tokens': 236}),\n",
       "  ToolMessage(content='the temp is 45 degree celsius', name='search', id='9f117609-f369-402e-8e60-ff2d00eff216', tool_call_id='pjf4z1dab')]}"
      ]
     },
     "execution_count": 90,
     "metadata": {},
     "output_type": "execute_result"
    }
   ],
   "source": [
    "app2.invoke({\"messages\":[\"what is a weather in delhi?\"]})"
   ]
  },
  {
   "cell_type": "code",
   "execution_count": 91,
   "id": "1e6436f7",
   "metadata": {},
   "outputs": [
    {
     "data": {
      "text/plain": [
       "{'messages': [HumanMessage(content='hi how are you?', additional_kwargs={}, response_metadata={}, id='501ffadf-0b02-4984-b91e-5d6c54a899fb'),\n",
       "  AIMessage(content=\"Hello! I'm just a virtual assistant, so I don't have feelings, but I'm here and ready to help you with whatever you need. How can I assist you today?\", additional_kwargs={'reasoning_content': 'Alright, the user greeted me with \"hi how are you?\" which is a friendly opening. Since I\\'m an AI, I don\\'t have feelings, but I should respond politely. I want to keep the conversation going, so I\\'ll ask them how I can assist them today. That should encourage them to share what they need help with.\\n'}, response_metadata={'token_usage': {'completion_tokens': 111, 'prompt_tokens': 130, 'total_tokens': 241, 'completion_time': 0.499527957, 'prompt_time': 0.008394748, 'queue_time': 0.212769711, 'total_time': 0.507922705}, 'model_name': 'deepseek-r1-distill-llama-70b', 'system_fingerprint': 'fp_76307ac09b', 'finish_reason': 'stop', 'logprobs': None}, id='run--6788f849-f4d4-4243-93f3-34e5ea869710-0', usage_metadata={'input_tokens': 130, 'output_tokens': 111, 'total_tokens': 241})]}"
      ]
     },
     "execution_count": 91,
     "metadata": {},
     "output_type": "execute_result"
    }
   ],
   "source": [
    "app2.invoke({\"messages\":[\"hi how are you?\"]})"
   ]
  },
  {
   "cell_type": "markdown",
   "id": "710368e5",
   "metadata": {},
   "source": [
    "### Handling multi tool calls"
   ]
  },
  {
   "cell_type": "code",
   "execution_count": 92,
   "id": "a9693ec0",
   "metadata": {},
   "outputs": [
    {
     "name": "stderr",
     "output_type": "stream",
     "text": [
      "Adding an edge to a graph that has already been compiled. This will not be reflected in the compiled graph.\n"
     ]
    },
    {
     "data": {
      "text/plain": [
       "<langgraph.graph.state.StateGraph at 0x12feeaaa330>"
      ]
     },
     "execution_count": 92,
     "metadata": {},
     "output_type": "execute_result"
    }
   ],
   "source": [
    "workflow2.add_edge(\"mytools\", \"llmwithtool\")"
   ]
  },
  {
   "cell_type": "code",
   "execution_count": 93,
   "id": "fab236bf",
   "metadata": {},
   "outputs": [
    {
     "data": {
      "image/png": "[encoded data removed]",
      "text/plain": [
       "<langgraph.graph.state.CompiledStateGraph object at 0x0000012FEEE011D0>"
      ]
     },
     "execution_count": 93,
     "metadata": {},
     "output_type": "execute_result"
    }
   ],
   "source": [
    "app2 = workflow2.compile()\n",
    "app2"
   ]
  },
  {
   "cell_type": "code",
   "execution_count": 95,
   "id": "f9c83dbc",
   "metadata": {},
   "outputs": [
    {
     "name": "stdout",
     "output_type": "stream",
     "text": [
      "here is output from llmwithtool\n",
      "_______\n",
      "{'messages': [AIMessage(content='', additional_kwargs={'reasoning_content': 'Okay, so the user is asking about the weather in Delhi and also for some good hotels in North Delhi. Let me break this down. First, they want to know the current weather conditions in Delhi. I remember that the tool available is called \"search\" and it\\'s used for weather searches. So I should use that tool with the query \"weather in Delhi.\"\\n\\nNext, they\\'re looking for hotels in North Delhi. I don\\'t have a specific tool for hotels, but maybe the search tool can help with that as well. I can try using the search tool again with the query \"good hotels in North Delhi\" to find some options.\\n\\nI should make sure to call the search tool twice: once for the weather and once for the hotels. That way, I can provide both pieces of information the user is asking for. Let me structure the JSON for both calls accordingly.\\n', 'tool_calls': [{'id': 'c7htjy78q', 'function': {'arguments': '{\"query\":\"weather in Delhi\"}', 'name': 'search'}, 'type': 'function'}]}, response_metadata={'token_usage': {'completion_tokens': 233, 'prompt_tokens': 145, 'total_tokens': 378, 'completion_time': 0.913424748, 'prompt_time': 0.016907493, 'queue_time': 0.42242446300000003, 'total_time': 0.930332241}, 'model_name': 'deepseek-r1-distill-llama-70b', 'system_fingerprint': 'fp_76307ac09b', 'finish_reason': 'tool_calls', 'logprobs': None}, id='run--1d180508-a706-42b5-8392-aa8a99f51d36-0', tool_calls=[{'name': 'search', 'args': {'query': 'weather in Delhi'}, 'id': 'c7htjy78q', 'type': 'tool_call'}], usage_metadata={'input_tokens': 145, 'output_tokens': 233, 'total_tokens': 378})]}\n",
      "\n",
      "\n",
      "here is output from mytools\n",
      "_______\n",
      "{'messages': [ToolMessage(content='the temp is 45 degree celsius', name='search', id='a17962c5-6eb3-49ac-a4b2-0606d0b31e33', tool_call_id='c7htjy78q')]}\n",
      "\n",
      "\n",
      "here is output from llmwithtool\n",
      "_______\n",
      "{'messages': [AIMessage(content=\"It's currently 45 degrees Celsius in Delhi. That's quite hot! For staying in North Delhi, here are some good hotel recommendations:\\n\\n1. **The Oberoi, New Delhi** - A luxurious option with excellent service and amenities.\\n2. **The Leela Palace New Delhi** - Offers a grand experience with top-notch facilities.\\n3. **The Grand New Delhi** - A comfortable and well-equipped hotel for a pleasant stay.\\n\\nLet me know if you'd like more details or further recommendations!\", additional_kwargs={'reasoning_content': \"Alright, so the user initially asked about the weather in Delhi and some good hotels in North Delhi. I used the search tool to find the weather, which came back as 45 degrees Celsius. That's really hot, so I need to make sure my recommendations consider the heat.\\n\\nFirst, I should acknowledge the high temperature to show empathy. Then, for the hotels, I should focus on ones that are not just good but also provide comfort in such heat. Maybe suggest hotels with good air conditioning, pools, or spas to help the user relax.\\n\\nI also need to keep the response friendly and helpful, offering further assistance in case they need more details.\\n\"}, response_metadata={'token_usage': {'completion_tokens': 237, 'prompt_tokens': 204, 'total_tokens': 441, 'completion_time': 1.092593515, 'prompt_time': 0.012605501, 'queue_time': 0.202382304, 'total_time': 1.105199016}, 'model_name': 'deepseek-r1-distill-llama-70b', 'system_fingerprint': 'fp_76307ac09b', 'finish_reason': 'stop', 'logprobs': None}, id='run--43af5938-25ba-4ebb-b9f9-96932000dd2e-0', usage_metadata={'input_tokens': 204, 'output_tokens': 237, 'total_tokens': 441})]}\n",
      "\n",
      "\n"
     ]
    }
   ],
   "source": [
    "for output in app2.stream({\"messages\":[\"what is a weather in delhi can you tell me some good hotel for staying in north delhi\"]}):\n",
    "    for key,value in output.items():\n",
    "        print(f\"here is output from {key}\")\n",
    "        print(\"_______\")\n",
    "        print(value)\n",
    "        print(\"\\n\")"
   ]
  },
  {
   "cell_type": "markdown",
   "id": "909ba793",
   "metadata": {},
   "source": [
    "## Configuring Memory in LangGraph"
   ]
  },
  {
   "cell_type": "code",
   "execution_count": 97,
   "id": "61b8cae2",
   "metadata": {},
   "outputs": [],
   "source": [
    "from langgraph.checkpoint.memory import MemorySaver"
   ]
  },
  {
   "cell_type": "code",
   "execution_count": 98,
   "id": "3cdabb45",
   "metadata": {},
   "outputs": [],
   "source": [
    "memory = MemorySaver()"
   ]
  },
  {
   "cell_type": "code",
   "execution_count": 99,
   "id": "7c267820",
   "metadata": {},
   "outputs": [],
   "source": [
    "workflow3 = StateGraph(MessagesState)"
   ]
  },
  {
   "cell_type": "code",
   "execution_count": 101,
   "id": "5a9ec42f",
   "metadata": {},
   "outputs": [
    {
     "data": {
      "text/plain": [
       "<langgraph.graph.state.StateGraph at 0x12fec15b530>"
      ]
     },
     "execution_count": 101,
     "metadata": {},
     "output_type": "execute_result"
    }
   ],
   "source": [
    "workflow3.add_node(\"llmwithtool\", call_model)\n",
    "workflow3.add_node(\"mytools\", tool_node)\n",
    "\n",
    "\n",
    "workflow3.add_edge(START, \"llmwithtool\")\n",
    "workflow3.add_conditional_edges(\"llmwithtool\",\n",
    "                                router_function,\n",
    "                                {\"tools\": \"mytools\",\n",
    "                                END: END})\n",
    "workflow3.add_edge(\"mytools\", \"llmwithtool\")"
   ]
  },
  {
   "cell_type": "code",
   "execution_count": 103,
   "id": "a72cedb4",
   "metadata": {},
   "outputs": [
    {
     "data": {
      "image/png": "[encoded data removed]",
      "text/plain": [
       "<langgraph.graph.state.CompiledStateGraph object at 0x0000012FEE5C2490>"
      ]
     },
     "execution_count": 103,
     "metadata": {},
     "output_type": "execute_result"
    }
   ],
   "source": [
    "app3 = workflow3.compile(checkpointer=memory)\n",
    "app3"
   ]
  },
  {
   "cell_type": "code",
   "execution_count": 104,
   "id": "c4d99138",
   "metadata": {},
   "outputs": [],
   "source": [
    "config = {\"configurable\": {\"thread_id\": \"1\"}}"
   ]
  },
  {
   "cell_type": "code",
   "execution_count": 105,
   "id": "0514cdbe",
   "metadata": {},
   "outputs": [],
   "source": [
    "events = app3.stream(\n",
    "    {\"messages\":[\"what is a weather in delhi can you tell me some good hotel for staying in north delhi\"]}, \n",
    "    config=config, \n",
    "    stream_mode=\"values\"\n",
    "    )"
   ]
  },
  {
   "cell_type": "code",
   "execution_count": 106,
   "id": "fe700dff",
   "metadata": {},
   "outputs": [
    {
     "name": "stdout",
     "output_type": "stream",
     "text": [
      "================================\u001b[1m Human Message \u001b[0m=================================\n",
      "\n",
      "what is a weather in delhi can you tell me some good hotel for staying in north delhi\n",
      "==================================\u001b[1m Ai Message \u001b[0m==================================\n",
      "Tool Calls:\n",
      "  search (2czaentn2)\n",
      " Call ID: 2czaentn2\n",
      "  Args:\n",
      "    query: Delhi weather\n",
      "=================================\u001b[1m Tool Message \u001b[0m=================================\n",
      "Name: search\n",
      "\n",
      "the temp is 45 degree celsius\n",
      "==================================\u001b[1m Ai Message \u001b[0m==================================\n",
      "\n",
      "Here are some good hotels in North Delhi for your stay:\n",
      "\n",
      "1. **Hotel City Park** - Located in Pitampura, it offers comfortable rooms and good service.\n",
      "2. **Hotel Sparrow** - Situated in Rohini, it provides a cozy stay with modern amenities.\n",
      "3. **Hotel Regent** - In Lawrence Road, it’s known for its warm hospitality and clean rooms.\n",
      "4. **Hotel Vogue** - Located in Shalimar Bagh, it offers a pleasant stay with a nice ambiance.\n",
      "5. **Hotel Jivitesh** - In Civil Lines, it’s a popular choice for its convenient location and good service.\n",
      "\n",
      "Let me know if you need more details!\n"
     ]
    }
   ],
   "source": [
    "for event in events:\n",
    "    event[\"messages\"][-1].pretty_print()"
   ]
  },
  {
   "cell_type": "code",
   "execution_count": 111,
   "id": "cd10d943",
   "metadata": {},
   "outputs": [],
   "source": [
    "events = app3.stream(\n",
    "    {\"messages\":[\"what is a weather in Indore can you tell me some good hotel for staying in Indore\"]}, \n",
    "    config=config, \n",
    "    stream_mode=\"values\"\n",
    "    )"
   ]
  },
  {
   "cell_type": "code",
   "execution_count": 112,
   "id": "47ce2332",
   "metadata": {},
   "outputs": [
    {
     "name": "stdout",
     "output_type": "stream",
     "text": [
      "================================\u001b[1m Human Message \u001b[0m=================================\n",
      "\n",
      "what is a weather in Indore can you tell me some good hotel for staying in Indore\n",
      "==================================\u001b[1m Ai Message \u001b[0m==================================\n",
      "Tool Calls:\n",
      "  search (0a2q02644)\n",
      " Call ID: 0a2q02644\n",
      "  Args:\n",
      "    query: Indore weather and hotels\n",
      "=================================\u001b[1m Tool Message \u001b[0m=================================\n",
      "Name: search\n",
      "\n",
      "the temp is 25 degree celsius\n",
      "==================================\u001b[1m Ai Message \u001b[0m==================================\n",
      "\n",
      "The current temperature in Indore is **25 degrees Celsius**. Here are some good hotels in Indore for your stay:\n",
      "\n",
      "### Luxury Hotels:\n",
      "1. **Taj Mahal Palace** - Known for its luxurious amenities and excellent service.\n",
      "2. **JW Marriott Hotel Indore** - Offers a blend of comfort and elegance with modern facilities.\n",
      "\n",
      "### Mid-Range Hotels:\n",
      "1. **Lemon Tree Hotel Indore** - A popular choice for its convenient location and good service.\n",
      "2. **Hotel Sayaji** - Provides comfortable stays with modern amenities and a great ambiance.\n",
      "\n",
      "### Budget-Friendly Hotels:\n",
      "1. **Hotel Purva** - Offers affordable stays with basic amenities.\n",
      "2. **Hotel Surya** - A budget-friendly option with a good location.\n",
      "\n",
      "When choosing a hotel, consider factors like proximity to landmarks, availability of Wi-Fi, and specific amenities that are important to you. Always check recent reviews and contact the hotel directly for the most up-to-date information.\n",
      "\n",
      "If you have more specific needs or require further details about any of these hotels, feel free to ask!\n"
     ]
    }
   ],
   "source": [
    "for event in events:\n",
    "    event[\"messages\"][-1].pretty_print()"
   ]
  },
  {
   "cell_type": "code",
   "execution_count": 113,
   "id": "2f81af65",
   "metadata": {},
   "outputs": [
    {
     "data": {
      "text/plain": [
       "{'configurable': {'thread_id': '1'}}"
      ]
     },
     "execution_count": 113,
     "metadata": {},
     "output_type": "execute_result"
    }
   ],
   "source": [
    "config"
   ]
  },
  {
   "cell_type": "code",
   "execution_count": 114,
   "id": "c4804f98",
   "metadata": {},
   "outputs": [
    {
     "data": {
      "text/plain": [
       "{'v': 4,\n",
       " 'ts': '2025-07-17T23:37:26.346722+00:00',\n",
       " 'id': '1f06366f-ef06-679c-800b-e1b9c1838769',\n",
       " 'channel_versions': {'__start__': '00000000000000000000000000000010.0.6990874921256403',\n",
       "  'messages': '00000000000000000000000000000013.0.03220894608356217',\n",
       "  'branch:to:llmwithtool': '00000000000000000000000000000013.0.03220894608356217',\n",
       "  'branch:to:mytools': '00000000000000000000000000000012.0.6815593899410051'},\n",
       " 'versions_seen': {'__input__': {},\n",
       "  '__start__': {'__start__': '00000000000000000000000000000009.0.6598633483787762'},\n",
       "  'llmwithtool': {'branch:to:llmwithtool': '00000000000000000000000000000012.0.6815593899410051'},\n",
       "  'mytools': {'branch:to:mytools': '00000000000000000000000000000011.0.6271894556201686'}},\n",
       " 'channel_values': {'messages': [HumanMessage(content='what is a weather in delhi can you tell me some good hotel for staying in north delhi', additional_kwargs={}, response_metadata={}, id='caa6ced8-0e2c-4229-9bae-62d57aa4f768'),\n",
       "   AIMessage(content='', additional_kwargs={'reasoning_content': 'Alright, the user is asking about the weather in Delhi and wants some good hotels in North Delhi. First, I need to figure out the weather part. Since I have a tool called \"search\" that\\'s designed for weather, I\\'ll use that. I\\'ll call the search function with \"Delhi weather\" as the query to get the current weather information.\\n\\nNext, for the hotels in North Delhi, the user didn\\'t specify any particular preferences, so I\\'ll need to make some assumptions. They might be looking for options in different price ranges—maybe some budget-friendly and some more upscale choices. I\\'ll list a few well-known hotels in North Delhi, including their addresses and contact numbers to make it easy for the user.\\n\\nI should present the information clearly, separating the weather and hotel recommendations. Making sure the response is helpful and covers both parts of their query. I\\'ll keep the tone friendly and offer further assistance in case they need more details.\\n', 'tool_calls': [{'id': '2czaentn2', 'function': {'arguments': '{\"query\":\"Delhi weather\"}', 'name': 'search'}, 'type': 'function'}]}, response_metadata={'token_usage': {'completion_tokens': 356, 'prompt_tokens': 145, 'total_tokens': 501, 'completion_time': 1.755783267, 'prompt_time': 0.011249185, 'queue_time': 0.202155575, 'total_time': 1.767032452}, 'model_name': 'deepseek-r1-distill-llama-70b', 'system_fingerprint': 'fp_76307ac09b', 'finish_reason': 'tool_calls', 'logprobs': None}, id='run--c44378dd-30ab-488c-924a-421ae70cf923-0', tool_calls=[{'name': 'search', 'args': {'query': 'Delhi weather'}, 'id': '2czaentn2', 'type': 'tool_call'}], usage_metadata={'input_tokens': 145, 'output_tokens': 356, 'total_tokens': 501}),\n",
       "   ToolMessage(content='the temp is 45 degree celsius', name='search', id='059bb423-d01f-4cce-b97a-d56e04172d9b', tool_call_id='2czaentn2'),\n",
       "   AIMessage(content='Here are some good hotels in North Delhi for your stay:\\n\\n1. **Hotel City Park** - Located in Pitampura, it offers comfortable rooms and good service.\\n2. **Hotel Sparrow** - Situated in Rohini, it provides a cozy stay with modern amenities.\\n3. **Hotel Regent** - In Lawrence Road, it’s known for its warm hospitality and clean rooms.\\n4. **Hotel Vogue** - Located in Shalimar Bagh, it offers a pleasant stay with a nice ambiance.\\n5. **Hotel Jivitesh** - In Civil Lines, it’s a popular choice for its convenient location and good service.\\n\\nLet me know if you need more details!', additional_kwargs={'reasoning_content': \"Alright, let's see. The user initially asked about the weather in Delhi and for some good hotels in North Delhi. I used the search tool to find the weather, which came back as 45 degrees Celsius. \\n\\nNow, the user is following up, but they didn't explicitly ask for hotels again. Maybe they're expecting me to provide the hotel information next. Since the weather is quite hot, I should recommend hotels that offer good amenities to beat the heat, like pools or spas.\\n\\nI need to make sure the recommendations are in North Delhi. I'll list a few well-rated options, mentioning their locations and amenities briefly. Keeping it friendly and helpful is key here.\\n\"}, response_metadata={'token_usage': {'completion_tokens': 282, 'prompt_tokens': 203, 'total_tokens': 485, 'completion_time': 1.479501742, 'prompt_time': 0.021007049, 'queue_time': 0.202275019, 'total_time': 1.5005087910000001}, 'model_name': 'deepseek-r1-distill-llama-70b', 'system_fingerprint': 'fp_76307ac09b', 'finish_reason': 'stop', 'logprobs': None}, id='run--f83e42b9-2165-4903-8dea-d6dea4dd695d-0', usage_metadata={'input_tokens': 203, 'output_tokens': 282, 'total_tokens': 485}),\n",
       "   HumanMessage(content='what is a weather in Indore can you tell me some good hotel for staying in Indore', additional_kwargs={}, response_metadata={}, id='c891cf60-2c54-4567-b004-886bb3313acc'),\n",
       "   AIMessage(content=\"I'm unable to provide real-time weather information, but you can easily find the current weather in Indore using a weather app or website like AccuWeather, Weather.com, or the Indian Meteorological Department's official site.\\n\\nAs for hotels in Indore, here are some recommendations across different categories:\\n\\n1. **Luxury:**\\n   - **Taj Mahal Palace:** Known for its luxurious amenities and excellent service.\\n   - **The Grand Bhagwati Palace:** Offers a blend of comfort and elegance.\\n\\n2. **Mid-Range:**\\n   - **Hotel Apna Palace:** A popular choice for its convenient location and good service.\\n   - **Hotel Shreemaya:** Provides comfortable stays with modern amenities.\\n\\n3. **Budget-Friendly:**\\n   - **Hotel Purva:** Offers affordable stays with basic amenities.\\n   - **Hotel Surya:** A budget-friendly option with a good location.\\n\\nWhen choosing a hotel, consider factors like proximity to landmarks, availability of Wi-Fi, and specific amenities that are important to you. Always check recent reviews and contact the hotel directly for the most up-to-date information.\\n\\nIf you have more specific needs or require further details about any of these hotels, feel free to ask!\", additional_kwargs={'reasoning_content': \"Alright, so I need to help the user with two things: first, find out the weather in Indore, and second, recommend some good hotels for staying there. Since I'm just starting out, I'm not entirely sure how to go about this, but I'll try my best.\\n\\nFirst, the weather in Indore. I know that Indore is a city in India, and the weather can vary depending on the time of year. But I don't have real-time data, so I can't give the exact current temperature or conditions. Maybe I can suggest ways the user can find out the current weather. They could use a weather app, check online, or maybe even contact a local service for the most accurate information.\\n\\nNext, recommending hotels in Indore. I think I should consider different price ranges and locations to make it useful for various travelers. Maybe I can list a few well-known hotels that are popular among visitors. I should probably include luxury options, mid-range, and budget-friendly choices to cover all bases. I'll need to mention the names, perhaps their locations, and a brief description of what makes them a good choice.\\n\\nWait, I should make sure the information is accurate. I might be recalling some hotels I've heard about, but I'm not certain if they are still in operation or if their quality has changed. It might be better to suggest that the user checks recent reviews or contacts the hotels directly for the most up-to-date information.\\n\\nAlso, I should consider the user's possible preferences. They might be looking for something specific like proximity to certain landmarks, amenities like Wi-Fi, or services like room service. Since I don't have that information, I can advise them on how to choose a hotel that fits their needs.\\n\\nI think I'll structure my response by first addressing the weather and then providing a list of hotels with some tips on how to choose the best one for them. I'll keep the language simple and conversational, avoiding any technical jargon so it's easy to understand.\\n\\nMaybe I should also offer to help further if they have more specific needs or if they want more details about any of the hotels I mention. That way, they feel supported beyond just the initial recommendations.\\n\\nIn summary, I'll start by explaining that I can't provide real-time weather data but suggest ways they can find it. Then, I'll list some hotels in Indore across different categories and provide tips on how to choose the best one based on their preferences. I'll keep the tone friendly and helpful to make the user feel assisted.\\n\"}, response_metadata={'token_usage': {'completion_tokens': 772, 'prompt_tokens': 366, 'total_tokens': 1138, 'completion_time': 3.083960086, 'prompt_time': 0.030649926, 'queue_time': 0.22617395899999998, 'total_time': 3.114610012}, 'model_name': 'deepseek-r1-distill-llama-70b', 'system_fingerprint': 'fp_76307ac09b', 'finish_reason': 'stop', 'logprobs': None}, id='run--c4befe23-2d16-4f71-a7a4-a8f5aa6f9088-0', usage_metadata={'input_tokens': 366, 'output_tokens': 772, 'total_tokens': 1138}),\n",
       "   HumanMessage(content='what is a weather in Indore can you tell me some good hotel for staying in Indore', additional_kwargs={}, response_metadata={}, id='4e00df8f-1647-479f-a0c1-a13c5997aa0b'),\n",
       "   AIMessage(content='', additional_kwargs={'reasoning_content': \"Alright, so the user is asking about the weather in Indore and wants some good hotels there. I remember in the previous conversation, they asked about Delhi's weather and hotels, and I provided a list. Now, they're repeating the same query but for Indore.\\n\\nFirst, I should check if I can provide real-time weather. But I can't access live data, so I'll have to let them know that. Maybe suggest reliable sources like weather apps or the Indian Meteorological Department's website.\\n\\nNext, for hotels in Indore, I need to categorize them into luxury, mid-range, and budget-friendly options. I'll list a few in each category, making sure to include well-known ones like Taj Mahal Palace for luxury and Hotel Apna Palace for mid-range. I should mention key amenities and locations to help them decide.\\n\\nI should also advise them to check recent reviews and contact the hotels directly for the latest info. Keeping the response friendly and helpful is important, so I'll end with an offer to provide more details if needed.\\n\", 'tool_calls': [{'id': '0a2q02644', 'function': {'arguments': '{\"query\":\"Indore weather and hotels\"}', 'name': 'search'}, 'type': 'function'}]}, response_metadata={'token_usage': {'completion_tokens': 236, 'prompt_tokens': 638, 'total_tokens': 874, 'completion_time': 1.05241032, 'prompt_time': 0.048708644, 'queue_time': 0.202747245, 'total_time': 1.101118964}, 'model_name': 'deepseek-r1-distill-llama-70b', 'system_fingerprint': 'fp_76307ac09b', 'finish_reason': 'tool_calls', 'logprobs': None}, id='run--7b90b7e0-c629-4006-950c-b65a53a6919f-0', tool_calls=[{'name': 'search', 'args': {'query': 'Indore weather and hotels'}, 'id': '0a2q02644', 'type': 'tool_call'}], usage_metadata={'input_tokens': 638, 'output_tokens': 236, 'total_tokens': 874}),\n",
       "   ToolMessage(content='the temp is 25 degree celsius', name='search', id='e66221a0-dff0-467f-a7e9-4e52504ee0cf', tool_call_id='0a2q02644'),\n",
       "   AIMessage(content='The current temperature in Indore is **25 degrees Celsius**. Here are some good hotels in Indore for your stay:\\n\\n### Luxury Hotels:\\n1. **Taj Mahal Palace** - Known for its luxurious amenities and excellent service.\\n2. **JW Marriott Hotel Indore** - Offers a blend of comfort and elegance with modern facilities.\\n\\n### Mid-Range Hotels:\\n1. **Lemon Tree Hotel Indore** - A popular choice for its convenient location and good service.\\n2. **Hotel Sayaji** - Provides comfortable stays with modern amenities and a great ambiance.\\n\\n### Budget-Friendly Hotels:\\n1. **Hotel Purva** - Offers affordable stays with basic amenities.\\n2. **Hotel Surya** - A budget-friendly option with a good location.\\n\\nWhen choosing a hotel, consider factors like proximity to landmarks, availability of Wi-Fi, and specific amenities that are important to you. Always check recent reviews and contact the hotel directly for the most up-to-date information.\\n\\nIf you have more specific needs or require further details about any of these hotels, feel free to ask!', additional_kwargs={'reasoning_content': 'Alright, the user is asking about the weather in Indore and for some good hotels there. I remember in the previous conversation, I couldn\\'t provide real-time weather, so I suggested using apps. But now, I have this tool that can help me search for the weather, which is great!\\n\\nI called the tool with the query \"Indore weather and hotels\". The tool responded with the temperature being 25 degrees Celsius. That\\'s a pleasant temperature, not too hot. \\n\\nNow, for the hotels, I need to provide a list. I\\'ll categorize them into luxury, mid-range, and budget-friendly options. I\\'ll mention popular names like Taj and Marriott for luxury. For mid-range, maybe some well-known chains like Lemon Tree or Sayaji. Budget options could include smaller, well-reviewed places.\\n\\nI should also add some tips, like checking reviews and locations, to help the user make a better decision. Making sure the information is clear and helpful.\\n'}, response_metadata={'token_usage': {'completion_tokens': 420, 'prompt_tokens': 698, 'total_tokens': 1118, 'completion_time': 1.5272727270000002, 'prompt_time': 0.053758779, 'queue_time': 0.202022248, 'total_time': 1.581031506}, 'model_name': 'deepseek-r1-distill-llama-70b', 'system_fingerprint': 'fp_76307ac09b', 'finish_reason': 'stop', 'logprobs': None}, id='run--6aa04cf0-48bb-4d59-bf05-b5f5d8cfeaf8-0', usage_metadata={'input_tokens': 698, 'output_tokens': 420, 'total_tokens': 1118})]}}"
      ]
     },
     "execution_count": 114,
     "metadata": {},
     "output_type": "execute_result"
    }
   ],
   "source": [
    "memory.get(config)"
   ]
  },
  {
   "cell_type": "code",
   "execution_count": 115,
   "id": "cedbd996",
   "metadata": {},
   "outputs": [],
   "source": [
    "events=app3.stream(\n",
    "    {\"messages\":[\"in which city the temp was 25 degree?\"]},config=config,stream_mode=\"values\"\n",
    "    )"
   ]
  },
  {
   "cell_type": "code",
   "execution_count": 116,
   "id": "4425c415",
   "metadata": {},
   "outputs": [
    {
     "name": "stdout",
     "output_type": "stream",
     "text": [
      "================================\u001b[1m Human Message \u001b[0m=================================\n",
      "\n",
      "in which city the temp was 25 degree?\n",
      "==================================\u001b[1m Ai Message \u001b[0m==================================\n",
      "\n",
      "The temperature of **25 degrees Celsius** was for **Indore**. Let me know if you need more details about Indore or any other assistance!\n"
     ]
    }
   ],
   "source": [
    "for event in events:\n",
    "    event[\"messages\"][-1].pretty_print()"
   ]
  },
  {
   "cell_type": "code",
   "execution_count": 117,
   "id": "ec344ef8",
   "metadata": {},
   "outputs": [
    {
     "data": {
      "text/plain": [
       "{'v': 4,\n",
       " 'ts': '2025-07-17T23:39:04.958223+00:00',\n",
       " 'id': '1f063673-9b75-640e-800e-aefb1c4fe8f2',\n",
       " 'channel_versions': {'__start__': '00000000000000000000000000000015.0.6863044718002425',\n",
       "  'messages': '00000000000000000000000000000016.0.524364838259091',\n",
       "  'branch:to:llmwithtool': '00000000000000000000000000000016.0.524364838259091',\n",
       "  'branch:to:mytools': '00000000000000000000000000000012.0.6815593899410051'},\n",
       " 'versions_seen': {'__input__': {},\n",
       "  '__start__': {'__start__': '00000000000000000000000000000014.0.924399137244661'},\n",
       "  'llmwithtool': {'branch:to:llmwithtool': '00000000000000000000000000000015.0.6863044718002425'},\n",
       "  'mytools': {'branch:to:mytools': '00000000000000000000000000000011.0.6271894556201686'}},\n",
       " 'channel_values': {'messages': [HumanMessage(content='what is a weather in delhi can you tell me some good hotel for staying in north delhi', additional_kwargs={}, response_metadata={}, id='caa6ced8-0e2c-4229-9bae-62d57aa4f768'),\n",
       "   AIMessage(content='', additional_kwargs={'reasoning_content': 'Alright, the user is asking about the weather in Delhi and wants some good hotels in North Delhi. First, I need to figure out the weather part. Since I have a tool called \"search\" that\\'s designed for weather, I\\'ll use that. I\\'ll call the search function with \"Delhi weather\" as the query to get the current weather information.\\n\\nNext, for the hotels in North Delhi, the user didn\\'t specify any particular preferences, so I\\'ll need to make some assumptions. They might be looking for options in different price ranges—maybe some budget-friendly and some more upscale choices. I\\'ll list a few well-known hotels in North Delhi, including their addresses and contact numbers to make it easy for the user.\\n\\nI should present the information clearly, separating the weather and hotel recommendations. Making sure the response is helpful and covers both parts of their query. I\\'ll keep the tone friendly and offer further assistance in case they need more details.\\n', 'tool_calls': [{'id': '2czaentn2', 'function': {'arguments': '{\"query\":\"Delhi weather\"}', 'name': 'search'}, 'type': 'function'}]}, response_metadata={'token_usage': {'completion_tokens': 356, 'prompt_tokens': 145, 'total_tokens': 501, 'completion_time': 1.755783267, 'prompt_time': 0.011249185, 'queue_time': 0.202155575, 'total_time': 1.767032452}, 'model_name': 'deepseek-r1-distill-llama-70b', 'system_fingerprint': 'fp_76307ac09b', 'finish_reason': 'tool_calls', 'logprobs': None}, id='run--c44378dd-30ab-488c-924a-421ae70cf923-0', tool_calls=[{'name': 'search', 'args': {'query': 'Delhi weather'}, 'id': '2czaentn2', 'type': 'tool_call'}], usage_metadata={'input_tokens': 145, 'output_tokens': 356, 'total_tokens': 501}),\n",
       "   ToolMessage(content='the temp is 45 degree celsius', name='search', id='059bb423-d01f-4cce-b97a-d56e04172d9b', tool_call_id='2czaentn2'),\n",
       "   AIMessage(content='Here are some good hotels in North Delhi for your stay:\\n\\n1. **Hotel City Park** - Located in Pitampura, it offers comfortable rooms and good service.\\n2. **Hotel Sparrow** - Situated in Rohini, it provides a cozy stay with modern amenities.\\n3. **Hotel Regent** - In Lawrence Road, it’s known for its warm hospitality and clean rooms.\\n4. **Hotel Vogue** - Located in Shalimar Bagh, it offers a pleasant stay with a nice ambiance.\\n5. **Hotel Jivitesh** - In Civil Lines, it’s a popular choice for its convenient location and good service.\\n\\nLet me know if you need more details!', additional_kwargs={'reasoning_content': \"Alright, let's see. The user initially asked about the weather in Delhi and for some good hotels in North Delhi. I used the search tool to find the weather, which came back as 45 degrees Celsius. \\n\\nNow, the user is following up, but they didn't explicitly ask for hotels again. Maybe they're expecting me to provide the hotel information next. Since the weather is quite hot, I should recommend hotels that offer good amenities to beat the heat, like pools or spas.\\n\\nI need to make sure the recommendations are in North Delhi. I'll list a few well-rated options, mentioning their locations and amenities briefly. Keeping it friendly and helpful is key here.\\n\"}, response_metadata={'token_usage': {'completion_tokens': 282, 'prompt_tokens': 203, 'total_tokens': 485, 'completion_time': 1.479501742, 'prompt_time': 0.021007049, 'queue_time': 0.202275019, 'total_time': 1.5005087910000001}, 'model_name': 'deepseek-r1-distill-llama-70b', 'system_fingerprint': 'fp_76307ac09b', 'finish_reason': 'stop', 'logprobs': None}, id='run--f83e42b9-2165-4903-8dea-d6dea4dd695d-0', usage_metadata={'input_tokens': 203, 'output_tokens': 282, 'total_tokens': 485}),\n",
       "   HumanMessage(content='what is a weather in Indore can you tell me some good hotel for staying in Indore', additional_kwargs={}, response_metadata={}, id='c891cf60-2c54-4567-b004-886bb3313acc'),\n",
       "   AIMessage(content=\"I'm unable to provide real-time weather information, but you can easily find the current weather in Indore using a weather app or website like AccuWeather, Weather.com, or the Indian Meteorological Department's official site.\\n\\nAs for hotels in Indore, here are some recommendations across different categories:\\n\\n1. **Luxury:**\\n   - **Taj Mahal Palace:** Known for its luxurious amenities and excellent service.\\n   - **The Grand Bhagwati Palace:** Offers a blend of comfort and elegance.\\n\\n2. **Mid-Range:**\\n   - **Hotel Apna Palace:** A popular choice for its convenient location and good service.\\n   - **Hotel Shreemaya:** Provides comfortable stays with modern amenities.\\n\\n3. **Budget-Friendly:**\\n   - **Hotel Purva:** Offers affordable stays with basic amenities.\\n   - **Hotel Surya:** A budget-friendly option with a good location.\\n\\nWhen choosing a hotel, consider factors like proximity to landmarks, availability of Wi-Fi, and specific amenities that are important to you. Always check recent reviews and contact the hotel directly for the most up-to-date information.\\n\\nIf you have more specific needs or require further details about any of these hotels, feel free to ask!\", additional_kwargs={'reasoning_content': \"Alright, so I need to help the user with two things: first, find out the weather in Indore, and second, recommend some good hotels for staying there. Since I'm just starting out, I'm not entirely sure how to go about this, but I'll try my best.\\n\\nFirst, the weather in Indore. I know that Indore is a city in India, and the weather can vary depending on the time of year. But I don't have real-time data, so I can't give the exact current temperature or conditions. Maybe I can suggest ways the user can find out the current weather. They could use a weather app, check online, or maybe even contact a local service for the most accurate information.\\n\\nNext, recommending hotels in Indore. I think I should consider different price ranges and locations to make it useful for various travelers. Maybe I can list a few well-known hotels that are popular among visitors. I should probably include luxury options, mid-range, and budget-friendly choices to cover all bases. I'll need to mention the names, perhaps their locations, and a brief description of what makes them a good choice.\\n\\nWait, I should make sure the information is accurate. I might be recalling some hotels I've heard about, but I'm not certain if they are still in operation or if their quality has changed. It might be better to suggest that the user checks recent reviews or contacts the hotels directly for the most up-to-date information.\\n\\nAlso, I should consider the user's possible preferences. They might be looking for something specific like proximity to certain landmarks, amenities like Wi-Fi, or services like room service. Since I don't have that information, I can advise them on how to choose a hotel that fits their needs.\\n\\nI think I'll structure my response by first addressing the weather and then providing a list of hotels with some tips on how to choose the best one for them. I'll keep the language simple and conversational, avoiding any technical jargon so it's easy to understand.\\n\\nMaybe I should also offer to help further if they have more specific needs or if they want more details about any of the hotels I mention. That way, they feel supported beyond just the initial recommendations.\\n\\nIn summary, I'll start by explaining that I can't provide real-time weather data but suggest ways they can find it. Then, I'll list some hotels in Indore across different categories and provide tips on how to choose the best one based on their preferences. I'll keep the tone friendly and helpful to make the user feel assisted.\\n\"}, response_metadata={'token_usage': {'completion_tokens': 772, 'prompt_tokens': 366, 'total_tokens': 1138, 'completion_time': 3.083960086, 'prompt_time': 0.030649926, 'queue_time': 0.22617395899999998, 'total_time': 3.114610012}, 'model_name': 'deepseek-r1-distill-llama-70b', 'system_fingerprint': 'fp_76307ac09b', 'finish_reason': 'stop', 'logprobs': None}, id='run--c4befe23-2d16-4f71-a7a4-a8f5aa6f9088-0', usage_metadata={'input_tokens': 366, 'output_tokens': 772, 'total_tokens': 1138}),\n",
       "   HumanMessage(content='what is a weather in Indore can you tell me some good hotel for staying in Indore', additional_kwargs={}, response_metadata={}, id='4e00df8f-1647-479f-a0c1-a13c5997aa0b'),\n",
       "   AIMessage(content='', additional_kwargs={'reasoning_content': \"Alright, so the user is asking about the weather in Indore and wants some good hotels there. I remember in the previous conversation, they asked about Delhi's weather and hotels, and I provided a list. Now, they're repeating the same query but for Indore.\\n\\nFirst, I should check if I can provide real-time weather. But I can't access live data, so I'll have to let them know that. Maybe suggest reliable sources like weather apps or the Indian Meteorological Department's website.\\n\\nNext, for hotels in Indore, I need to categorize them into luxury, mid-range, and budget-friendly options. I'll list a few in each category, making sure to include well-known ones like Taj Mahal Palace for luxury and Hotel Apna Palace for mid-range. I should mention key amenities and locations to help them decide.\\n\\nI should also advise them to check recent reviews and contact the hotels directly for the latest info. Keeping the response friendly and helpful is important, so I'll end with an offer to provide more details if needed.\\n\", 'tool_calls': [{'id': '0a2q02644', 'function': {'arguments': '{\"query\":\"Indore weather and hotels\"}', 'name': 'search'}, 'type': 'function'}]}, response_metadata={'token_usage': {'completion_tokens': 236, 'prompt_tokens': 638, 'total_tokens': 874, 'completion_time': 1.05241032, 'prompt_time': 0.048708644, 'queue_time': 0.202747245, 'total_time': 1.101118964}, 'model_name': 'deepseek-r1-distill-llama-70b', 'system_fingerprint': 'fp_76307ac09b', 'finish_reason': 'tool_calls', 'logprobs': None}, id='run--7b90b7e0-c629-4006-950c-b65a53a6919f-0', tool_calls=[{'name': 'search', 'args': {'query': 'Indore weather and hotels'}, 'id': '0a2q02644', 'type': 'tool_call'}], usage_metadata={'input_tokens': 638, 'output_tokens': 236, 'total_tokens': 874}),\n",
       "   ToolMessage(content='the temp is 25 degree celsius', name='search', id='e66221a0-dff0-467f-a7e9-4e52504ee0cf', tool_call_id='0a2q02644'),\n",
       "   AIMessage(content='The current temperature in Indore is **25 degrees Celsius**. Here are some good hotels in Indore for your stay:\\n\\n### Luxury Hotels:\\n1. **Taj Mahal Palace** - Known for its luxurious amenities and excellent service.\\n2. **JW Marriott Hotel Indore** - Offers a blend of comfort and elegance with modern facilities.\\n\\n### Mid-Range Hotels:\\n1. **Lemon Tree Hotel Indore** - A popular choice for its convenient location and good service.\\n2. **Hotel Sayaji** - Provides comfortable stays with modern amenities and a great ambiance.\\n\\n### Budget-Friendly Hotels:\\n1. **Hotel Purva** - Offers affordable stays with basic amenities.\\n2. **Hotel Surya** - A budget-friendly option with a good location.\\n\\nWhen choosing a hotel, consider factors like proximity to landmarks, availability of Wi-Fi, and specific amenities that are important to you. Always check recent reviews and contact the hotel directly for the most up-to-date information.\\n\\nIf you have more specific needs or require further details about any of these hotels, feel free to ask!', additional_kwargs={'reasoning_content': 'Alright, the user is asking about the weather in Indore and for some good hotels there. I remember in the previous conversation, I couldn\\'t provide real-time weather, so I suggested using apps. But now, I have this tool that can help me search for the weather, which is great!\\n\\nI called the tool with the query \"Indore weather and hotels\". The tool responded with the temperature being 25 degrees Celsius. That\\'s a pleasant temperature, not too hot. \\n\\nNow, for the hotels, I need to provide a list. I\\'ll categorize them into luxury, mid-range, and budget-friendly options. I\\'ll mention popular names like Taj and Marriott for luxury. For mid-range, maybe some well-known chains like Lemon Tree or Sayaji. Budget options could include smaller, well-reviewed places.\\n\\nI should also add some tips, like checking reviews and locations, to help the user make a better decision. Making sure the information is clear and helpful.\\n'}, response_metadata={'token_usage': {'completion_tokens': 420, 'prompt_tokens': 698, 'total_tokens': 1118, 'completion_time': 1.5272727270000002, 'prompt_time': 0.053758779, 'queue_time': 0.202022248, 'total_time': 1.581031506}, 'model_name': 'deepseek-r1-distill-llama-70b', 'system_fingerprint': 'fp_76307ac09b', 'finish_reason': 'stop', 'logprobs': None}, id='run--6aa04cf0-48bb-4d59-bf05-b5f5d8cfeaf8-0', usage_metadata={'input_tokens': 698, 'output_tokens': 420, 'total_tokens': 1118}),\n",
       "   HumanMessage(content='in which city the temp was 25 degree?', additional_kwargs={}, response_metadata={}, id='3825366c-6b7a-46d8-9e59-4856313a9614'),\n",
       "   AIMessage(content='The temperature of **25 degrees Celsius** was for **Indore**. Let me know if you need more details about Indore or any other assistance!', additional_kwargs={'reasoning_content': 'Alright, so the user is asking, \"in which city the temp was 25 degree?\" Let me try to figure out what they\\'re looking for. \\n\\nLooking back at the conversation history, I see that the user previously asked about the weather in Indore and hotels there. I responded with the temperature being 25 degrees Celsius and provided some hotel recommendations. Now, the user is asking about a city with a temperature of 25 degrees. \\n\\nHmm, it seems like the user might be trying to confirm the city we were discussing earlier. They might be a bit confused or maybe they\\'re cross-referencing the information. I should make sure to clarify which city had that temperature.\\n\\nI\\'ll need to refer back to my previous response where I mentioned Indore having 25 degrees. So, the answer should be Indore. But just to be thorough, I\\'ll double-check if there were any other cities mentioned earlier in the conversation. \\n\\nNo, the only city discussed in the last interaction was Indore. Therefore, the 25-degree temperature was for Indore. I should clearly state that to avoid any confusion.\\n\\nAdditionally, I want to make sure the user feels supported, so I\\'ll offer further assistance in case they need more details about Indore or anything else. That way, they know I\\'m here to help with whatever they need next.\\n'}, response_metadata={'token_usage': {'completion_tokens': 309, 'prompt_tokens': 931, 'total_tokens': 1240, 'completion_time': 1.385848522, 'prompt_time': 0.071598873, 'queue_time': 0.202137389, 'total_time': 1.457447395}, 'model_name': 'deepseek-r1-distill-llama-70b', 'system_fingerprint': 'fp_76307ac09b', 'finish_reason': 'stop', 'logprobs': None}, id='run--47b5f481-34de-4cf2-a94a-d0b2afb1eb42-0', usage_metadata={'input_tokens': 931, 'output_tokens': 309, 'total_tokens': 1240})]}}"
      ]
     },
     "execution_count": 117,
     "metadata": {},
     "output_type": "execute_result"
    }
   ],
   "source": [
    "memory.get(config)\n"
   ]
  },
  {
   "cell_type": "code",
   "execution_count": null,
   "id": "23090fe2",
   "metadata": {},
   "outputs": [],
   "source": []
  }
 ],
 "metadata": {
  "kernelspec": {
   "display_name": "Python 3",
   "language": "python",
   "name": "python3"
  },
  "language_info": {
   "codemirror_mode": {
    "name": "ipython",
    "version": 3
   },
   "file_extension": ".py",
   "mimetype": "text/x-python",
   "name": "python",
   "nbconvert_exporter": "python",
   "pygments_lexer": "ipython3",
   "version": "3.13.0"
  }
 },
 "nbformat": 4,
 "nbformat_minor": 5
}
