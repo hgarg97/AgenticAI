{
 "cells": [
  {
   "cell_type": "code",
   "execution_count": 23,
   "id": "563ca064",
   "metadata": {},
   "outputs": [],
   "source": [
    "def function1(input1):\n",
    "    return input1 + \" from ONE\""
   ]
  },
  {
   "cell_type": "code",
   "execution_count": 24,
   "id": "d84f3f50",
   "metadata": {},
   "outputs": [],
   "source": [
    "def function2(input2):\n",
    "    return input2 + \" from TWO\""
   ]
  },
  {
   "cell_type": "code",
   "execution_count": 25,
   "id": "7e237138",
   "metadata": {},
   "outputs": [
    {
     "data": {
      "text/plain": [
       "'Kingpin from ONE'"
      ]
     },
     "execution_count": 25,
     "metadata": {},
     "output_type": "execute_result"
    }
   ],
   "source": [
    "function1(\"Kingpin\")"
   ]
  },
  {
   "cell_type": "code",
   "execution_count": 27,
   "id": "9d3f9f78",
   "metadata": {},
   "outputs": [
    {
     "data": {
      "text/plain": [
       "'In USA from TWO'"
      ]
     },
     "execution_count": 27,
     "metadata": {},
     "output_type": "execute_result"
    }
   ],
   "source": [
    "function2(\"In USA\")"
   ]
  },
  {
   "cell_type": "markdown",
   "id": "29ae410a",
   "metadata": {},
   "source": [
    "## LangGraph"
   ]
  },
  {
   "cell_type": "code",
   "execution_count": 36,
   "id": "24e525aa",
   "metadata": {},
   "outputs": [
    {
     "ename": "ImportError",
     "evalue": "cannot import name 'Graph' from 'langgraph.graph' (g:\\AgenticAI\\venv\\Lib\\site-packages\\langgraph\\graph\\__init__.py)",
     "output_type": "error",
     "traceback": [
      "\u001b[31m---------------------------------------------------------------------------\u001b[39m",
      "\u001b[31mImportError\u001b[39m                               Traceback (most recent call last)",
      "\u001b[36mCell\u001b[39m\u001b[36m \u001b[39m\u001b[32mIn[36]\u001b[39m\u001b[32m, line 1\u001b[39m\n\u001b[32m----> \u001b[39m\u001b[32m1\u001b[39m \u001b[38;5;28;01mfrom\u001b[39;00m\u001b[38;5;250m \u001b[39m\u001b[34;01mlanggraph\u001b[39;00m\u001b[34;01m.\u001b[39;00m\u001b[34;01mgraph\u001b[39;00m\u001b[38;5;250m \u001b[39m\u001b[38;5;28;01mimport\u001b[39;00m Graph\n",
      "\u001b[31mImportError\u001b[39m: cannot import name 'Graph' from 'langgraph.graph' (g:\\AgenticAI\\venv\\Lib\\site-packages\\langgraph\\graph\\__init__.py)"
     ]
    }
   ],
   "source": [
    "from langgraph.graph import Graph"
   ]
  },
  {
   "cell_type": "markdown",
   "id": "0d8e9e0a",
   "metadata": {},
   "source": [
    "### Graph has been removed from langgraph.graph as of 26th June 2025. Should use StateGraph (Discussed in following lessons)"
   ]
  }
 ],
 "metadata": {
  "language_info": {
   "name": "python"
  }
 },
 "nbformat": 4,
 "nbformat_minor": 5
}
