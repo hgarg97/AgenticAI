{
 "cells": [
  {
   "cell_type": "markdown",
   "id": "a1fa7605",
   "metadata": {},
   "source": [
    "## Supervisor MultiAgent"
   ]
  },
  {
   "cell_type": "code",
   "execution_count": 1,
   "id": "ef754f93",
   "metadata": {},
   "outputs": [
    {
     "data": {
      "text/plain": [
       "True"
      ]
     },
     "execution_count": 1,
     "metadata": {},
     "output_type": "execute_result"
    }
   ],
   "source": [
    "from dotenv import load_dotenv\n",
    "\n",
    "load_dotenv()"
   ]
  },
  {
   "cell_type": "code",
   "execution_count": 2,
   "id": "2735c06b",
   "metadata": {},
   "outputs": [
    {
     "name": "stdout",
     "output_type": "stream",
     "text": [
      "<think>\n",
      "\n",
      "</think>\n",
      "\n",
      "The capital of France is Paris.\n"
     ]
    }
   ],
   "source": [
    "from langchain_groq import ChatGroq\n",
    "\n",
    "llm=ChatGroq(model=\"deepseek-r1-distill-llama-70b\")\n",
    "print(llm.invoke(\"What is the capital of France?\").content)\n"
   ]
  },
  {
   "cell_type": "markdown",
   "id": "27a6281d",
   "metadata": {},
   "source": [
    "### Tavily Search Tool"
   ]
  },
  {
   "cell_type": "code",
   "execution_count": 3,
   "id": "ecd6fa92",
   "metadata": {},
   "outputs": [
    {
     "name": "stderr",
     "output_type": "stream",
     "text": [
      "C:\\Users\\Harshit\\AppData\\Local\\Temp\\ipykernel_23228\\156554669.py:4: LangChainDeprecationWarning: The class `TavilySearchResults` was deprecated in LangChain 0.3.25 and will be removed in 1.0. An updated version of the class exists in the :class:`~langchain-tavily package and should be used instead. To use it run `pip install -U :class:`~langchain-tavily` and import as `from :class:`~langchain_tavily import TavilySearch``.\n",
      "  search_tool=TavilySearchResults(tavily_api_key=TAVILY_API_KEY)\n"
     ]
    }
   ],
   "source": [
    "import os\n",
    "from langchain_community.tools.tavily_search import TavilySearchResults\n",
    "TAVILY_API_KEY=os.getenv(\"TAVILY_API_KEY\")\n",
    "search_tool=TavilySearchResults(tavily_api_key=TAVILY_API_KEY)"
   ]
  },
  {
   "cell_type": "code",
   "execution_count": 4,
   "id": "03c0cfc6",
   "metadata": {},
   "outputs": [
    {
     "data": {
      "text/plain": [
       "[{'title': 'List of capitals of France - Wikipedia',\n",
       "  'url': 'https://en.wikipedia.org/wiki/List_of_capitals_of_France',\n",
       "  'content': 'This is a chronological list of capitals of France. The capital of France has been Paris since its liberation in 1944.\\n\\n## Chronology\\n\\n[edit] [...] - Tours (10–13 June 1940), the city served as the temporary capital of France during World War II after the government fled Paris due to the German advance.\\n- Bordeaux (June 1940), the government was relocated from Paris to Tours then Bordeaux very briefly during World War II, when it became apparent that Paris would soon fall into German hands. [...] - Paris (1789–1871), on 5 and 6 October 1789, a throng from Paris invaded the castle and forced the royal family to move back to Paris. The National Constituent Assembly \"National Constituent Assembly (France)\") followed the King to Paris soon afterward; Versailles lost its role of capital city.',\n",
       "  'score': 0.8993429},\n",
       " {'title': 'What are the three official capitals of France and which one ... - Quora',\n",
       "  'url': 'https://www.quora.com/What-are-the-three-official-capitals-of-France-and-which-one-is-the-most-commonly-visited',\n",
       "  'content': \"France has only one official capital, which is Paris, which is The official capital of France, it is the country's political, cultural, and economic center.\\n\\nUpvote · \\n\\n9 2\\n\\nImage 3: Profile photo for Pamela Asmar\\n\\nPamela Asmar\\n\\nKnows French · Author has 643 answers and 3.3M answer views\\n\\n·Updated 2y\\n\\nRelated\\n\\nWhich French city, apart from Paris, is really worth a visit? [...] Tha capital city of France is Paris. How many more cities could you cram into it?\\n\\nAre you yet another spotty-faced semi-educated Septic high schooler who couldn’t pick out New York on a map of New York state?\\n\\nJesus, I have met some thick Yanks in my time but you just about take the biscuit.\\n\\nUpvote · \\n\\n9 1\\n\\nRelated questions\\n\\nWhich city in France is the most visited?\\n\\nWhich countries visit France the most?\\n\\nWhat is the capital of France? What are some of its major cities? [...] But there are others: Bordeaux, Reims, Montpellier - I cannot name them all. And then there are these incredibly picturesque smaller towns like Rouen, Honfleur, Carcassonne, Auxerre, Sarlat, Concarneau, Aigues-Mortes, Biarritz…\",\n",
       "  'score': 0.88799405},\n",
       " {'title': 'Paris facts: the capital of France in history',\n",
       "  'url': 'https://home.adelphi.edu/~ca19535/page%204.html',\n",
       "  'content': 'page 4\\n\\n|  |  |  |  |  |  |  |\\n| --- | --- | --- | --- | --- | --- | --- |\\n| Home | Spain | Sydney | San Francisco | Paris | Las Vegas | Maui |\\n\\n  \\nParis, France  \\n\\n  \\n\\n## Paris facts: Paris, the capital of France\\n\\nParis is the capital of France,\\nthe largest country of Europe\\nwith 550 000 km2 (65 millions inhabitants).\\n\\nParis has 2.234 million inhabitants\\nend 2011. She is the core of Ile de France region (12 million\\npeople). [...] Paris remained the capital of\\nFrance until today, with one four year interruption. During\\nGerman occupation (WW2 , 1940-1944), the capital of France was Vichy.\\n\\ngo to top\\n\\nReference: [...] ## Paris facts: the capital of France in history\\n\\nBefore Paris, the capital of France\\nwas Lyon\\n(under the Romans). Paris first became the capital of France in\\n508 under King Clovis. After centuries with no unique capital of\\nFrance, Paris retrieved its status of capital of France under King\\nPhilippe Auguste, who reigned between 1180 and 1223. You\\ncan see remains of the Philippe August Paris walls in the\\npassageway between the Louvre\\nparking and Louvre Museum',\n",
       "  'score': 0.8877607},\n",
       " {'title': 'France | History, Maps, Flag, Population, Cities, Capital, & Facts',\n",
       "  'url': 'https://www.britannica.com/place/France',\n",
       "  'content': 'The capital and by far the most important city of France is Paris, one of the world’s preeminent cultural and commercial centres. A majestic city known as the ville lumière, or “city of light,” Paris has often been remade, most famously in the mid-19th century under the command of Georges-Eugène, Baron Haussman, who was committed to Napoleon III’s vision of a modern city free of the choleric swamps and congested alleys of old, with broad avenues and a regular plan. Paris is now a sprawling [...] Quick Facts\\n\\nFrance\\n\\nSee article: flag of France\\n\\nAudio File:\\nAnthem of France (see article)\\n\\nHead Of Government:\\n:   Prime minister: François Bayrou\\n\\n(Show more)\\n\\nCapital:\\n:   Paris\\n\\n(Show more)\\n\\nPopulation:\\n:   (2025 est.) 66,607,000\\n\\n(Show more)\\n\\nCurrency Exchange Rate:\\n:   1 USD equals 0.886 euro\\n\\n(Show more)\\n\\nHead Of State:\\n:   President: Emmanuel Macron\\n\\n(Show more)\\n\\nForm Of Government:\\n:   republic with two legislative houses (Parliament; Senate , National Assembly )\\n\\n(Show more)',\n",
       "  'score': 0.8729662},\n",
       " {'title': 'Paris - Wikipedia',\n",
       "  'url': 'https://en.wikipedia.org/wiki/Paris',\n",
       "  'content': 'Paris (French pronunciation:( \"Help:IPA/French\")ⓘ) is the capital and largest city of France. With an estimated population of 2,048,472 in January 2025( in an area of more than 105 km 2 (41 sq mi),( Paris is the fourth-most populous city in the European Union and the 30th most densely populated city in the world in 2022.( Since the 17th century, Paris has been one of the world\\'s major centres of finance, diplomacy, commerce, culture, fashion, and gastronomy. Because of its leading role in the [...] Wikimedia Commons\\n   Wikinews\\n   Wikiquote\\n   Wikivoyage\\n   Wikidata item\\n\\nCoordinates: Image 4: Show location on an interactive map48°51′24″N 2°21′8″E / 48.85667°N 2.35222°E / 48.85667; 2.35222_region:FR-75C)\\n\\nImage 5: This is a good article. Click here for more information.\\n\\nImage 6: Page semi-protected\\n\\nFrom Wikipedia, the free encyclopedia\\n\\nCapital and largest city of France [...] This article is about the capital city of France. For other uses, see Paris (disambiguation) \"Paris (disambiguation)\").\\n\\n\"Parisien\" redirects here. For other uses, see Parisien (disambiguation) \"Parisien (disambiguation)\").\\n\\nPlace in Île-de-France, France',\n",
       "  'score': 0.8576849}]"
      ]
     },
     "execution_count": 4,
     "metadata": {},
     "output_type": "execute_result"
    }
   ],
   "source": [
    "search_tool.invoke(\"What is the capital of France?\")"
   ]
  },
  {
   "cell_type": "markdown",
   "id": "8e4c4bb8",
   "metadata": {},
   "source": [
    "### PythonREPL"
   ]
  },
  {
   "cell_type": "code",
   "execution_count": 5,
   "id": "fbeec41f",
   "metadata": {},
   "outputs": [],
   "source": [
    "my_code = \"\"\"\n",
    "x=10\n",
    "y=x+10\n",
    "print(y)\n",
    "\"\"\""
   ]
  },
  {
   "cell_type": "code",
   "execution_count": 6,
   "id": "9824c94c",
   "metadata": {},
   "outputs": [],
   "source": [
    "from langchain_experimental.utilities import PythonREPL\n",
    "repl=PythonREPL()\n"
   ]
  },
  {
   "cell_type": "code",
   "execution_count": 7,
   "id": "38078811",
   "metadata": {},
   "outputs": [
    {
     "name": "stderr",
     "output_type": "stream",
     "text": [
      "Python REPL can execute arbitrary code. Use with caution.\n"
     ]
    },
    {
     "data": {
      "text/plain": [
       "'20\\n'"
      ]
     },
     "execution_count": 7,
     "metadata": {},
     "output_type": "execute_result"
    }
   ],
   "source": [
    "repl.run(my_code)"
   ]
  },
  {
   "cell_type": "code",
   "execution_count": 8,
   "id": "0bc2e303",
   "metadata": {},
   "outputs": [
    {
     "name": "stderr",
     "output_type": "stream",
     "text": [
      "<>:14: SyntaxWarning: invalid escape sequence '\\`'\n",
      "<>:14: SyntaxWarning: invalid escape sequence '\\`'\n",
      "<>:14: SyntaxWarning: invalid escape sequence '\\`'\n",
      "<>:14: SyntaxWarning: invalid escape sequence '\\`'\n",
      "C:\\Users\\Harshit\\AppData\\Local\\Temp\\ipykernel_23228\\3172908062.py:14: SyntaxWarning: invalid escape sequence '\\`'\n",
      "  result_str = f\"Successfully executed:\\n\\`\\`\\`python\\n{code}\\n\\`\\`\\`\\nStdout: {result}\"\n",
      "C:\\Users\\Harshit\\AppData\\Local\\Temp\\ipykernel_23228\\3172908062.py:14: SyntaxWarning: invalid escape sequence '\\`'\n",
      "  result_str = f\"Successfully executed:\\n\\`\\`\\`python\\n{code}\\n\\`\\`\\`\\nStdout: {result}\"\n"
     ]
    }
   ],
   "source": [
    "from typing import Annotated\n",
    "from langchain_core.tools import tool\n",
    "\n",
    "@tool\n",
    "def python_repl_tool(code: Annotated[str, \"The python code to execute to generate your chart.\"]):\n",
    "    \"\"\"Use this to execute python code and do math. If you want to see the output of a value,\n",
    "    you should print it out with `print(...)`. This is visible to the user.\"\"\"\n",
    "    \n",
    "    try:\n",
    "        result = repl.run(code)\n",
    "    except BaseException as e:\n",
    "        return f\"Failed to execute. Error: {repr(e)}\"\n",
    "    \n",
    "    result_str = f\"Successfully executed:\\n\\`\\`\\`python\\n{code}\\n\\`\\`\\`\\nStdout: {result}\"\n",
    "    return result_str"
   ]
  },
  {
   "cell_type": "code",
   "execution_count": 9,
   "id": "9efdd13c",
   "metadata": {},
   "outputs": [
    {
     "data": {
      "text/plain": [
       "'Successfully executed:\\n\\\\`\\\\`\\\\`python\\nx=10\\ny=x+10\\nprint(y)\\n\\\\`\\\\`\\\\`\\nStdout: 20\\n'"
      ]
     },
     "execution_count": 9,
     "metadata": {},
     "output_type": "execute_result"
    }
   ],
   "source": [
    "python_repl_tool.invoke(\"x=10\\ny=x+10\\nprint(y)\")\n"
   ]
  },
  {
   "cell_type": "code",
   "execution_count": 10,
   "id": "48576bbd",
   "metadata": {},
   "outputs": [
    {
     "data": {
      "text/plain": [
       "'Successfully executed:\\n\\\\`\\\\`\\\\`python\\n\\nx=10\\ny=x+10\\nprint(y)\\n\\n\\\\`\\\\`\\\\`\\nStdout: 20\\n'"
      ]
     },
     "execution_count": 10,
     "metadata": {},
     "output_type": "execute_result"
    }
   ],
   "source": [
    "python_repl_tool.invoke(my_code)\n"
   ]
  },
  {
   "cell_type": "markdown",
   "id": "535e1dfc",
   "metadata": {},
   "source": [
    "#### WE HAVE TWO SUB AGENT\n",
    "\n",
    "- RESEARCHER- internet\n",
    "- CODER- executing the code"
   ]
  },
  {
   "cell_type": "code",
   "execution_count": 11,
   "id": "f2528413",
   "metadata": {},
   "outputs": [
    {
     "data": {
      "text/plain": [
       "['researcher', 'coder']"
      ]
     },
     "execution_count": 11,
     "metadata": {},
     "output_type": "execute_result"
    }
   ],
   "source": [
    "members=[\"researcher\",\"coder\"]\n",
    "\n",
    "members"
   ]
  },
  {
   "cell_type": "code",
   "execution_count": 12,
   "id": "847db72c",
   "metadata": {},
   "outputs": [
    {
     "data": {
      "text/plain": [
       "['researcher', 'coder', 'FINISH']"
      ]
     },
     "execution_count": 12,
     "metadata": {},
     "output_type": "execute_result"
    }
   ],
   "source": [
    "options = members+[\"FINISH\"]\n",
    "options"
   ]
  },
  {
   "cell_type": "markdown",
   "id": "080d36ff",
   "metadata": {},
   "source": [
    "#### There is no routing logic\n",
    "- it is simply going to return the next candidate(next_agent)\n",
    "- this next is containig the next candidate name"
   ]
  },
  {
   "cell_type": "code",
   "execution_count": 13,
   "id": "10068f18",
   "metadata": {},
   "outputs": [],
   "source": [
    "from typing import Literal\n",
    "from typing_extensions import TypedDict"
   ]
  },
  {
   "cell_type": "code",
   "execution_count": 14,
   "id": "41b5e4ee",
   "metadata": {},
   "outputs": [],
   "source": [
    "class Router(TypedDict):\n",
    "    next: Literal['researcher', 'coder', 'FINISH']"
   ]
  },
  {
   "cell_type": "markdown",
   "id": "c837fa58",
   "metadata": {},
   "source": [
    "### Workflow"
   ]
  },
  {
   "cell_type": "code",
   "execution_count": 15,
   "id": "8b6ad522",
   "metadata": {},
   "outputs": [],
   "source": [
    "from langgraph.graph import MessagesState, StateGraph, START, END"
   ]
  },
  {
   "cell_type": "code",
   "execution_count": 17,
   "id": "3e670e65",
   "metadata": {},
   "outputs": [],
   "source": [
    "class State(MessagesState):\n",
    "    next: str\n",
    "\n",
    "# State will look like this\n",
    "\n",
    "# state={\"messages\": [\"hi\"], \"next\": \"research_agent\"}"
   ]
  },
  {
   "cell_type": "code",
   "execution_count": 18,
   "id": "a9af3654",
   "metadata": {},
   "outputs": [],
   "source": [
    "system_prompt = f\"\"\"\"\n",
    "You are a supervisor, tasked with managing a conversation between the following workers: {members}. \n",
    "Given the following user request, respond with the worker to act next. \n",
    "Each worker will perform a task and respond with their results and status. \n",
    "When finished, respond with FINISH.\n",
    "\"\"\""
   ]
  },
  {
   "cell_type": "markdown",
   "id": "6219c68e",
   "metadata": {},
   "source": [
    "#### Agents"
   ]
  },
  {
   "cell_type": "code",
   "execution_count": 19,
   "id": "c75b60a5",
   "metadata": {},
   "outputs": [],
   "source": [
    "from langgraph.types import Command"
   ]
  },
  {
   "cell_type": "code",
   "execution_count": 26,
   "id": "05e7769b",
   "metadata": {},
   "outputs": [],
   "source": [
    "def supervisor_agent(state: State)->Command[Literal['researcher', 'coder', END]]:\n",
    "    pass"
   ]
  },
  {
   "cell_type": "code",
   "execution_count": 27,
   "id": "151578ee",
   "metadata": {},
   "outputs": [],
   "source": [
    "def researcher_agent(state: State)->Command[Literal['supervisor']]:\n",
    "    pass"
   ]
  },
  {
   "cell_type": "code",
   "execution_count": 28,
   "id": "a6422693",
   "metadata": {},
   "outputs": [],
   "source": [
    "def coder_agent(state: State)->Command[Literal['supervisor']]:\n",
    "    pass"
   ]
  },
  {
   "cell_type": "code",
   "execution_count": 29,
   "id": "fc480d70",
   "metadata": {},
   "outputs": [
    {
     "data": {
      "image/png": "[encoded data removed]",
      "text/plain": [
       "<langgraph.graph.state.CompiledStateGraph object at 0x00000267DDE9AE40>"
      ]
     },
     "execution_count": 29,
     "metadata": {},
     "output_type": "execute_result"
    }
   ],
   "source": [
    "graph = StateGraph(State)\n",
    "\n",
    "graph.add_node(\"supervisor\", supervisor_agent)\n",
    "graph.add_node(\"researcher\", researcher_agent)\n",
    "graph.add_node(\"coder\", coder_agent)\n",
    "\n",
    "graph.add_edge(START, \"supervisor\")\n",
    "\n",
    "app = graph.compile()\n",
    "\n",
    "app"
   ]
  },
  {
   "cell_type": "code",
   "execution_count": null,
   "id": "377fbc4b",
   "metadata": {},
   "outputs": [],
   "source": []
  }
 ],
 "metadata": {
  "kernelspec": {
   "display_name": "Python 3",
   "language": "python",
   "name": "python3"
  },
  "language_info": {
   "codemirror_mode": {
    "name": "ipython",
    "version": 3
   },
   "file_extension": ".py",
   "mimetype": "text/x-python",
   "name": "python",
   "nbconvert_exporter": "python",
   "pygments_lexer": "ipython3",
   "version": "3.13.0"
  }
 },
 "nbformat": 4,
 "nbformat_minor": 5
}
