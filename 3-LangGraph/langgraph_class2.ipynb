{
 "cells": [
  {
   "cell_type": "markdown",
   "id": "766f7162",
   "metadata": {},
   "source": [
    "### Configure the model"
   ]
  },
  {
   "cell_type": "code",
   "execution_count": null,
   "id": "1032b94e",
   "metadata": {},
   "outputs": [],
   "source": [
    "from langchain_google_genai import ChatGoogleGenerativeAI\n",
    "model = ChatGoogleGenerativeAI(model='gemini-1.5-flash')\n",
    "output = model.invoke(\"hi\")\n",
    "print(output.content)"
   ]
  },
  {
   "cell_type": "markdown",
   "id": "9c500930",
   "metadata": {},
   "source": [
    "### Configure the embedding model"
   ]
  },
  {
   "cell_type": "code",
   "execution_count": null,
   "id": "778f75b0",
   "metadata": {},
   "outputs": [],
   "source": [
    "from langchain_huggingface import HuggingFaceEmbeddings\n",
    "embeddings = HuggingFaceEmbeddings(model_name=\"BAAI/bge-small-en\")\n",
    "len(embeddings.embed_query(\"hi\"))"
   ]
  },
  {
   "cell_type": "markdown",
   "id": "cd99145c",
   "metadata": {},
   "source": [
    "### Let's take data, embed and store in Vector Database"
   ]
  },
  {
   "cell_type": "code",
   "execution_count": null,
   "id": "590acf47",
   "metadata": {},
   "outputs": [],
   "source": [
    "from langchain_community.document_loaders import TextLoader, DirectoryLoader\n",
    "from langchain.text_splitter import RecursiveCharacterTextSplitter"
   ]
  },
  {
   "cell_type": "code",
   "execution_count": null,
   "id": "38ede47b",
   "metadata": {},
   "outputs": [],
   "source": [
    "loader=DirectoryLoader(\"../data\",glob=\"./*.txt\",loader_cls=TextLoader)"
   ]
  },
  {
   "cell_type": "code",
   "execution_count": null,
   "id": "d710196b",
   "metadata": {},
   "outputs": [],
   "source": [
    "docs=loader.load()"
   ]
  },
  {
   "cell_type": "code",
   "execution_count": null,
   "id": "6ceb56bc",
   "metadata": {},
   "outputs": [],
   "source": [
    "docs"
   ]
  },
  {
   "cell_type": "code",
   "execution_count": null,
   "id": "232e8d8a",
   "metadata": {},
   "outputs": [],
   "source": [
    "docs[0].page_content"
   ]
  },
  {
   "cell_type": "code",
   "execution_count": null,
   "id": "781a807a",
   "metadata": {},
   "outputs": [],
   "source": [
    "text_splitter=RecursiveCharacterTextSplitter(\n",
    "    chunk_size=200,\n",
    "    chunk_overlap=50\n",
    ")"
   ]
  },
  {
   "cell_type": "code",
   "execution_count": null,
   "id": "7128b177",
   "metadata": {},
   "outputs": [],
   "source": [
    "new_docs=text_splitter.split_documents(documents=docs)"
   ]
  },
  {
   "cell_type": "code",
   "execution_count": null,
   "id": "3217ebb7",
   "metadata": {},
   "outputs": [],
   "source": [
    "new_docs\n"
   ]
  },
  {
   "cell_type": "code",
   "execution_count": null,
   "id": "996f8ad9",
   "metadata": {},
   "outputs": [],
   "source": [
    "doc_string=[doc.page_content for doc in new_docs]\n"
   ]
  },
  {
   "cell_type": "code",
   "execution_count": null,
   "id": "49b1ffd0",
   "metadata": {},
   "outputs": [],
   "source": [
    "doc_string"
   ]
  },
  {
   "cell_type": "code",
   "execution_count": null,
   "id": "6010ea65",
   "metadata": {},
   "outputs": [],
   "source": [
    "len(doc_string)"
   ]
  },
  {
   "cell_type": "code",
   "execution_count": null,
   "id": "25565e71",
   "metadata": {},
   "outputs": [],
   "source": [
    "import faiss\n",
    "from langchain_community.vectorstores import FAISS\n",
    "from langchain_community.docstore.in_memory import InMemoryDocstore\n",
    "\n",
    "index=faiss.IndexFlatL2(384)\n",
    "\n",
    "db=FAISS(\n",
    "    embedding_function=embeddings,\n",
    "    index=index,\n",
    "    docstore=InMemoryDocstore(),\n",
    "    index_to_docstore_id={},\n",
    ")"
   ]
  },
  {
   "cell_type": "code",
   "execution_count": null,
   "id": "44a8a180",
   "metadata": {},
   "outputs": [],
   "source": [
    "db.add_texts(doc_string)"
   ]
  },
  {
   "cell_type": "code",
   "execution_count": null,
   "id": "b9ba34d8",
   "metadata": {},
   "outputs": [],
   "source": [
    "retriever=db.as_retriever(search_kwargs={\"k\": 3})\n"
   ]
  },
  {
   "cell_type": "code",
   "execution_count": null,
   "id": "363ea0c9",
   "metadata": {},
   "outputs": [],
   "source": [
    "retriever.invoke(\"industrial growth of usa?\")\n"
   ]
  },
  {
   "cell_type": "markdown",
   "id": "8bc5b185",
   "metadata": {},
   "source": [
    "### creating pydantic class"
   ]
  },
  {
   "cell_type": "code",
   "execution_count": null,
   "id": "5a13ff4f",
   "metadata": {},
   "outputs": [],
   "source": [
    "import operator\n",
    "from typing import List\n",
    "from pydantic import BaseModel , Field\n",
    "from typing import TypedDict, Annotated, Sequence\n",
    "from langchain_core.messages import BaseMessage\n",
    "from langchain_core.output_parsers import StrOutputParser\n",
    "from langchain_core.prompts import ChatPromptTemplate, PromptTemplate\n",
    "from langchain_core.runnables import RunnablePassthrough\n",
    "from langchain_core.messages import HumanMessage, AIMessage\n",
    "from langgraph.graph import StateGraph,END"
   ]
  },
  {
   "cell_type": "code",
   "execution_count": null,
   "id": "d9594ec9",
   "metadata": {},
   "outputs": [],
   "source": [
    "class TopicSelectionParser(BaseModel):\n",
    "    Topic:str=Field(description=\"selected topic\")\n",
    "    Reasoning:str=Field(description='Reasoning behind topic selection')"
   ]
  },
  {
   "cell_type": "code",
   "execution_count": null,
   "id": "1755d2eb",
   "metadata": {},
   "outputs": [],
   "source": [
    "from langchain.output_parsers import PydanticOutputParser\n",
    "parser=PydanticOutputParser(pydantic_object=TopicSelectionParser)"
   ]
  },
  {
   "cell_type": "code",
   "execution_count": null,
   "id": "3cf3fb73",
   "metadata": {},
   "outputs": [],
   "source": [
    "parser.get_format_instructions()"
   ]
  },
  {
   "cell_type": "markdown",
   "id": "7f0aabe3",
   "metadata": {},
   "source": [
    "### How State Graph work?"
   ]
  },
  {
   "cell_type": "markdown",
   "id": "64f942cc",
   "metadata": {},
   "source": [
    "#### Normal AgenState Dictionary"
   ]
  },
  {
   "cell_type": "code",
   "execution_count": null,
   "id": "9dc3cad6",
   "metadata": {},
   "outputs": [],
   "source": [
    "Agentstate={}\n"
   ]
  },
  {
   "cell_type": "code",
   "execution_count": null,
   "id": "18570a78",
   "metadata": {},
   "outputs": [],
   "source": [
    "Agentstate[\"messages\"]=[]\n"
   ]
  },
  {
   "cell_type": "code",
   "execution_count": null,
   "id": "a5dd9474",
   "metadata": {},
   "outputs": [],
   "source": [
    "Agentstate"
   ]
  },
  {
   "cell_type": "code",
   "execution_count": null,
   "id": "6a96900e",
   "metadata": {},
   "outputs": [],
   "source": [
    "Agentstate[\"messages\"].append(\"hi how are you?\")\n"
   ]
  },
  {
   "cell_type": "code",
   "execution_count": null,
   "id": "459be29e",
   "metadata": {},
   "outputs": [],
   "source": [
    "Agentstate"
   ]
  },
  {
   "cell_type": "code",
   "execution_count": null,
   "id": "79c85d4d",
   "metadata": {},
   "outputs": [],
   "source": [
    "Agentstate[\"messages\"].append(\"what are you doing?\")\n"
   ]
  },
  {
   "cell_type": "code",
   "execution_count": null,
   "id": "c65554a7",
   "metadata": {},
   "outputs": [],
   "source": [
    "Agentstate"
   ]
  },
  {
   "cell_type": "code",
   "execution_count": null,
   "id": "a357a9e0",
   "metadata": {},
   "outputs": [],
   "source": [
    "Agentstate[\"messages\"].append(\"i hope everything fine\")\n"
   ]
  },
  {
   "cell_type": "code",
   "execution_count": null,
   "id": "f1f9eca9",
   "metadata": {},
   "outputs": [],
   "source": [
    "Agentstate"
   ]
  },
  {
   "cell_type": "code",
   "execution_count": null,
   "id": "7e0e4dd4",
   "metadata": {},
   "outputs": [],
   "source": [
    "Agentstate[\"messages\"][-1]\n"
   ]
  },
  {
   "cell_type": "code",
   "execution_count": null,
   "id": "e07282e2",
   "metadata": {},
   "outputs": [],
   "source": [
    "Agentstate[\"messages\"][0]\n"
   ]
  },
  {
   "cell_type": "markdown",
   "id": "e73a0792",
   "metadata": {},
   "source": [
    "#### Using AgentState inside StateGraph"
   ]
  },
  {
   "cell_type": "code",
   "execution_count": null,
   "id": "4afe2b94",
   "metadata": {},
   "outputs": [],
   "source": [
    "class AgentState(TypedDict):\n",
    "    messages: Annotated[Sequence[BaseMessage], operator.add]"
   ]
  },
  {
   "cell_type": "code",
   "execution_count": null,
   "id": "23291dc7",
   "metadata": {},
   "outputs": [],
   "source": [
    "def function1(state: AgentState):\n",
    "    question = state[\"messages\"][-1]\n",
    "\n",
    "    print(\"Question\", question)\n",
    "\n",
    "    template=\"\"\"\n",
    "    Your task is to classify the given user query into one of the following categories: [USA,Not Related]. \n",
    "    Only respond with the category name and nothing else.\n",
    "\n",
    "    User query: {question}\n",
    "    {format_instructions}\n",
    "    \"\"\"\n",
    "\n",
    "    prompt = PromptTemplate(\n",
    "        template=template,\n",
    "        input_variables=[\"question\"],\n",
    "        partial_variables={\"format_instructions\": parser.get_format_instructions}\n",
    "    )\n",
    "\n",
    "    chain = prompt | model | parser\n",
    "\n",
    "    response = chain.invoke({\"question\": question})\n",
    "\n",
    "    print(\"Parsed response\", response)\n",
    "\n",
    "    return {\"messages\": [response.Topic]}"
   ]
  },
  {
   "cell_type": "code",
   "execution_count": null,
   "id": "6255aaf7",
   "metadata": {},
   "outputs": [],
   "source": [
    "state={\"messages\":[\"what is a today weather?\"]}"
   ]
  },
  {
   "cell_type": "code",
   "execution_count": null,
   "id": "80fd88f0",
   "metadata": {},
   "outputs": [],
   "source": [
    "function1(state)"
   ]
  },
  {
   "cell_type": "code",
   "execution_count": null,
   "id": "b846a0ed",
   "metadata": {},
   "outputs": [],
   "source": [
    "state={\"messages\":[\"what is a GDP of usa??\"]}\n",
    "function1(state)"
   ]
  },
  {
   "cell_type": "code",
   "execution_count": null,
   "id": "82af5ec9",
   "metadata": {},
   "outputs": [],
   "source": [
    "def router(state: AgentState):\n",
    "    print(\"-> Router ->\")\n",
    "\n",
    "    last_message = state[\"messages\"][-1]\n",
    "    print(\"last_message: \", last_message)\n",
    "\n",
    "    if \"usa\" in last_message.lower():\n",
    "        return \"RAG Call\"\n",
    "    else:\n",
    "        return \"LLM Call\""
   ]
  },
  {
   "cell_type": "code",
   "execution_count": null,
   "id": "984d7101",
   "metadata": {},
   "outputs": [],
   "source": [
    "def format_docs(docs):\n",
    "    return \"\\n\\n\".join(doc.page_content for doc in docs)"
   ]
  },
  {
   "cell_type": "code",
   "execution_count": null,
   "id": "9e4bf34a",
   "metadata": {},
   "outputs": [],
   "source": [
    "# RAG Function\n",
    "def function2(state: AgentState):\n",
    "    print(\"-> RAG Call ->\")\n",
    "    question = state[\"messages\"][0]\n",
    "    \n",
    "    prompt=PromptTemplate(\n",
    "        template=\"\"\"You are an assistant for question-answering tasks. Use the following pieces of retrieved context to answer the question. If you don't know the answer, just say that you don't know. Use three sentences maximum and keep the answer concise.\\nQuestion: {question} \\nContext: {context} \\nAnswer:\"\"\",\n",
    "        \n",
    "        input_variables=['context', 'question']\n",
    "    )\n",
    "    \n",
    "    rag_chain = (\n",
    "        {\"context\": retriever | format_docs, \"question\": RunnablePassthrough()}\n",
    "        | prompt\n",
    "        | model\n",
    "        | StrOutputParser()\n",
    "    )\n",
    "    result = rag_chain.invoke(question)\n",
    "    return  {\"messages\": [result]}"
   ]
  },
  {
   "cell_type": "code",
   "execution_count": null,
   "id": "c9284526",
   "metadata": {},
   "outputs": [],
   "source": [
    "# LLM Function\n",
    "def function3(state: AgentState):\n",
    "    print(\"-> LLM Call ->\")\n",
    "    question = state[\"messages\"][0]\n",
    "    \n",
    "    # Normal LLM call\n",
    "    complete_query = \"Anwer the follow question with you knowledge of the real world. Following is the user question: \" + question\n",
    "    response = model.invoke(complete_query)\n",
    "    return {\"messages\": [response.content]}"
   ]
  },
  {
   "cell_type": "code",
   "execution_count": null,
   "id": "ddd01281",
   "metadata": {},
   "outputs": [],
   "source": [
    "from langgraph.graph import StateGraph, END"
   ]
  },
  {
   "cell_type": "code",
   "execution_count": null,
   "id": "8be75da9",
   "metadata": {},
   "outputs": [],
   "source": [
    "workflow = StateGraph(AgentState)"
   ]
  },
  {
   "cell_type": "code",
   "execution_count": null,
   "id": "cfb43d7c",
   "metadata": {},
   "outputs": [],
   "source": [
    "workflow.add_node(\"Supervisor\", function1)"
   ]
  },
  {
   "cell_type": "code",
   "execution_count": null,
   "id": "9139999f",
   "metadata": {},
   "outputs": [],
   "source": [
    "workflow.add_node(\"RAG\", function2)"
   ]
  },
  {
   "cell_type": "code",
   "execution_count": null,
   "id": "828f3136",
   "metadata": {},
   "outputs": [],
   "source": [
    "workflow.add_node(\"LLM\", function3)"
   ]
  },
  {
   "cell_type": "code",
   "execution_count": null,
   "id": "879201f1",
   "metadata": {},
   "outputs": [],
   "source": [
    "workflow.set_entry_point(\"Supervisor\")"
   ]
  },
  {
   "cell_type": "code",
   "execution_count": null,
   "id": "a288f67c",
   "metadata": {},
   "outputs": [],
   "source": [
    "workflow.add_conditional_edges(\n",
    "    \"Supervisor\",\n",
    "    router,\n",
    "    {\n",
    "        \"RAG Call\" : \"RAG\",\n",
    "        \"LLM Call\" : \"LLM\"\n",
    "    }\n",
    ")"
   ]
  },
  {
   "cell_type": "code",
   "execution_count": null,
   "id": "8dd18ded",
   "metadata": {},
   "outputs": [],
   "source": [
    "workflow.add_edge(\"RAG\", END)\n",
    "workflow.add_edge(\"LLM\", END)"
   ]
  },
  {
   "cell_type": "code",
   "execution_count": null,
   "id": "92958ee9",
   "metadata": {},
   "outputs": [],
   "source": [
    "app = workflow.compile()"
   ]
  },
  {
   "cell_type": "code",
   "execution_count": null,
   "id": "42ba0464",
   "metadata": {},
   "outputs": [],
   "source": [
    "app"
   ]
  },
  {
   "cell_type": "code",
   "execution_count": null,
   "id": "32e23c0d",
   "metadata": {},
   "outputs": [],
   "source": [
    "state = {\"messages\": [\"Hi\"]}"
   ]
  },
  {
   "cell_type": "code",
   "execution_count": null,
   "id": "74050da1",
   "metadata": {},
   "outputs": [],
   "source": [
    "app.invoke(state)"
   ]
  },
  {
   "cell_type": "code",
   "execution_count": null,
   "id": "34aa2b87",
   "metadata": {},
   "outputs": [],
   "source": [
    "state={\"messages\":[\"what is a gdp of usa?\"]}\n"
   ]
  },
  {
   "cell_type": "code",
   "execution_count": null,
   "id": "8b3d370d",
   "metadata": {},
   "outputs": [],
   "source": [
    "app.invoke(state)"
   ]
  },
  {
   "cell_type": "code",
   "execution_count": null,
   "id": "c6faac5c",
   "metadata": {},
   "outputs": [],
   "source": [
    "state={\"messages\":[\"can you tell me the industrial growth of world's most powerful economy?\"]}\n",
    "\n",
    "app.invoke(state)"
   ]
  },
  {
   "cell_type": "code",
   "execution_count": null,
   "id": "a00bed5b",
   "metadata": {},
   "outputs": [],
   "source": [
    "state={\"messages\":[\"can you tell me the industrial growth of world's poor economy?\"]}\n",
    "\n",
    "app.invoke(state)"
   ]
  },
  {
   "cell_type": "markdown",
   "id": "1479a504",
   "metadata": {},
   "source": [
    "# Assignment\n",
    "\n",
    "1. you have to create one supervisor node.\n",
    "2. create one router function\n",
    "3. create three more node\n",
    "3.1 llm call (llm node)\n",
    "3.2 RAG (rag node)\n",
    "3.3 web crawler(fetch the info in realtime from internet)\n",
    "4. created one more node after this for validation for generated output --> explore the validation part how to do that\n",
    "5. if validation going to be failed in that case again go to supervioser node and then supervisor node will again decide what needs to be call next\n",
    "6. once the validation will pass then only generate the final output"
   ]
  },
  {
   "cell_type": "code",
   "execution_count": 1,
   "id": "62d051ef",
   "metadata": {},
   "outputs": [],
   "source": [
    "import operator\n",
    "from typing import List\n",
    "from pydantic import BaseModel , Field\n",
    "from typing import TypedDict, Annotated, Sequence\n",
    "from langchain_core.messages import BaseMessage\n",
    "from langchain_core.output_parsers import StrOutputParser\n",
    "from langchain_core.prompts import ChatPromptTemplate, PromptTemplate\n",
    "from langchain_core.runnables import RunnablePassthrough\n",
    "from langchain_core.messages import HumanMessage, AIMessage\n",
    "from langgraph.graph import StateGraph, START, END"
   ]
  },
  {
   "cell_type": "markdown",
   "id": "97a5d9f8",
   "metadata": {},
   "source": [
    "### Getting LLM Model"
   ]
  },
  {
   "cell_type": "code",
   "execution_count": 2,
   "id": "9c4e4945",
   "metadata": {},
   "outputs": [
    {
     "name": "stdout",
     "output_type": "stream",
     "text": [
      "Hi there! How can I help you today?\n"
     ]
    }
   ],
   "source": [
    "from langchain_google_genai import ChatGoogleGenerativeAI\n",
    "model=ChatGoogleGenerativeAI(model='gemini-1.5-flash')\n",
    "output=model.invoke(\"hi\")\n",
    "print(output.content)"
   ]
  },
  {
   "cell_type": "code",
   "execution_count": 3,
   "id": "274bb53f",
   "metadata": {},
   "outputs": [
    {
     "data": {
      "text/plain": [
       "AIMessage(content='\\n<think>\\nOkay, the user just introduced themselves as \"Kingpin.\" I should respond politely, maybe acknowledge their name, and offer help. Let me keep it friendly and open-ended so they feel comfortable to ask anything. I\\'ll make sure to follow the guidelines: be helpful, conversational, and not assume too much. Let\\'s see... \"Hi Kingpin! How can I assist you today?\" That sounds good. It\\'s simple, acknowledges their name, and invites them to state their needs. I\\'ll send that.\\n\\n</think>\\n\\nHi Kingpin! How can I assist you today? 😊', additional_kwargs={}, response_metadata={'token_usage': {'completion_tokens': 120, 'prompt_tokens': 17, 'total_tokens': 137, 'completion_time': 0.275967769, 'prompt_time': 0.002930897, 'queue_time': 0.217929863, 'total_time': 0.278898666}, 'model_name': 'qwen-qwq-32b', 'system_fingerprint': 'fp_ea798e78f0', 'finish_reason': 'stop', 'logprobs': None}, id='run--ec972ec0-f263-4eae-8dc9-b670c50f0707-0', usage_metadata={'input_tokens': 17, 'output_tokens': 120, 'total_tokens': 137})"
      ]
     },
     "execution_count": 3,
     "metadata": {},
     "output_type": "execute_result"
    }
   ],
   "source": [
    "import os\n",
    "os.environ[\"GROQ_API_KEY\"] = os.getenv(\"GROQ_API_KEY\")\n",
    "\n",
    "from langchain_groq import ChatGroq\n",
    "\n",
    "model = ChatGroq(model = \"qwen-qwq-32b\")\n",
    "model.invoke(\"Hi, my name is Kingpin\")"
   ]
  },
  {
   "cell_type": "markdown",
   "id": "4af39a7a",
   "metadata": {},
   "source": [
    "### Getting Embedding Model"
   ]
  },
  {
   "cell_type": "code",
   "execution_count": 4,
   "id": "a0f3cb24",
   "metadata": {},
   "outputs": [
    {
     "name": "stderr",
     "output_type": "stream",
     "text": [
      "g:\\AgenticAI\\venv\\Lib\\site-packages\\tqdm\\auto.py:21: TqdmWarning: IProgress not found. Please update jupyter and ipywidgets. See https://ipywidgets.readthedocs.io/en/stable/user_install.html\n",
      "  from .autonotebook import tqdm as notebook_tqdm\n"
     ]
    },
    {
     "data": {
      "text/plain": [
       "384"
      ]
     },
     "execution_count": 4,
     "metadata": {},
     "output_type": "execute_result"
    }
   ],
   "source": [
    "from langchain_huggingface import HuggingFaceEmbeddings\n",
    "embeddings = HuggingFaceEmbeddings(model_name=\"BAAI/bge-small-en\")\n",
    "len(embeddings.embed_query(\"hi\"))"
   ]
  },
  {
   "cell_type": "markdown",
   "id": "b9b8a190",
   "metadata": {},
   "source": [
    "### Creating Vector Store"
   ]
  },
  {
   "cell_type": "code",
   "execution_count": 5,
   "id": "26d3d88d",
   "metadata": {},
   "outputs": [
    {
     "data": {
      "text/plain": [
       "['ba48d578-19ef-43da-a669-3552bc5e968c',\n",
       " '705d6a6c-31bf-4db2-9e72-52dac0c48aa4',\n",
       " 'c5744878-a656-4472-bf04-13bbba2b2419',\n",
       " 'a7f2fc05-cc97-415d-abb4-a87387c45e58',\n",
       " 'f9fac6c0-2294-413f-86c0-e473cf7dac04',\n",
       " '20f008b5-06c5-4642-81d4-f94d5eb3c5ac',\n",
       " '681ae58d-f246-4957-93f6-e2cabe846a5e',\n",
       " '6dd0c4d3-0f81-4f0a-af22-52b12ff4c553',\n",
       " '29bde614-c781-4718-ba94-42623897cc34',\n",
       " '0d757ce3-6947-45c3-b82d-b19fa1de6ae2',\n",
       " '4f972cc0-6279-43a6-9a81-505e4d712b18',\n",
       " '59c3ee35-5ca0-4923-95f0-23f7e56ef493',\n",
       " '5986bda6-6abf-437b-bfc5-171a40ec8e3b',\n",
       " 'ba0317b8-fcc9-4f48-af9f-2177682e17fb',\n",
       " 'a1c5454a-105e-4a29-84fe-11643c355e7a',\n",
       " '0238fec5-89f8-4a70-8ed7-0fbb5c50d7f7',\n",
       " 'dca4025a-7497-4da0-9d5f-635152defeed',\n",
       " '6b7a4ceb-ecb3-4008-b1d9-6cd18af9a9f4',\n",
       " '2bb52f89-c7cc-4760-9fc4-78b1dfbe7899',\n",
       " '662a81cf-08ec-40e9-a83c-823f4cb4b8f4',\n",
       " '1d524514-65a1-40f7-b39c-694c3c9d164a',\n",
       " '796eb286-fdd3-4d0b-8dde-a9abda99b32f',\n",
       " '30e47a11-2797-4491-a9e6-566c7d897abb',\n",
       " '06a90d34-414e-4ce7-9f1e-f125eedfb20c',\n",
       " 'ea4be1ed-732f-4750-88b9-5a88979ac622',\n",
       " '0b41e58f-df41-4237-989a-405abba1d356',\n",
       " 'ce02d36c-ad8b-46b6-a016-36c14aa2fde6',\n",
       " '6596212c-a3e6-4657-b5a1-54da1586736d',\n",
       " '6bc68bd9-d7b9-4ca0-a8de-07c39f557d10',\n",
       " 'a8d43124-d7dc-4170-9732-c230d39420f2',\n",
       " '421d096d-89d1-4241-a46c-704e9b1c976c',\n",
       " '7a14f9f1-c5eb-4a27-8c31-3794e022712b',\n",
       " '039b867f-b85a-4090-bc7c-d6b79ff32ce6',\n",
       " 'a65e4ebc-05d4-416d-b8e8-6339ebe8c1c2',\n",
       " '640efbd0-2fe9-4c71-9ec6-5eeb674934a9',\n",
       " '76c64349-5bc7-4861-8501-38996bc9e795',\n",
       " 'fa116243-2d8c-44e0-bebd-1aced12b0d3d',\n",
       " '014cbf7f-7e63-4266-8451-ba06abb8acb3',\n",
       " '2b6f2e90-a3d2-4fd4-bc32-f8ab6b31433d',\n",
       " 'e373fc0e-4032-4edc-98dd-4dd834c9c58f',\n",
       " '055212e1-b9d4-49db-b787-ed3c88fa786f',\n",
       " 'ad5b1fe4-9e5d-45dc-8916-f34eecff227b',\n",
       " '38c3560b-bb2e-4f99-9429-9d29364033e9',\n",
       " '3df82829-00f6-477c-8a07-07639670c5af',\n",
       " '994961be-ae35-4ae3-b02a-79c001f8f2d1',\n",
       " '7091283f-4f0d-4d39-a387-ce42a1862123',\n",
       " '3d1abde3-07e6-4ae2-8451-782ea90df389',\n",
       " '7ad10cd0-30f1-4cc1-b616-8b56dba502c2',\n",
       " '2731a606-f850-4226-b645-4530b3e3ed0c',\n",
       " 'd596f925-7b9f-4c4d-a81a-e7357b2bbd7e',\n",
       " '145d5cfb-3b91-4e51-8e8e-151dbe6b792b',\n",
       " 'e48fcca1-a772-4997-ab1d-ab2157201213',\n",
       " '72afb118-863e-431c-9b35-d19bc8ce83b5',\n",
       " 'b7df9d3d-091a-4b7e-8519-d22b91fa7c7a',\n",
       " 'd3645e60-a58d-4a49-a1d3-cb9510c6f715']"
      ]
     },
     "execution_count": 5,
     "metadata": {},
     "output_type": "execute_result"
    }
   ],
   "source": [
    "from langchain_community.document_loaders import TextLoader, DirectoryLoader\n",
    "from langchain.text_splitter import RecursiveCharacterTextSplitter\n",
    "import faiss\n",
    "from langchain_community.vectorstores import FAISS\n",
    "from langchain_community.docstore.in_memory import InMemoryDocstore\n",
    "\n",
    "loader=DirectoryLoader(\"../data\",glob=\"./*.txt\",loader_cls=TextLoader)\n",
    "\n",
    "text_splitter=RecursiveCharacterTextSplitter(\n",
    "    chunk_size=200,\n",
    "    chunk_overlap=50\n",
    ")\n",
    "\n",
    "docs=loader.load()\n",
    "\n",
    "new_docs=text_splitter.split_documents(documents=docs)\n",
    "\n",
    "doc_string=[doc.page_content for doc in new_docs]\n",
    "\n",
    "index=faiss.IndexFlatL2(384)\n",
    "\n",
    "db=FAISS(\n",
    "    embedding_function=embeddings,\n",
    "    index=index,\n",
    "    docstore=InMemoryDocstore(),\n",
    "    index_to_docstore_id={},\n",
    ")\n",
    "\n",
    "db.add_texts(doc_string)"
   ]
  },
  {
   "cell_type": "code",
   "execution_count": 6,
   "id": "14dc3d0e",
   "metadata": {},
   "outputs": [],
   "source": [
    "# Initializing retriever\n",
    "\n",
    "retriever=db.as_retriever(search_kwargs={\"k\": 3})"
   ]
  },
  {
   "cell_type": "code",
   "execution_count": 7,
   "id": "e408dbca",
   "metadata": {},
   "outputs": [],
   "source": [
    "def format_docs(docs):\n",
    "    return \"\\n\\n\".join(doc.page_content for doc in docs)"
   ]
  },
  {
   "cell_type": "markdown",
   "id": "9fc1a631",
   "metadata": {},
   "source": [
    "### Using Pydantic"
   ]
  },
  {
   "cell_type": "code",
   "execution_count": 8,
   "id": "cddc65de",
   "metadata": {},
   "outputs": [],
   "source": [
    "from pydantic import BaseModel , Field\n",
    "from langchain.output_parsers import PydanticOutputParser\n",
    "\n",
    "class TopicSelectionParser(BaseModel):\n",
    "    Topic:str=Field(description=\"selected topic\")\n",
    "    Reasoning:str=Field(description='Reasoning behind topic selection')\n",
    "\n",
    "\n",
    "parser=PydanticOutputParser(pydantic_object=TopicSelectionParser)"
   ]
  },
  {
   "cell_type": "code",
   "execution_count": 9,
   "id": "53c3188a",
   "metadata": {},
   "outputs": [],
   "source": [
    "class ValidationParser(BaseModel):\n",
    "    Topic:str=Field(description=\"selected topic\")\n",
    "\n",
    "val_parser=PydanticOutputParser(pydantic_object=ValidationParser)"
   ]
  },
  {
   "cell_type": "code",
   "execution_count": 10,
   "id": "5b7433ef",
   "metadata": {},
   "outputs": [
    {
     "data": {
      "text/plain": [
       "'The output should be formatted as a JSON instance that conforms to the JSON schema below.\\n\\nAs an example, for the schema {\"properties\": {\"foo\": {\"title\": \"Foo\", \"description\": \"a list of strings\", \"type\": \"array\", \"items\": {\"type\": \"string\"}}}, \"required\": [\"foo\"]}\\nthe object {\"foo\": [\"bar\", \"baz\"]} is a well-formatted instance of the schema. The object {\"properties\": {\"foo\": [\"bar\", \"baz\"]}} is not well-formatted.\\n\\nHere is the output schema:\\n```\\n{\"properties\": {\"Topic\": {\"description\": \"selected topic\", \"title\": \"Topic\", \"type\": \"string\"}, \"Reasoning\": {\"description\": \"Reasoning behind topic selection\", \"title\": \"Reasoning\", \"type\": \"string\"}}, \"required\": [\"Topic\", \"Reasoning\"]}\\n```'"
      ]
     },
     "execution_count": 10,
     "metadata": {},
     "output_type": "execute_result"
    }
   ],
   "source": [
    "parser.get_format_instructions()"
   ]
  },
  {
   "cell_type": "markdown",
   "id": "1a48999a",
   "metadata": {},
   "source": [
    "### Writing Agent State"
   ]
  },
  {
   "cell_type": "code",
   "execution_count": 11,
   "id": "6e56aae0",
   "metadata": {},
   "outputs": [],
   "source": [
    "class AgentState(TypedDict):\n",
    "    messages: Annotated[Sequence[BaseMessage], operator.add]"
   ]
  },
  {
   "cell_type": "code",
   "execution_count": 12,
   "id": "9f876266",
   "metadata": {},
   "outputs": [],
   "source": [
    "workflow = StateGraph(AgentState)"
   ]
  },
  {
   "cell_type": "code",
   "execution_count": 13,
   "id": "8ea476a4",
   "metadata": {},
   "outputs": [],
   "source": [
    "def function1(state: AgentState):\n",
    "    question=state[\"messages\"][-1]\n",
    "    \n",
    "    print(\"Question\",question)\n",
    "    \n",
    "    template=\"\"\"\n",
    "    Your task is to classify the given user query into one of the following categories: [USA, LLM, Internet].\n",
    "    'LLM': If it is general query on something in the LLMs scope; 'Internet': If the knowledge is very current and can only be determined via Internet Search. \n",
    "    Only respond with the category name and nothing else.\n",
    "\n",
    "    User query: {question}\n",
    "    {format_instructions}\n",
    "    \"\"\"\n",
    "    \n",
    "    prompt= PromptTemplate(\n",
    "        template=template,\n",
    "        input_variable=[\"question\"],\n",
    "        partial_variables={\"format_instructions\": parser.get_format_instructions()}\n",
    "    )\n",
    "    \n",
    "    \n",
    "    chain= prompt | model | parser\n",
    "    \n",
    "    response = chain.invoke({\"question\":question})\n",
    "    \n",
    "    print(\"Parsed response:\", response)\n",
    "    \n",
    "    return {\"messages\": [response.Topic]}"
   ]
  },
  {
   "cell_type": "code",
   "execution_count": 14,
   "id": "56588658",
   "metadata": {},
   "outputs": [],
   "source": [
    "def router(state: AgentState):\n",
    "    print(\"-> ROUTER ->\")\n",
    "\n",
    "    last_message = state[\"messages\"][-1]\n",
    "\n",
    "    print(\"Last Message - \", last_message)\n",
    "\n",
    "    if \"usa\" in last_message.lower():\n",
    "        return \"RAG Call\"\n",
    "    elif \"llm\" in last_message.lower():\n",
    "        return \"LLM Call\"\n",
    "    else:\n",
    "        return \"Internet Call\""
   ]
  },
  {
   "cell_type": "code",
   "execution_count": 15,
   "id": "dbdd730e",
   "metadata": {},
   "outputs": [],
   "source": [
    "def function2(state: AgentState):\n",
    "    print(\"-> LLM Call ->\")\n",
    "    question = state[\"messages\"][0]\n",
    "    \n",
    "    # Normal LLM call\n",
    "    complete_query = \"Anwer the follow question with you knowledge of the real world. Following is the user question: \" + question\n",
    "    response = model.invoke(complete_query)\n",
    "    return {\"messages\": [response.content]}"
   ]
  },
  {
   "cell_type": "code",
   "execution_count": 16,
   "id": "13b1c2b2",
   "metadata": {},
   "outputs": [],
   "source": [
    "def function3(state: AgentState):\n",
    "    print(\"-> RAG Call ->\")\n",
    "    \n",
    "    question = state[\"messages\"][0]\n",
    "    \n",
    "    prompt=PromptTemplate(\n",
    "        template=\"\"\"You are an assistant for question-answering tasks. Use the following pieces of retrieved context to answer the question. If you don't know the answer, just say that you don't know. Use three sentences maximum and keep the answer concise.\\nQuestion: {question} \\nContext: {context} \\nAnswer:\"\"\",\n",
    "        \n",
    "        input_variables=['context', 'question']\n",
    "    )\n",
    "    \n",
    "    rag_chain = (\n",
    "        {\"context\": retriever | format_docs, \"question\": RunnablePassthrough()}\n",
    "        | prompt\n",
    "        | model\n",
    "        | StrOutputParser()\n",
    "    )\n",
    "    result = rag_chain.invoke(question)\n",
    "    return  {\"messages\": [result]}"
   ]
  },
  {
   "cell_type": "code",
   "execution_count": 17,
   "id": "7c166ee1",
   "metadata": {},
   "outputs": [],
   "source": [
    "from langchain_tavily import TavilySearch\n",
    "import os\n",
    "TAVILY_API_KEY=os.getenv(\"TAVILY_API_KEY\")"
   ]
  },
  {
   "cell_type": "code",
   "execution_count": 18,
   "id": "206a354c",
   "metadata": {},
   "outputs": [],
   "source": [
    "def function4(state: AgentState):\n",
    "    print(\"Internet Call\")\n",
    "    tavily_tool=TavilySearch(tavily_api_key=TAVILY_API_KEY)\n",
    "    question = state[\"messages\"][0]\n",
    "\n",
    "    complete_query = \"Anwer the follow question by searching the internet and getting best response. Following is the user question: \" + question\n",
    "    response = tavily_tool.invoke(complete_query)\n",
    "\n",
    "    results = response.get(\"results\", [])\n",
    "\n",
    "    if isinstance(results, list) and len(results) > 0:\n",
    "        top_result = results[0]\n",
    "        title = top_result.get(\"title\", \"Source\")\n",
    "        content = top_result.get(\"content\", \"No summary available.\")\n",
    "        url = top_result.get(\"url\", \"\")\n",
    "\n",
    "        # Nicely formatted Markdown message\n",
    "        top_answer = f\"{content}\"\n",
    "    else:\n",
    "        top_answer = \"Sorry, I couldn't find any relevant results.\"\n",
    "\n",
    "    return {\"messages\": [top_answer]}\n",
    "    "
   ]
  },
  {
   "cell_type": "code",
   "execution_count": 19,
   "id": "27f99b4b",
   "metadata": {},
   "outputs": [],
   "source": [
    "\n",
    "\n",
    "# def function5(state: AgentState):\n",
    "#     print(\"-> Validation Call ->\")\n",
    "#     question = state[\"messages\"][0]\n",
    "#     result = state[\"messages\"][-1]\n",
    "    \n",
    "#     template=\"\"\"\n",
    "#     Your task is to classify the result for the user query into one of the following categories: [Relevant, Irrelevant]. \n",
    "#     Only respond with the category name and nothing else.\n",
    "\n",
    "#     User query: {question}\n",
    "#     Result: {result}\n",
    "#     {format_instructions}\n",
    "#     \"\"\"\n",
    "    \n",
    "#     prompt= PromptTemplate(\n",
    "#         template=template,\n",
    "#         input_variables=[\"question\", \"result\"],\n",
    "#         partial_variables={\"format_instructions\": val_parser.get_format_instructions()}\n",
    "#     )\n",
    "    \n",
    "    \n",
    "#     chain= prompt | model | val_parser\n",
    "    \n",
    "#     response = chain.invoke({\"question\":question, \"result\": result})\n",
    "    \n",
    "#     print(\"Parsed response:\", response)\n",
    "    \n",
    "#     return {\"messages\": [response.Topic]}"
   ]
  },
  {
   "cell_type": "code",
   "execution_count": 20,
   "id": "865e413f",
   "metadata": {},
   "outputs": [],
   "source": [
    "from langchain_core.output_parsers.string import StrOutputParser\n",
    "\n",
    "def function5(state: AgentState):\n",
    "    print(\"-> Validation Call ->\")\n",
    "    question = state[\"messages\"][0]\n",
    "    result = state[\"messages\"][-1]\n",
    "\n",
    "    template = \"\"\"\n",
    "    Your task is to classify the result for the user query into one of the following categories: [Relevant, Irrelevant].\n",
    "\n",
    "    Only respond with one word: \"Relevant\" or \"Irrelevant\".\n",
    "    Do not include any other text, explanation, or formatting.\n",
    "\n",
    "    User query: {question}\n",
    "    Result: {result}\n",
    "    \"\"\"\n",
    "\n",
    "    prompt = PromptTemplate(\n",
    "        template=template,\n",
    "        input_variables=[\"question\", \"result\"]\n",
    "    )\n",
    "\n",
    "    chain = prompt | model | StrOutputParser()\n",
    "\n",
    "    raw_response = chain.invoke({\"question\": question, \"result\": result})\n",
    "\n",
    "    # Normalize the output to ensure safety\n",
    "    label = raw_response.strip().lower()\n",
    "    if \"relevant\" in label:\n",
    "        label = \"Relevant\"\n",
    "    elif \"irrelevant\" in label:\n",
    "        label = \"Irrelevant\"\n",
    "    else:\n",
    "        label = \"Irrelevant\"  # fallback\n",
    "\n",
    "    return {\"messages\": [label]}"
   ]
  },
  {
   "cell_type": "code",
   "execution_count": 21,
   "id": "f939d3fc",
   "metadata": {},
   "outputs": [],
   "source": [
    "def router2(state: AgentState):\n",
    "    print(\"-> ROUTER2 ->\")\n",
    "\n",
    "    last_message = state[\"messages\"][-1]\n",
    "\n",
    "    print(\"Last Message - \", last_message)\n",
    "\n",
    "    if \"relevant\" in last_message.lower():\n",
    "        return \"Satisfied\"\n",
    "    else:\n",
    "        return \"Not Satisfied\""
   ]
  },
  {
   "cell_type": "code",
   "execution_count": 22,
   "id": "a3e89a68",
   "metadata": {},
   "outputs": [
    {
     "data": {
      "text/plain": [
       "<langgraph.graph.state.StateGraph at 0x1e6000401a0>"
      ]
     },
     "execution_count": 22,
     "metadata": {},
     "output_type": "execute_result"
    }
   ],
   "source": [
    "workflow.add_node(\"Supervisor\", function1)"
   ]
  },
  {
   "cell_type": "code",
   "execution_count": 23,
   "id": "5d2d6c8f",
   "metadata": {},
   "outputs": [
    {
     "data": {
      "text/plain": [
       "<langgraph.graph.state.StateGraph at 0x1e6000401a0>"
      ]
     },
     "execution_count": 23,
     "metadata": {},
     "output_type": "execute_result"
    }
   ],
   "source": [
    "workflow.add_node(\"LLM\", function2)"
   ]
  },
  {
   "cell_type": "code",
   "execution_count": 24,
   "id": "d0fb3564",
   "metadata": {},
   "outputs": [
    {
     "data": {
      "text/plain": [
       "<langgraph.graph.state.StateGraph at 0x1e6000401a0>"
      ]
     },
     "execution_count": 24,
     "metadata": {},
     "output_type": "execute_result"
    }
   ],
   "source": [
    "workflow.add_node(\"RAG\", function3)"
   ]
  },
  {
   "cell_type": "code",
   "execution_count": 25,
   "id": "f3a4714f",
   "metadata": {},
   "outputs": [
    {
     "data": {
      "text/plain": [
       "<langgraph.graph.state.StateGraph at 0x1e6000401a0>"
      ]
     },
     "execution_count": 25,
     "metadata": {},
     "output_type": "execute_result"
    }
   ],
   "source": [
    "workflow.add_node(\"Internet\", function4)"
   ]
  },
  {
   "cell_type": "code",
   "execution_count": 26,
   "id": "c38a26fd",
   "metadata": {},
   "outputs": [
    {
     "data": {
      "text/plain": [
       "<langgraph.graph.state.StateGraph at 0x1e6000401a0>"
      ]
     },
     "execution_count": 26,
     "metadata": {},
     "output_type": "execute_result"
    }
   ],
   "source": [
    "workflow.add_node(\"Validation\", function5)"
   ]
  },
  {
   "cell_type": "code",
   "execution_count": 27,
   "id": "e1fefd53",
   "metadata": {},
   "outputs": [
    {
     "data": {
      "text/plain": [
       "<langgraph.graph.state.StateGraph at 0x1e6000401a0>"
      ]
     },
     "execution_count": 27,
     "metadata": {},
     "output_type": "execute_result"
    }
   ],
   "source": [
    "workflow.set_entry_point(\"Supervisor\")"
   ]
  },
  {
   "cell_type": "code",
   "execution_count": 28,
   "id": "73561c30",
   "metadata": {},
   "outputs": [
    {
     "data": {
      "text/plain": [
       "<langgraph.graph.state.StateGraph at 0x1e6000401a0>"
      ]
     },
     "execution_count": 28,
     "metadata": {},
     "output_type": "execute_result"
    }
   ],
   "source": [
    "workflow.add_conditional_edges(\n",
    "    \"Supervisor\",\n",
    "    router,\n",
    "    {\n",
    "        \"LLM Call\": \"LLM\",\n",
    "        \"RAG Call\": \"RAG\",\n",
    "        \"Internet Call\": \"Internet\"\n",
    "    }\n",
    ")"
   ]
  },
  {
   "cell_type": "code",
   "execution_count": 29,
   "id": "2d452af9",
   "metadata": {},
   "outputs": [
    {
     "data": {
      "text/plain": [
       "<langgraph.graph.state.StateGraph at 0x1e6000401a0>"
      ]
     },
     "execution_count": 29,
     "metadata": {},
     "output_type": "execute_result"
    }
   ],
   "source": [
    "workflow.add_edge(\"LLM\", \"Validation\")"
   ]
  },
  {
   "cell_type": "code",
   "execution_count": 30,
   "id": "441858b7",
   "metadata": {},
   "outputs": [
    {
     "data": {
      "text/plain": [
       "<langgraph.graph.state.StateGraph at 0x1e6000401a0>"
      ]
     },
     "execution_count": 30,
     "metadata": {},
     "output_type": "execute_result"
    }
   ],
   "source": [
    "workflow.add_edge(\"RAG\", \"Validation\")"
   ]
  },
  {
   "cell_type": "code",
   "execution_count": 31,
   "id": "f07f1867",
   "metadata": {},
   "outputs": [
    {
     "data": {
      "text/plain": [
       "<langgraph.graph.state.StateGraph at 0x1e6000401a0>"
      ]
     },
     "execution_count": 31,
     "metadata": {},
     "output_type": "execute_result"
    }
   ],
   "source": [
    "workflow.add_edge(\"Internet\", \"Validation\")"
   ]
  },
  {
   "cell_type": "code",
   "execution_count": 32,
   "id": "1bbe8114",
   "metadata": {},
   "outputs": [
    {
     "data": {
      "text/plain": [
       "<langgraph.graph.state.StateGraph at 0x1e6000401a0>"
      ]
     },
     "execution_count": 32,
     "metadata": {},
     "output_type": "execute_result"
    }
   ],
   "source": [
    "workflow.add_conditional_edges(\n",
    "    \"Validation\",\n",
    "    router2,\n",
    "    {\n",
    "        \"Satisfied\": END,\n",
    "        \"Not Satisfied\": \"Supervisor\"\n",
    "    }\n",
    ")"
   ]
  },
  {
   "cell_type": "code",
   "execution_count": 33,
   "id": "70b46507",
   "metadata": {},
   "outputs": [],
   "source": [
    "app = workflow.compile()"
   ]
  },
  {
   "cell_type": "code",
   "execution_count": 34,
   "id": "455b3c62",
   "metadata": {},
   "outputs": [
    {
     "data": {
      "image/png": "[encoded data removed]",
      "text/plain": [
       "<langgraph.graph.state.CompiledStateGraph object at 0x000001E600041160>"
      ]
     },
     "execution_count": 34,
     "metadata": {},
     "output_type": "execute_result"
    }
   ],
   "source": [
    "app"
   ]
  },
  {
   "cell_type": "code",
   "execution_count": 35,
   "id": "49d950a7",
   "metadata": {},
   "outputs": [
    {
     "name": "stdout",
     "output_type": "stream",
     "text": [
      "Question what is a gdp of usa?\n",
      "Parsed response: Topic='Internet' Reasoning=\"The GDP of the USA is a current economic figure that requires the latest data, which may not be in the LLM's training data and necessitates an internet search for up-to-date information.\"\n",
      "-> ROUTER ->\n",
      "Last Message -  Internet\n",
      "Internet Call\n",
      "-> Validation Call ->\n",
      "-> ROUTER2 ->\n",
      "Last Message -  Relevant\n"
     ]
    },
    {
     "data": {
      "text/plain": [
       "{'messages': ['what is a gdp of usa?',\n",
       "  'Internet',\n",
       "  'Gross Domestic Product, 1st Quarter 2025 (Advance Estimate) | U.S. Bureau of Economic Analysis (BEA) **Real gross domestic product (GDP)** decreased at an annual rate of 0.3 percent in the first quarter of 2025 (January, February, and March), according to the advance estimate released by the U.S. Bureau of Economic Analysis. Real GDP decreased at an annual rate of 0.3 percent (less than 0.1 percent at a quarterly rate 1) in the first quarter, primarily reflecting an increase in imports and a decrease in government spending that were partly offset by increases in investment, consumer spending, and exports. More information on the source data and BEA assumptions that underlie the first-quarter estimate is shown in the key source data and assumptions table (available at 10 a.m.).',\n",
       "  'Relevant']}"
      ]
     },
     "execution_count": 35,
     "metadata": {},
     "output_type": "execute_result"
    }
   ],
   "source": [
    "state={\"messages\":[\"what is a gdp of usa?\"]}\n",
    "app.invoke(state)"
   ]
  },
  {
   "cell_type": "code",
   "execution_count": 36,
   "id": "71241935",
   "metadata": {},
   "outputs": [
    {
     "name": "stdout",
     "output_type": "stream",
     "text": [
      "Question What is LLM?\n",
      "Parsed response: Topic='LLM' Reasoning=\"The query asks for the definition/explanation of 'LLM' (Large Language Model), which is a core concept within the scope of LLMs themselves. This doesn't require current/event-specific internet knowledge and is general technical knowledge.\"\n",
      "-> ROUTER ->\n",
      "Last Message -  LLM\n",
      "-> LLM Call ->\n",
      "-> Validation Call ->\n",
      "-> ROUTER2 ->\n",
      "Last Message -  Relevant\n"
     ]
    },
    {
     "data": {
      "text/plain": [
       "{'messages': ['What is LLM?',\n",
       "  'LLM',\n",
       "  '\\n<think>\\nOkay, the user is asking, \"What is LLM?\" I need to explain what an LLM is. Let me start by recalling that LLM stands for Large Language Model. I should define it in simple terms first.\\n\\nAn LLM is a type of artificial intelligence designed to process and generate human-like text. These models are trained on vast amounts of internet text data. I should mention some key characteristics, like their size in terms of parameters. I remember that LLMs have billions of parameters, which makes them more powerful than smaller models.\\n\\nI should also explain how they\\'re trained. They\\'re trained using machine learning techniques, often with unsupervised or semi-supervised learning, to predict the next word in a sequence. This helps them understand context and generate coherent responses. Maybe I should give examples of popular LLMs, like GPT, BERT, or the ones from OpenAI or Google\\'s models like LaMDA or PaLM.\\n\\nIt\\'s important to note their capabilities. They can write stories, emails, code, and even engage in conversations. But I should also mention limitations, such as potential biases or generating incorrect information if not properly trained. Applications might include customer service chatbots, content creation, and research assistants.\\n\\nWait, I should make sure to clarify that LLM stands for Large Language Model, not to confuse it with other acronyms. Also, maybe touch on how they are used in real-world applications. Oh, and maybe mention that the term LLM is often associated with models developed by companies like OpenAI, Google, Meta, etc. Also, explain that the \"Large\" refers to the scale of the training data and the model architecture.\\n\\nHmm, should I mention anything about the training data sources? Like how they use a lot of web text, books, and other sources? That might help the user understand why they can answer various topics.\\n\\nI should also consider the audience. The user might not know much about AI, so avoiding jargon is important. Keep it straightforward. Maybe a simple definition, key features, examples, and uses. Make sure to structure it clearly so it\\'s easy to follow.\\n\\nLet me check if there\\'s anything else. Maybe mention that LLMs can be fine-tuned for specific tasks, which allows them to be adapted for different applications. Also, touch on the potential ethical concerns, like misinformation or privacy issues, though that might be beyond the basic question. But the user asked for a real-world knowledge-based answer, so maybe a brief mention is okay.\\n\\nAlright, putting it all together: start with the acronym, explain what it is, how it\\'s trained, key features, examples, applications, and some limitations or considerations. That should cover the user\\'s question comprehensively without getting too technical.\\n</think>\\n\\n**LLM** stands for **Large Language Model**, a type of artificial intelligence (AI) designed to process and generate human-like text. Here\\'s a breakdown of what an LLM is and its key aspects:\\n\\n### Key Features:\\n1. **Scale & Complexity**: \\n   - LLMs have **billions or trillions of parameters** (variables that define their learning), making them significantly larger than traditional models. Examples include OpenAI’s GPT series (e.g., GPT-3, GPT-4), Google’s PaLM, and Meta’s Llama.\\n\\n2. **Training Data**:\\n   - They are trained on **massive datasets** from the internet, books, articles, and other textual sources. This extensive data allows them to understand context, syntax, and semantic relationships.\\n\\n3. **Capabilities**:\\n   - **Text Generation**: Can write essays, stories, emails, code, and even simulate conversations.\\n   - **Multilingual Support**: Many LLMs understand and generate text in multiple languages.\\n   - **Context Understanding**: They can infer meaning from context, answer questions, and even express opinions (though not always accurately).\\n\\n4. **Training Methods**:\\n   - Trained via **unsupervised learning** (learning from raw data without explicit instructions) or **reinforcement learning from human feedback** (RLHF), where human input refines their outputs.\\n\\n---\\n\\n### Real-World Applications:\\n- **Content Creation**: Used in writing blogs, scripts, or marketing materials.\\n- **Customer Service**: Power chatbots for businesses to handle inquiries.\\n- **Programming**: Assist developers in writing and debugging code (e.g., GitHub Copilot).\\n- **Research & Education**: Summarize papers, generate hypotheses, or explain complex concepts.\\n\\n---\\n\\n### Limitations & Considerations:\\n- **Bias & Inaccuracy**: May reflect biases present in their training data or produce incorrect/inappropriate outputs if not carefully managed.\\n- **Ethical Concerns**: Risks include spreading misinformation, plagiarism, or misuse in deepfakes.\\n- **Computational Cost**: Training and running LLMs require significant computational resources.\\n\\n---\\n\\n### Examples of Prominent LLMs:\\n- **GPT-4** (OpenAI): A versatile model used in chatbots, content generation, and coding.\\n- **BERT** (Google): Specializes in understanding context for tasks like sentiment analysis.\\n- **PaLM** (Google): Known for its advanced reasoning and multilingual capabilities.\\n- **Llama** (Meta): Open-source models for research and development.\\n\\n---\\n\\nIn summary, LLMs are powerful tools enabling advanced AI interactions but require careful handling to address their limitations and ethical implications.',\n",
       "  'Relevant']}"
      ]
     },
     "execution_count": 36,
     "metadata": {},
     "output_type": "execute_result"
    }
   ],
   "source": [
    "state={\"messages\":[\"What is LLM?\"]}\n",
    "app.invoke(state)\n",
    "\n"
   ]
  },
  {
   "cell_type": "code",
   "execution_count": 39,
   "id": "97ff4bcc",
   "metadata": {},
   "outputs": [
    {
     "name": "stdout",
     "output_type": "stream",
     "text": [
      "Question From the data, tell me how do we get the GDP of USA?\n",
      "Parsed response: Topic='USA' Reasoning='The query asks about obtaining the GDP of the USA, which relates to economic data specific to the United States. The methodology for calculating GDP (e.g., through government sources like the Bureau of Economic Analysis) is established knowledge within the scope of LLMs, not requiring real-time internet search.'\n",
      "-> ROUTER ->\n",
      "Last Message -  USA\n",
      "-> RAG Call ->\n",
      "-> Validation Call ->\n",
      "-> ROUTER2 ->\n",
      "Last Message -  Relevant\n"
     ]
    },
    {
     "data": {
      "text/plain": [
       "{'messages': ['From the data, tell me how do we get the GDP of USA?',\n",
       "  'USA',\n",
       "  '\\n<think>\\nOkay, the user is asking how we get the GDP of the USA. Let me check the provided context. The context mentions \"U.S. GDP – Size, Composition, and Global Share\" and \"GDP Growth Trends and Dynamics\". But wait, those titles don\\'t actually explain the calculation method. The user wants to know the method of calculating GDP. The context here doesn\\'t go into the details like expenditure approach (C+I+G+NX) or income approach. Since the given context doesn\\'t provide the method, I should state that I don\\'t know based on the provided information. I need to make sure not to use external knowledge here. The answer should be that the provided contexts don\\'t explain the calculation method, so I can\\'t answer with the given data.\\n</think>\\n\\nThe provided contexts mention U.S. GDP\\'s size, composition, global share, and growth trends but do not explain the methodology for calculating GDP. Without specific details on data sources (e.g., BEA reports) or calculation approaches (e.g., expenditure, income), I cannot outline the process using the given information. I don\\'t know the answer based on the retrieved context.',\n",
       "  'Relevant']}"
      ]
     },
     "execution_count": 39,
     "metadata": {},
     "output_type": "execute_result"
    }
   ],
   "source": [
    "state={\"messages\":[\"From the data, tell me how do we get the GDP of USA?\"]}\n",
    "app.invoke(state)\n"
   ]
  },
  {
   "cell_type": "code",
   "execution_count": null,
   "id": "4c55491c",
   "metadata": {},
   "outputs": [],
   "source": []
  }
 ],
 "metadata": {
  "kernelspec": {
   "display_name": "Python 3",
   "language": "python",
   "name": "python3"
  },
  "language_info": {
   "codemirror_mode": {
    "name": "ipython",
    "version": 3
   },
   "file_extension": ".py",
   "mimetype": "text/x-python",
   "name": "python",
   "nbconvert_exporter": "python",
   "pygments_lexer": "ipython3",
   "version": "3.13.0"
  }
 },
 "nbformat": 4,
 "nbformat_minor": 5
}
