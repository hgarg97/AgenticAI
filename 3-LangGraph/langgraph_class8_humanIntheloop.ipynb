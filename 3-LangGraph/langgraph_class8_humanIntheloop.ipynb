{
 "cells": [
  {
   "cell_type": "markdown",
   "id": "1ab81be7",
   "metadata": {},
   "source": [
    "## Human In Loop"
   ]
  },
  {
   "cell_type": "code",
   "execution_count": null,
   "id": "7b67e346",
   "metadata": {},
   "outputs": [],
   "source": [
    "from dotenv import load_dotenv\n",
    "load_dotenv()"
   ]
  },
  {
   "cell_type": "code",
   "execution_count": 1,
   "id": "fa638dcb",
   "metadata": {},
   "outputs": [
    {
     "data": {
      "text/plain": [
       "AIMessage(content='<think>\\n\\n</think>\\n\\nThe capital of France is Paris.', additional_kwargs={}, response_metadata={'token_usage': {'completion_tokens': 12, 'prompt_tokens': 10, 'total_tokens': 22, 'completion_time': 0.046422739, 'prompt_time': 0.000203417, 'queue_time': 0.202299828, 'total_time': 0.046626156}, 'model_name': 'deepseek-r1-distill-llama-70b', 'system_fingerprint': 'fp_1bbe7845ec', 'finish_reason': 'stop', 'logprobs': None}, id='run--0df7b5fd-a9ca-44e5-965b-3d3e5e491f29-0', usage_metadata={'input_tokens': 10, 'output_tokens': 12, 'total_tokens': 22})"
      ]
     },
     "execution_count": 1,
     "metadata": {},
     "output_type": "execute_result"
    }
   ],
   "source": [
    "from langchain_groq import ChatGroq\n",
    "llm=ChatGroq(model_name=\"deepseek-r1-distill-llama-70b\")\n",
    "\n",
    "llm.invoke(\"What is the capital of France?\")\n"
   ]
  },
  {
   "cell_type": "markdown",
   "id": "a4352fa9",
   "metadata": {},
   "source": [
    "### Tools"
   ]
  },
  {
   "cell_type": "code",
   "execution_count": 2,
   "id": "c50eb458",
   "metadata": {},
   "outputs": [],
   "source": [
    "from langchain_core.tools import tool\n",
    "from langchain_community.tools.tavily_search import TavilySearchResults"
   ]
  },
  {
   "cell_type": "code",
   "execution_count": 3,
   "id": "d18934de",
   "metadata": {},
   "outputs": [],
   "source": [
    "@tool\n",
    "def multiply(x: int, y: int) -> int:\n",
    "    \"\"\"Multiplies two numbers.\"\"\"\n",
    "    return x * y\n",
    "\n",
    "@tool\n",
    "def search(query: str):\n",
    "    \"\"\"search the web for a query and return the results\"\"\"\n",
    "    tavily=TavilySearchResults()\n",
    "    result=tavily.invoke(query)\n",
    "    return f\"Result for {query} is: \\n{result}\""
   ]
  },
  {
   "cell_type": "code",
   "execution_count": 6,
   "id": "3365a557",
   "metadata": {},
   "outputs": [
    {
     "data": {
      "text/plain": [
       "[StructuredTool(name='multiply', description='Multiplies two numbers.', args_schema=<class 'langchain_core.utils.pydantic.multiply'>, func=<function multiply at 0x0000025DA918A2A0>),\n",
       " StructuredTool(name='search', description='search the web for a query and return the results', args_schema=<class 'langchain_core.utils.pydantic.search'>, func=<function search at 0x0000025DA9448EA0>)]"
      ]
     },
     "execution_count": 6,
     "metadata": {},
     "output_type": "execute_result"
    }
   ],
   "source": [
    "tools = [multiply, search]\n",
    "tools"
   ]
  },
  {
   "cell_type": "code",
   "execution_count": 7,
   "id": "0518aa66",
   "metadata": {},
   "outputs": [],
   "source": [
    "llm_with_tools=llm.bind_tools(tools)"
   ]
  },
  {
   "cell_type": "code",
   "execution_count": 8,
   "id": "3ba2afbb",
   "metadata": {},
   "outputs": [],
   "source": [
    "result=llm_with_tools.invoke(\"what is current gdp of india?\")"
   ]
  },
  {
   "cell_type": "code",
   "execution_count": 9,
   "id": "268a506b",
   "metadata": {},
   "outputs": [
    {
     "data": {
      "text/plain": [
       "[{'name': 'search',\n",
       "  'args': {'query': 'current GDP of India'},\n",
       "  'id': 'ndm2r3fgs',\n",
       "  'type': 'tool_call'}]"
      ]
     },
     "execution_count": 9,
     "metadata": {},
     "output_type": "execute_result"
    }
   ],
   "source": [
    "result.tool_calls\n"
   ]
  },
  {
   "cell_type": "code",
   "execution_count": 10,
   "id": "009a1c81",
   "metadata": {},
   "outputs": [
    {
     "data": {
      "text/plain": [
       "'search'"
      ]
     },
     "execution_count": 10,
     "metadata": {},
     "output_type": "execute_result"
    }
   ],
   "source": [
    "result.tool_calls[0][\"name\"]\n"
   ]
  },
  {
   "cell_type": "code",
   "execution_count": 11,
   "id": "d84a1849",
   "metadata": {},
   "outputs": [
    {
     "data": {
      "text/plain": [
       "{'query': 'current GDP of India'}"
      ]
     },
     "execution_count": 11,
     "metadata": {},
     "output_type": "execute_result"
    }
   ],
   "source": [
    "result.tool_calls[0][\"args\"]"
   ]
  },
  {
   "cell_type": "code",
   "execution_count": 12,
   "id": "4b6a629b",
   "metadata": {},
   "outputs": [
    {
     "data": {
      "text/plain": [
       "dict"
      ]
     },
     "execution_count": 12,
     "metadata": {},
     "output_type": "execute_result"
    }
   ],
   "source": [
    "type(result.tool_calls[0][\"args\"])"
   ]
  },
  {
   "cell_type": "code",
   "execution_count": 13,
   "id": "a8d75a76",
   "metadata": {},
   "outputs": [
    {
     "data": {
      "text/plain": [
       "{'multiply': StructuredTool(name='multiply', description='Multiplies two numbers.', args_schema=<class 'langchain_core.utils.pydantic.multiply'>, func=<function multiply at 0x0000025DA918A2A0>),\n",
       " 'search': StructuredTool(name='search', description='search the web for a query and return the results', args_schema=<class 'langchain_core.utils.pydantic.search'>, func=<function search at 0x0000025DA9448EA0>)}"
      ]
     },
     "execution_count": 13,
     "metadata": {},
     "output_type": "execute_result"
    }
   ],
   "source": [
    "tool_mapping={tool.name:tool for tool in tools}\n",
    "\n",
    "tool_mapping"
   ]
  },
  {
   "cell_type": "code",
   "execution_count": 14,
   "id": "3ebe25f8",
   "metadata": {},
   "outputs": [
    {
     "data": {
      "text/plain": [
       "StructuredTool(name='search', description='search the web for a query and return the results', args_schema=<class 'langchain_core.utils.pydantic.search'>, func=<function search at 0x0000025DA9448EA0>)"
      ]
     },
     "execution_count": 14,
     "metadata": {},
     "output_type": "execute_result"
    }
   ],
   "source": [
    "tool_mapping[\"search\"]"
   ]
  },
  {
   "cell_type": "code",
   "execution_count": 15,
   "id": "812bdde9",
   "metadata": {},
   "outputs": [
    {
     "data": {
      "text/plain": [
       "'Result for What is the capital of india? is: \\n[{\\'title\\': \\'Which City became the capital of India for a day, Check here\\', \\'url\\': \\'https://www.jagranjosh.com/general-knowledge/which-city-became-the-capital-of-india-for-a-day-1731421925-1\\', \\'content\\': \\'If someone asks you what is the capital of India, you will answer that it is New Delhi, which the British established. In Indian history, the capital of the country changed many times and different cities got the honour of becoming the capital of the country. [...] ## If you are asked what the capital of India is, your answer will be New Delhi, which was settled by the British. Do you know that once in Indian history, a district was made the capital of the country? However, this incident lasted only for a day, after which it was recorded in the pages of history forever. This article will introduce you to one such district in India.\\\\n\\\\nByKishan Kumar\\\\n\\\\nNov 12, 2024, 20:03 IST\\\\n\\\\none day capital of India [...] After making Kolkata its capital, on 12 December 1912, New Delhi was declared as the capital of the country in the presence of George V. Since then, the name of New Delhi has been associated with the capital of the country.\\\\n\\\\nKishan Kumar\\\\n\\\\nSenior content writer\\', \\'score\\': 0.91901255}, {\\'title\\': \\'New Delhi - Wikipedia\\', \\'url\\': \\'https://en.wikipedia.org/wiki/New_Delhi\\', \\'content\\': \\'Appearance\\\\n\\\\nmove to sidebar hide\\\\n\\\\nCoordinates: 28°36′50″N 77°12′32″E / 28.61389°N 77.20889°E / 28.61389; 77.20889\\\\n\\\\nImage 4: Page semi-protected\\\\n\\\\nFrom Wikipedia, the free encyclopedia\\\\n\\\\nCapital city of India\\\\n\\\\nThis article is about the capital of India, within the union territory of Delhi. For other uses, see New Delhi (disambiguation) \"New Delhi (disambiguation)\"). [...] New Delhi (/ˈ nj uː ˈ d ɛ.l i/ⓘ;( _\\\\\\\\_\\\\\\\\\\\\\\\\_Naī Dillī\\\\\\\\\\\\\\\\_\\\\\\\\__, pronounced( \"Help:IPA/Hindi and Urdu\")) is the capital of India and a part of the National Capital Territory of Delhi (NCT). New Delhi is the seat of all three branches of the Government of India, hosting the Rashtrapati Bhavan, Sansad Bhavan, and the Supreme Court. New Delhi is a municipality within the NCT, administered by the New Delhi Municipal Council (NDMC), which covers mostly Lutyens\\\\\\' Delhi and a few adjacent areas. The municipal [...] a Hindu Mandir  \\\\n   Image 30: Qila-i-Kuhna Mosque inside Old Fort, a mosque Qila-i-Kuhna Mosque inside Old Fort, \\\\n\\\\na mosque \\\\n\\\\nGovernment\\\\n----------\\\\n\\\\nMain articles: New Delhi Municipal Council, Government of Delhi, and Delhi Police\\\\n\\\\nThe national capital of India, New Delhi is jointly administered by both the Central Government of India and the local Government of Delhi, it is also the capital of the National Capital Territory (NCT) of Delhi.\\\\n\\\\nImage 31\\\\n\\\\nMunicipalities of Delhi\\\\n\\\\nImage 32\\', \\'score\\': 0.9108078}, {\\'title\\': \\'Capital of India - Definition, Meaning & Synonyms - Vocabulary.com\\', \\'url\\': \\'https://www.vocabulary.com/dictionary/capital%20of%20India\\', \\'content\\': \\'1.  noun\\\\n    \\\\n    the capital of India is a division of the old city of Delhi\\\\n    \\\\n    synonyms: Indian capital, New Delhi\\\\n    \\\\n    see moresee less\\\\n    \\\\n    example of:\\\\n    \\\\n    national capital\\\\n    \\\\n    the capital city of a nation\\\\n    \\\\n\\\\nCite this entry\\\\n\\\\nStyle:\\\\n\\\\nMLA\\\\n\\\\n   MLA\\\\n   APA\\\\n   Chicago\\\\n\\\\n\"Capital of India.\" _Vocabulary.com Dictionary,_ Vocabulary.com,  of India. Accessed 11 May. 2025.\\\\n\\\\nCopy citation\\', \\'score\\': 0.90810597}, {\\'title\\': \\'New Delhi | History, Population, Map, & Facts | Britannica\\', \\'url\\': \\'https://www.britannica.com/place/New-Delhi\\', \\'content\\': \\'Image 19: New Delhi, India\\\\n\\\\nNew Delhi, India(more)\\\\n\\\\nNew Delhi, national capital of India. It is situated in the north-central part of the country on the west bank of the Yamuna River, adjacent to and just south of Delhi city (Old Delhi) and within the Delhi national capital territory. [...] Delhi, city and national capital, and union territory, north-central India. The city of Delhi actually consists of two components: Old Delhi, in the north, the historic city; and New Delhi, in the south, since 1947 the capital of India, built in the first part of the 20th century as the capital of British India.\\\\n\\\\nImage 45: Rashtrapati Bhavan and the Jaipur Column [...] What is New Delhi?\\\\n\\\\nNew Delhi is the national capital of India.\\\\n\\\\n### \\\\n\\\\nWhere is New Delhi?\\\\n\\\\nNew Delhi is situated in the north-central part of India on the west bank of the Yamuna River, adjacent to and just south of Old Delhi, the historic centre of Delhi, and within the Delhi national capital territory.\\\\n\\\\n### \\\\n\\\\nWhen was New Delhi founded?\\', \\'score\\': 0.8449346}, {\\'title\\': \\'Capital City of India] - CountryReports\\', \\'url\\': \\'https://www.countryreports.org/country/India/capital-city.htm\\', \\'content\\': \\'|  |  |\\\\n| --- | --- |\\\\n| Capital City | New Delhi |\\\\n| Capital location | 28 36 N, 77 12 E | [...] of the latter designated as New Delhi; the new capital was not formally inaugurated until 1931. | [...] | Capital - history | the city\\\\\\'s name is associated with various myths and legends; the original name for the city may have been Dhilli or Dhillika; alternatively, the name could be a corruption of the Hindustani words \"dehleez\" or \"dehali\" - both terms meaning \"threshold\" or \"gateway\" - and indicative of the city as a gateway to the Gangetic Plain; after the British decided to move the capital of their Indian Empire from Calcutta to Delhi in 1911, they created a new governmental district south\\', \\'score\\': 0.82254606}]'"
      ]
     },
     "execution_count": 15,
     "metadata": {},
     "output_type": "execute_result"
    }
   ],
   "source": [
    "tool_mapping[\"search\"].invoke({\"query\":\"What is the capital of india?\"})"
   ]
  },
  {
   "cell_type": "code",
   "execution_count": 16,
   "id": "22f6d818",
   "metadata": {},
   "outputs": [
    {
     "data": {
      "text/plain": [
       "'Result for current GDP of India is: \\n[{\\'title\\': \\'India Becoming An Economic Powerhouse - PIB\\', \\'url\\': \\'https://www.pib.gov.in/PressNoteDetails.aspx?NoteId=154660\\', \\'content\\': \\'India’s GDP has witnessed a remarkable transformation over the past decade. At current prices, GDP has increased from ₹106.57 lakh crore in 2014–15 to an estimated ₹331.03 lakh crore in 2024–25, an approximate threefold rise in just ten years. In 2024–25 alone, nominal GDP grew by 9.9% over the previous year, while real GDP (at constant prices) increased by 6.5%, reflecting sustained economic momentum. This steep growth reflects the country’s expanding economic base and rising income levels. [...] India, the world’s fourth-largest economy, has emerged as the fastest-growing major economy and is on track to become the world’s third-largest economy with a projected GDP of $7.3 trillion by 2030. India is projected to be world’s fastest growing major economy (6.3% to 6.8% in 2025-26). This transformation is the result of a decade of decisive governance, visionary reforms, and global engagement under Prime Minister Narendra Modi. Driven by robust domestic demand, a dynamic demographic\\', \\'score\\': 0.8834878}, {\\'title\\': \\'World GDP Ranking 2025 List - ClearTax\\', \\'url\\': \\'https://cleartax.in/s/world-gdp-ranking-list\\', \\'content\\': \"India is currently ranked as the 4th largest economy globally in 2025 as of July 2025, overtaking Japan to secure the 4th position among the world\\'s top 10 largest economies, with a nominal GDP of $4.19 trillion in 2025. Moreover, the IMF forecasts that by 2028, India will overtake Germany to become the 3rd largest economy worldwide. [...] As per IMF projections, India\\'s GDP grow is at 6.2% in 2024-25 and 2025-26.With an estimated real GDP of Rs. 187.95 lakh crore in 2024-25, against the real GDP of Rs. 176.51 in 2023-24 generated by a population of over 1 billion, India is among the highest population-based economies in the world. India’s nominal GDP has grown 105% in just a decade, which means that it has more than doubled from 2014 to 2025. [...] In 2025, India has become a $4 trillion economy. As per IMF Data, India is the 4th largest economy in the world in the year 2025 on par with Japan. Today,India’s leading economic contributors are traditional and modern agriculture, technology services, the handicraft industry, and business outsourcing.\", \\'score\\': 0.8539252}, {\\'title\\': \\'India GDP - Trading Economics\\', \\'url\\': \\'https://tradingeconomics.com/india/gdp\\', \\'content\\': \\'##### Members\\\\n\\\\n##### \\\\n\\\\n# India GDP\\\\n\\\\n## The Gross Domestic Product (GDP) in India was worth 3912.69 billion US dollars in 2024, according to official data from the World Bank. The GDP value of India represents 3.69 percent of the world economy. source: World Bank [...] ## GDP in India averaged 834.50 USD Billion from 1960 until 2024, reaching an all time high of 3912.69 USD Billion in 2024 and a record low of 37.03 USD Billion in 1960. This page provides the latest reported value for - India GDP - plus previous releases, historical high and low, short-term forecast and long-term prediction, economic calendar, survey consensus and news. India GDP - values, historical data and charts - was last updated on August of 2025. [...] | Related | Last | Previous | Unit | Reference |\\\\n| --- | --- | --- | --- | --- |\\\\n| Fiscal Year GDP Growth | 6.50 | 9.20 | percent | Mar 2025 |\\\\n| GDP | 3912.69 | 3638.49 | USD Billion | Dec 2024 |\\\\n| GDP Growth Rate YoY | 7.40 | 6.40 | percent | Mar 2025 |\\\\n| GDP Growth Rate | 2.00 | 1.90 | percent | Mar 2025 |\\\\n| GDP per Capita | 2396.71 | 2270.91 | USD | Dec 2024 |\\\\n| GDP per Capita PPP | 9817.07 | 9301.76 | USD | Dec 2024 |\\', \\'score\\': 0.8455478}, {\\'title\\': \"India\\'s Economic Surge - PIB\", \\'url\\': \\'https://www.pib.gov.in/PressNoteDetails.aspx?NoteId=154840&ModuleId=3\\', \\'content\\': \\'Over the past decade, India’s economic size has expanded sharply. In 2014–15, the GDP at current prices was ₹106.57 lakh crore. This figure is expected to rise to ₹331.03 lakh crore in 2024–25, nearly tripling in ten years. In the past year alone, nominal GDP increased by 9.9 per cent, while real GDP rose by 6.5 per cent, underscoring the economy’s continued resilience and vigour.\\\\n\\\\nInflation Under Control [...] Current Account Dynamics\\\\n\\\\nIndia’s current account balance recorded a surplus of USD 13.5 billion (1.3 per cent of GDP) in Q4:2024–25, compared with USD 4.6 billion (0.5 per cent of GDP) in the same quarter of the previous year. This improvement highlights the growing strength of India’s export earnings and the stability of foreign inflows. [...] India’s economy continues to grow at a steady and confident pace, standing out as the fastest growing major economy in the world. Gross Domestic Product (GDP) is a measure of size and health of the economy. It is   the total  value of all the goods and services  produced within a country. In 2024–25, real GDP growth was estimated at 6.5 per cent. The Reserve Bank of India expects the same rate to continue in 2025–26. This performance comes at a time when the global economy faces uncertainty,\\', \\'score\\': 0.84215075}, {\\'title\\': \\'India Fiscal Year GDP Growth - Trading Economics\\', \\'url\\': \\'https://tradingeconomics.com/india/full-year-gdp-growth\\', \\'content\\': \\'| Related | Last | Previous | Unit | Reference |\\\\n| --- | --- | --- | --- | --- |\\\\n| Fiscal Year GDP Growth | 6.50 | 9.20 | percent | Mar 2025 |\\\\n| GDP | 3912.69 | 3638.49 | USD Billion | Dec 2024 |\\\\n| GDP Growth Rate YoY | 7.40 | 6.40 | percent | Mar 2025 |\\\\n| GDP Constant Prices | 51351.63 | 47265.42 | INR Billion | Mar 2025 |\\\\n| GDP from Agriculture | 6773.89 | 7757.32 | INR Billion | Mar 2025 |\\\\n| GDP from Construction | 4636.41 | 3899.90 | INR Billion | Mar 2025 | [...] | GDP from Manufacturing | 8299.55 | 6960.49 | INR Billion | Mar 2025 |\\\\n| GDP from Mining | 1013.49 | 824.88 | INR Billion | Mar 2025 |\\\\n| GDP from Public Administration | 5623.82 | 5544.70 | INR Billion | Mar 2025 |\\\\n| GDP from Utilities | 1000.44 | 963.01 | INR Billion | Mar 2025 |\\\\n| GDP Growth Rate | 2.00 | 1.90 | percent | Mar 2025 |\\\\n| Gross Fixed Capital Formation | 17411.50 | 14991.34 | INR Billion | Mar 2025 | [...] ## Full Year GDP Growth in India decreased to 6.50 percent in 2025 from 9.20 percent in 2024. Full Year GDP Growth in India averaged 6.42 percent from 2006 until 2025, reaching an all time high of 9.70 percent in 2022 and a record low of -5.80 percent in 2021. This page includes a chart with historical data for India Full Year GDP Growth. India Fiscal Year GDP Growth - data, historical chart, forecasts and calendar of releases - was last updated on August of 2025.\\', \\'score\\': 0.79901963}]'"
      ]
     },
     "execution_count": 16,
     "metadata": {},
     "output_type": "execute_result"
    }
   ],
   "source": [
    "tool_mapping[result.tool_calls[0][\"name\"]].invoke(result.tool_calls[0][\"args\"])"
   ]
  },
  {
   "cell_type": "markdown",
   "id": "cd196b3b",
   "metadata": {},
   "source": [
    "### Agent"
   ]
  },
  {
   "cell_type": "code",
   "execution_count": 17,
   "id": "9d586c3e",
   "metadata": {},
   "outputs": [],
   "source": [
    "from typing import TypedDict, Sequence, Annotated\n",
    "import operator\n",
    "from langchain_core.messages import BaseMessage"
   ]
  },
  {
   "cell_type": "code",
   "execution_count": 18,
   "id": "e722952c",
   "metadata": {},
   "outputs": [],
   "source": [
    "class AgentState(TypedDict):\n",
    "    \"\"\"State for the agent.\"\"\"\n",
    "    messages: Annotated[Sequence[BaseMessage],operator.add]"
   ]
  },
  {
   "cell_type": "code",
   "execution_count": 19,
   "id": "7c2f290c",
   "metadata": {},
   "outputs": [],
   "source": [
    "def invoke_model(state:AgentState):\n",
    "    messages=state[\"messages\"]\n",
    "    question=messages[-1]\n",
    "    response=llm_with_tools.invoke(question)\n",
    "    return {\"messages\":[response]}"
   ]
  },
  {
   "cell_type": "code",
   "execution_count": 20,
   "id": "4c103304",
   "metadata": {},
   "outputs": [],
   "source": [
    "def router(state:AgentState):\n",
    "    tool_calls=state[\"messages\"][-1].tool_calls\n",
    "    if len(tool_calls)>0:\n",
    "        return \"tool\" #key name\n",
    "    else:\n",
    "        return \"end\" #key name"
   ]
  },
  {
   "cell_type": "code",
   "execution_count": 21,
   "id": "7d4a41e2",
   "metadata": {},
   "outputs": [],
   "source": [
    "def invoke_tool(state:AgentState):\n",
    "    tool_details=state[\"messages\"][-1].tool_calls\n",
    "    \n",
    "    if tool_details is None:\n",
    "        return Exception(\"No tool calls found in the last message.\")\n",
    "    \n",
    "    print(f\"Seleted tool: {tool_details[0]['name']}\")\n",
    "    \n",
    "    if tool_details[0][\"name\"]==\"search\":\n",
    "        response=input(prompt=f\"[yes/no] do you want to continue with this expensive web search\")\n",
    "        if response.lower()==\"no\":\n",
    "            print(\"web search discarded by the user. exiting gracefully\")\n",
    "            raise Exception(\"Web search discarded by the user.\")\n",
    "            \n",
    "    \n",
    "    response=tool_mapping[tool_details[0][\"name\"]].invoke(tool_details[0][\"args\"])\n",
    "    return {\"messages\":[response]}"
   ]
  },
  {
   "cell_type": "code",
   "execution_count": 22,
   "id": "714bd9dc",
   "metadata": {},
   "outputs": [
    {
     "data": {
      "image/png": "[encoded data removed]",
      "text/plain": [
       "<langgraph.graph.state.CompiledStateGraph object at 0x0000025DA93738C0>"
      ]
     },
     "execution_count": 22,
     "metadata": {},
     "output_type": "execute_result"
    }
   ],
   "source": [
    "from langgraph.graph import StateGraph, START,END\n",
    "\n",
    "graph=StateGraph(AgentState)\n",
    "\n",
    "graph.add_node(\"ai_assistant\", invoke_model)\n",
    "\n",
    "# eariler we were using the tool node from list of tool\n",
    "# but now we have crate tool invoke(custom funtion)\n",
    "# why we are doing it: as a user if we want to take a authority to which i need to give permission for execution\n",
    "\n",
    "graph.add_node(\"tool\", invoke_tool)\n",
    "\n",
    "graph.add_conditional_edges(\"ai_assistant\",\n",
    "                            router,\n",
    "                            {\n",
    "                                \"tool\":\"tool\", ##with the key tool which value is associated <tool>\n",
    "                                \"end\":END\n",
    "                            }\n",
    "                            )\n",
    "\n",
    "graph.add_edge(\"tool\", END)\n",
    "\n",
    "graph.set_entry_point(\"ai_assistant\")\n",
    "\n",
    "app=graph.compile()\n",
    "\n",
    "app"
   ]
  },
  {
   "cell_type": "code",
   "execution_count": 23,
   "id": "90683f24",
   "metadata": {},
   "outputs": [
    {
     "name": "stdout",
     "output_type": "stream",
     "text": [
      "Seleted tool: search\n"
     ]
    },
    {
     "data": {
      "text/plain": [
       "{'messages': ['What is the current gdp of the india?',\n",
       "  AIMessage(content='', additional_kwargs={'reasoning_content': 'Okay, the user is asking for the current GDP of India. I need to figure out how to get that information. I remember that I have a tool called \"search\" which can look up information on the web. So, I should use that tool with the query \"current GDP of India\" to find the most accurate and up-to-date data. I\\'ll format the tool call correctly with the function name as \"search\" and the query as a string. That should help the user get the information they\\'re looking for.\\n', 'tool_calls': [{'id': 'e80kkcrq1', 'function': {'arguments': '{\"query\":\"current GDP of India\"}', 'name': 'search'}, 'type': 'function'}]}, response_metadata={'token_usage': {'completion_tokens': 136, 'prompt_tokens': 176, 'total_tokens': 312, 'completion_time': 0.580744605, 'prompt_time': 0.012195183, 'queue_time': 0.20226217700000002, 'total_time': 0.592939788}, 'model_name': 'deepseek-r1-distill-llama-70b', 'system_fingerprint': 'fp_1bbe7845ec', 'finish_reason': 'tool_calls', 'logprobs': None}, id='run--c3de22eb-c9f0-48de-97bb-660b61d7225e-0', tool_calls=[{'name': 'search', 'args': {'query': 'current GDP of India'}, 'id': 'e80kkcrq1', 'type': 'tool_call'}], usage_metadata={'input_tokens': 176, 'output_tokens': 136, 'total_tokens': 312}),\n",
       "  'Result for current GDP of India is: \\n[{\\'title\\': \\'India Becoming An Economic Powerhouse - PIB\\', \\'url\\': \\'https://www.pib.gov.in/PressNoteDetails.aspx?NoteId=154660\\', \\'content\\': \\'India’s GDP has witnessed a remarkable transformation over the past decade. At current prices, GDP has increased from ₹106.57 lakh crore in 2014–15 to an estimated ₹331.03 lakh crore in 2024–25, an approximate threefold rise in just ten years. In 2024–25 alone, nominal GDP grew by 9.9% over the previous year, while real GDP (at constant prices) increased by 6.5%, reflecting sustained economic momentum. This steep growth reflects the country’s expanding economic base and rising income levels. [...] India, the world’s fourth-largest economy, has emerged as the fastest-growing major economy and is on track to become the world’s third-largest economy with a projected GDP of $7.3 trillion by 2030. India is projected to be world’s fastest growing major economy (6.3% to 6.8% in 2025-26). This transformation is the result of a decade of decisive governance, visionary reforms, and global engagement under Prime Minister Narendra Modi. Driven by robust domestic demand, a dynamic demographic [...] This growth was supported by a marginal increase in merchandise exports, which stood at US$ 437.42 billion in FY 2024–25 compared to US$ 437.07 billion in the previous year, reflecting stability in goods-based trade. Over the decade, merchandise exports rose from US$ 310 billion in 2013–14 to US$ 437.42 billion in 2024–25, marking a 39% increase, driven by sectors such as engineering goods, petroleum products, and electronics.\\', \\'score\\': 0.8834878}, {\\'title\\': \\'World GDP Ranking 2025 List - ClearTax\\', \\'url\\': \\'https://cleartax.in/s/world-gdp-ranking-list\\', \\'content\\': \"India is currently ranked as the 4th largest economy globally in 2025 as of July 2025, overtaking Japan to secure the 4th position among the world\\'s top 10 largest economies, with a nominal GDP of $4.19 trillion in 2025. Moreover, the IMF forecasts that by 2028, India will overtake Germany to become the 3rd largest economy worldwide. [...] As per IMF projections, India\\'s GDP grow is at 6.2% in 2024-25 and 2025-26.With an estimated real GDP of Rs. 187.95 lakh crore in 2024-25, against the real GDP of Rs. 176.51 in 2023-24 generated by a population of over 1 billion, India is among the highest population-based economies in the world. India’s nominal GDP has grown 105% in just a decade, which means that it has more than doubled from 2014 to 2025. [...] In 2025, India has become a $4 trillion economy. As per IMF Data, India is the 4th largest economy in the world in the year 2025 on par with Japan. Today,India’s leading economic contributors are traditional and modern agriculture, technology services, the handicraft industry, and business outsourcing.\", \\'score\\': 0.8539252}, {\\'title\\': \\'India GDP - Trading Economics\\', \\'url\\': \\'https://tradingeconomics.com/india/gdp\\', \\'content\\': \\'##### Members\\\\n\\\\n##### \\\\n\\\\n# India GDP\\\\n\\\\n## The Gross Domestic Product (GDP) in India was worth 3912.69 billion US dollars in 2024, according to official data from the World Bank. The GDP value of India represents 3.69 percent of the world economy. source: World Bank [...] ## GDP in India averaged 834.50 USD Billion from 1960 until 2024, reaching an all time high of 3912.69 USD Billion in 2024 and a record low of 37.03 USD Billion in 1960. This page provides the latest reported value for - India GDP - plus previous releases, historical high and low, short-term forecast and long-term prediction, economic calendar, survey consensus and news. India GDP - values, historical data and charts - was last updated on August of 2025. [...] | Related | Last | Previous | Unit | Reference |\\\\n| --- | --- | --- | --- | --- |\\\\n| Fiscal Year GDP Growth | 6.50 | 9.20 | percent | Mar 2025 |\\\\n| GDP | 3912.69 | 3638.49 | USD Billion | Dec 2024 |\\\\n| GDP Growth Rate YoY | 7.40 | 6.40 | percent | Mar 2025 |\\\\n| GDP Growth Rate | 2.00 | 1.90 | percent | Mar 2025 |\\\\n| GDP per Capita | 2396.71 | 2270.91 | USD | Dec 2024 |\\\\n| GDP per Capita PPP | 9817.07 | 9301.76 | USD | Dec 2024 |\\', \\'score\\': 0.8455478}, {\\'title\\': \"India\\'s Economic Surge - PIB\", \\'url\\': \\'https://www.pib.gov.in/PressNoteDetails.aspx?NoteId=154840&ModuleId=3\\', \\'content\\': \\'Over the past decade, India’s economic size has expanded sharply. In 2014–15, the GDP at current prices was ₹106.57 lakh crore. This figure is expected to rise to ₹331.03 lakh crore in 2024–25, nearly tripling in ten years. In the past year alone, nominal GDP increased by 9.9 per cent, while real GDP rose by 6.5 per cent, underscoring the economy’s continued resilience and vigour.\\\\n\\\\nInflation Under Control [...] Current Account Dynamics\\\\n\\\\nIndia’s current account balance recorded a surplus of USD 13.5 billion (1.3 per cent of GDP) in Q4:2024–25, compared with USD 4.6 billion (0.5 per cent of GDP) in the same quarter of the previous year. This improvement highlights the growing strength of India’s export earnings and the stability of foreign inflows. [...] India’s economy continues to grow at a steady and confident pace, standing out as the fastest growing major economy in the world. Gross Domestic Product (GDP) is a measure of size and health of the economy. It is   the total  value of all the goods and services  produced within a country. In 2024–25, real GDP growth was estimated at 6.5 per cent. The Reserve Bank of India expects the same rate to continue in 2025–26. This performance comes at a time when the global economy faces uncertainty,\\', \\'score\\': 0.84215075}, {\\'title\\': \\'India Fiscal Year GDP Growth - Trading Economics\\', \\'url\\': \\'https://tradingeconomics.com/india/full-year-gdp-growth\\', \\'content\\': \\'| Related | Last | Unit | Reference |\\\\n| --- | --- | --- | --- |\\\\n| Fiscal Year GDP Growth | 6.50 | percent | Mar 2025 |\\\\n| GDP | 3912.69 | USD Billion | Dec 2024 |\\\\n| GDP Growth Rate YoY | 7.40 | percent | Mar 2025 |\\\\n| GDP Constant Prices | 51351.63 | INR Billion | Mar 2025 |\\\\n| GDP from Agriculture | 6773.89 | INR Billion | Mar 2025 |\\\\n| GDP from Construction | 4636.41 | INR Billion | Mar 2025 |\\\\n| GDP from Manufacturing | 8299.55 | INR Billion | Mar 2025 | [...] ## Full Year GDP Growth in India decreased to 6.50 percent in 2025 from 9.20 percent in 2024. Full Year GDP Growth in India averaged 6.42 percent from 2006 until 2025, reaching an all time high of 9.70 percent in 2022 and a record low of -5.80 percent in 2021. This page includes a chart with historical data for India Full Year GDP Growth. India Fiscal Year GDP Growth - data, historical chart, forecasts and calendar of releases - was last updated on August of 2025. [...] | GDP from Mining | 1013.49 | INR Billion | Mar 2025 |\\\\n| GDP from Public Administration | 5623.82 | INR Billion | Mar 2025 |\\\\n| GDP from Utilities | 1000.44 | INR Billion | Mar 2025 |\\\\n| GDP Growth Rate | 2.00 | percent | Mar 2025 |\\\\n| Gross Fixed Capital Formation | 17411.50 | INR Billion | Mar 2025 |\\', \\'score\\': 0.8033131}]']}"
      ]
     },
     "execution_count": 23,
     "metadata": {},
     "output_type": "execute_result"
    }
   ],
   "source": [
    "app.invoke({\"messages\":[\"What is the current gdp of the india?\"]})"
   ]
  },
  {
   "cell_type": "markdown",
   "id": "68fed549",
   "metadata": {},
   "source": [
    "### Human In Loop Use Case 2: Take User Input and Integrate in Workflow"
   ]
  },
  {
   "cell_type": "code",
   "execution_count": 25,
   "id": "3e31d688",
   "metadata": {},
   "outputs": [
    {
     "data": {
      "text/plain": [
       "[StructuredTool(name='multiply', description='Multiplies two numbers.', args_schema=<class 'langchain_core.utils.pydantic.multiply'>, func=<function multiply at 0x0000025DA918A2A0>),\n",
       " StructuredTool(name='search', description='search the web for a query and return the results', args_schema=<class 'langchain_core.utils.pydantic.search'>, func=<function search at 0x0000025DA9448EA0>)]"
      ]
     },
     "execution_count": 25,
     "metadata": {},
     "output_type": "execute_result"
    }
   ],
   "source": [
    "tools"
   ]
  },
  {
   "cell_type": "code",
   "execution_count": 26,
   "id": "368931af",
   "metadata": {},
   "outputs": [],
   "source": [
    "from langgraph.prebuilt import ToolNode, tools_condition\n",
    "tool_node=ToolNode(tools)"
   ]
  },
  {
   "cell_type": "code",
   "execution_count": 28,
   "id": "2049c5ac",
   "metadata": {},
   "outputs": [],
   "source": [
    "llm_with_tools=llm.bind_tools(tools)"
   ]
  },
  {
   "cell_type": "code",
   "execution_count": 27,
   "id": "42cb3c25",
   "metadata": {},
   "outputs": [],
   "source": [
    "class AgentState(TypedDict):\n",
    "    messages: Annotated[Sequence[BaseMessage], operator.add]"
   ]
  },
  {
   "cell_type": "code",
   "execution_count": 35,
   "id": "93e73554",
   "metadata": {},
   "outputs": [],
   "source": [
    "def ai_assistant(state: AgentState):\n",
    "    response=llm_with_tools.invoke(state[\"messages\"])\n",
    "    return {\"messages\":[response]}"
   ]
  },
  {
   "cell_type": "code",
   "execution_count": 30,
   "id": "3a3ee9a5",
   "metadata": {},
   "outputs": [],
   "source": [
    "from langgraph.checkpoint.memory import MemorySaver\n",
    "\n",
    "memory=MemorySaver()"
   ]
  },
  {
   "cell_type": "code",
   "execution_count": 38,
   "id": "c53acb9a",
   "metadata": {},
   "outputs": [
    {
     "data": {
      "text/plain": [
       "<langgraph.graph.state.StateGraph at 0x25da9999090>"
      ]
     },
     "execution_count": 38,
     "metadata": {},
     "output_type": "execute_result"
    }
   ],
   "source": [
    "graph_builder=StateGraph(AgentState)\n",
    "graph_builder.add_node(\"ai_assistant\", ai_assistant)\n",
    "graph_builder.add_node(\"tools\", tool_node)\n",
    "graph_builder.add_edge(START,\"ai_assistant\")\n",
    "graph_builder.add_conditional_edges(\"ai_assistant\",\n",
    "                                    tools_condition,\n",
    "                                    )\n",
    "graph_builder.add_edge(\"tools\", \"ai_assistant\")"
   ]
  },
  {
   "cell_type": "code",
   "execution_count": 39,
   "id": "9f0eb942",
   "metadata": {},
   "outputs": [
    {
     "data": {
      "image/png": "[encoded data removed]",
      "text/plain": [
       "<langgraph.graph.state.CompiledStateGraph object at 0x0000025DA9998E10>"
      ]
     },
     "execution_count": 39,
     "metadata": {},
     "output_type": "execute_result"
    }
   ],
   "source": [
    "app2=graph_builder.compile(checkpointer=memory,interrupt_before=[\"tools\"])\n",
    "app2"
   ]
  },
  {
   "cell_type": "code",
   "execution_count": null,
   "id": "d679b5ce",
   "metadata": {},
   "outputs": [],
   "source": [
    "from langchain_core.messages import HumanMessage, AIMessage, ToolMessage\n",
    "\n",
    "config={\"configurable\":{\"thread_id\":\"1\"}}\n",
    "response=app2.invoke({\"messages\":[HumanMessage(\"What is the current gdp of the china?\")]},config=config)"
   ]
  },
  {
   "cell_type": "code",
   "execution_count": 41,
   "id": "34cd3534",
   "metadata": {},
   "outputs": [
    {
     "data": {
      "text/plain": [
       "{'messages': [HumanMessage(content='What is the current gdp of the china?', additional_kwargs={}, response_metadata={}),\n",
       "  HumanMessage(content='What is the current gdp of the china?', additional_kwargs={}, response_metadata={}),\n",
       "  HumanMessage(content='What is the current gdp of the china?', additional_kwargs={}, response_metadata={}),\n",
       "  AIMessage(content='', additional_kwargs={'reasoning_content': \"Okay, the user is asking about the current GDP of China. Since I don't have real-time data, I'll need to use the 'search' tool to find the most recent information. I should structure the search query clearly to get accurate results. Let me call the search function with the appropriate parameters.\\n\", 'tool_calls': [{'id': '583d8cnet', 'function': {'arguments': '{\"query\":\"current GDP of China 2023\"}', 'name': 'search'}, 'type': 'function'}]}, response_metadata={'token_usage': {'completion_tokens': 91, 'prompt_tokens': 198, 'total_tokens': 289, 'completion_time': 0.377996959, 'prompt_time': 0.026880267, 'queue_time': 0.21762821100000002, 'total_time': 0.404877226}, 'model_name': 'deepseek-r1-distill-llama-70b', 'system_fingerprint': 'fp_1bbe7845ec', 'finish_reason': 'tool_calls', 'logprobs': None}, id='run--8aefdd3d-094d-444d-888b-3aadb15bb7cd-0', tool_calls=[{'name': 'search', 'args': {'query': 'current GDP of China 2023'}, 'id': '583d8cnet', 'type': 'tool_call'}], usage_metadata={'input_tokens': 198, 'output_tokens': 91, 'total_tokens': 289})]}"
      ]
     },
     "execution_count": 41,
     "metadata": {},
     "output_type": "execute_result"
    }
   ],
   "source": [
    "response"
   ]
  },
  {
   "cell_type": "code",
   "execution_count": 42,
   "id": "f11a50b5",
   "metadata": {},
   "outputs": [
    {
     "data": {
      "text/plain": [
       "StateSnapshot(values={'messages': [HumanMessage(content='What is the current gdp of the china?', additional_kwargs={}, response_metadata={}), HumanMessage(content='What is the current gdp of the china?', additional_kwargs={}, response_metadata={}), HumanMessage(content='What is the current gdp of the china?', additional_kwargs={}, response_metadata={}), AIMessage(content='', additional_kwargs={'reasoning_content': \"Okay, the user is asking about the current GDP of China. Since I don't have real-time data, I'll need to use the 'search' tool to find the most recent information. I should structure the search query clearly to get accurate results. Let me call the search function with the appropriate parameters.\\n\", 'tool_calls': [{'id': '583d8cnet', 'function': {'arguments': '{\"query\":\"current GDP of China 2023\"}', 'name': 'search'}, 'type': 'function'}]}, response_metadata={'token_usage': {'completion_tokens': 91, 'prompt_tokens': 198, 'total_tokens': 289, 'completion_time': 0.377996959, 'prompt_time': 0.026880267, 'queue_time': 0.21762821100000002, 'total_time': 0.404877226}, 'model_name': 'deepseek-r1-distill-llama-70b', 'system_fingerprint': 'fp_1bbe7845ec', 'finish_reason': 'tool_calls', 'logprobs': None}, id='run--8aefdd3d-094d-444d-888b-3aadb15bb7cd-0', tool_calls=[{'name': 'search', 'args': {'query': 'current GDP of China 2023'}, 'id': '583d8cnet', 'type': 'tool_call'}], usage_metadata={'input_tokens': 198, 'output_tokens': 91, 'total_tokens': 289})]}, next=('tools',), config={'configurable': {'thread_id': '1', 'checkpoint_ns': '', 'checkpoint_id': '1f070b34-fbac-65cf-8007-845ebe14d613'}}, metadata={'source': 'loop', 'step': 7, 'parents': {}, 'thread_id': '1'}, created_at='2025-08-03T21:46:28.758199+00:00', parent_config={'configurable': {'thread_id': '1', 'checkpoint_ns': '', 'checkpoint_id': '1f070b34-f2d5-6f65-8006-067e95f9ccc4'}}, tasks=(PregelTask(id='0e0fd341-dd37-bb9a-8783-87c2b5af3f81', name='tools', path=('__pregel_pull', 'tools'), error=None, interrupts=(), state=None, result=None),), interrupts=())"
      ]
     },
     "execution_count": 42,
     "metadata": {},
     "output_type": "execute_result"
    }
   ],
   "source": [
    "# Captures the State\n",
    "\n",
    "snapshot=app2.get_state(config)\n",
    "snapshot"
   ]
  },
  {
   "cell_type": "code",
   "execution_count": 43,
   "id": "6dd5050f",
   "metadata": {},
   "outputs": [
    {
     "data": {
      "text/plain": [
       "('tools',)"
      ]
     },
     "execution_count": 43,
     "metadata": {},
     "output_type": "execute_result"
    }
   ],
   "source": [
    "# Tells which Tool is being called\n",
    "snapshot.next"
   ]
  },
  {
   "cell_type": "code",
   "execution_count": 44,
   "id": "cac5e877",
   "metadata": {},
   "outputs": [
    {
     "data": {
      "text/plain": [
       "AIMessage(content='', additional_kwargs={'reasoning_content': \"Okay, the user is asking about the current GDP of China. Since I don't have real-time data, I'll need to use the 'search' tool to find the most recent information. I should structure the search query clearly to get accurate results. Let me call the search function with the appropriate parameters.\\n\", 'tool_calls': [{'id': '583d8cnet', 'function': {'arguments': '{\"query\":\"current GDP of China 2023\"}', 'name': 'search'}, 'type': 'function'}]}, response_metadata={'token_usage': {'completion_tokens': 91, 'prompt_tokens': 198, 'total_tokens': 289, 'completion_time': 0.377996959, 'prompt_time': 0.026880267, 'queue_time': 0.21762821100000002, 'total_time': 0.404877226}, 'model_name': 'deepseek-r1-distill-llama-70b', 'system_fingerprint': 'fp_1bbe7845ec', 'finish_reason': 'tool_calls', 'logprobs': None}, id='run--8aefdd3d-094d-444d-888b-3aadb15bb7cd-0', tool_calls=[{'name': 'search', 'args': {'query': 'current GDP of China 2023'}, 'id': '583d8cnet', 'type': 'tool_call'}], usage_metadata={'input_tokens': 198, 'output_tokens': 91, 'total_tokens': 289})"
      ]
     },
     "execution_count": 44,
     "metadata": {},
     "output_type": "execute_result"
    }
   ],
   "source": [
    "# Tells the last message in the State (AI Message)\n",
    "\n",
    "last_message = snapshot.values[\"messages\"][-1]\n",
    "last_message"
   ]
  },
  {
   "cell_type": "code",
   "execution_count": 45,
   "id": "dc1c2c4f",
   "metadata": {},
   "outputs": [
    {
     "data": {
      "text/plain": [
       "[{'name': 'search',\n",
       "  'args': {'query': 'current GDP of China 2023'},\n",
       "  'id': '583d8cnet',\n",
       "  'type': 'tool_call'}]"
      ]
     },
     "execution_count": 45,
     "metadata": {},
     "output_type": "execute_result"
    }
   ],
   "source": [
    "# Gives the tool call of the last message\n",
    "\n",
    "tool_details = last_message.tool_calls\n",
    "tool_details"
   ]
  },
  {
   "cell_type": "code",
   "execution_count": 46,
   "id": "4b5cb305",
   "metadata": {},
   "outputs": [
    {
     "data": {
      "text/plain": [
       "'search'"
      ]
     },
     "execution_count": 46,
     "metadata": {},
     "output_type": "execute_result"
    }
   ],
   "source": [
    "tool_details[0][\"name\"]"
   ]
  },
  {
   "cell_type": "code",
   "execution_count": 47,
   "id": "c79cc308",
   "metadata": {},
   "outputs": [
    {
     "name": "stdout",
     "output_type": "stream",
     "text": [
      "{'messages': [HumanMessage(content='What is the current gdp of the china?', additional_kwargs={}, response_metadata={}), HumanMessage(content='What is the current gdp of the china?', additional_kwargs={}, response_metadata={}), HumanMessage(content='What is the current gdp of the china?', additional_kwargs={}, response_metadata={}), AIMessage(content='', additional_kwargs={'reasoning_content': \"Okay, the user is asking about the current GDP of China. Since I don't have real-time data, I'll need to use the 'search' tool to find the most recent information. I should structure the search query clearly to get accurate results. Let me call the search function with the appropriate parameters.\\n\", 'tool_calls': [{'id': '583d8cnet', 'function': {'arguments': '{\"query\":\"current GDP of China 2023\"}', 'name': 'search'}, 'type': 'function'}]}, response_metadata={'token_usage': {'completion_tokens': 91, 'prompt_tokens': 198, 'total_tokens': 289, 'completion_time': 0.377996959, 'prompt_time': 0.026880267, 'queue_time': 0.21762821100000002, 'total_time': 0.404877226}, 'model_name': 'deepseek-r1-distill-llama-70b', 'system_fingerprint': 'fp_1bbe7845ec', 'finish_reason': 'tool_calls', 'logprobs': None}, id='run--8aefdd3d-094d-444d-888b-3aadb15bb7cd-0', tool_calls=[{'name': 'search', 'args': {'query': 'current GDP of China 2023'}, 'id': '583d8cnet', 'type': 'tool_call'}], usage_metadata={'input_tokens': 198, 'output_tokens': 91, 'total_tokens': 289}), ToolMessage(content='Result for current GDP of China 2023 is: \\n[{\\'title\\': \\'China: GDP at current prices 1985-2030 - Statista\\', \\'url\\': \\'https://www.statista.com/statistics/263770/gross-domestic-product-gdp-of-china/\\', \\'content\\': \"China\\'s real GDP growth was 3.1 percent in 2022 and 5.4 percent in 2023. In 2024, per capita GDP in China reached around 13,300 U.S. dollars.\", \\'score\\': 0.87706697}, {\\'title\\': \\'Economy of China - Wikipedia\\', \\'url\\': \\'https://en.wikipedia.org/wiki/Economy_of_China\\', \\'content\\': \\'Decrease $272.5 billion (2023) · Decrease 1.4% of GDP (2023) · Positive decrease $2.38 trillion (September 2023) · Negative increase ¥103.987 trillion; Negative\\', \\'score\\': 0.77548623}, {\\'title\\': \\'China GDP - Trading Economics\\', \\'url\\': \\'https://tradingeconomics.com/china/gdp\\', \\'content\\': \\'## GDP in China averaged 3590.13 USD Billion from 1960 until 2024, reaching an all time high of 18743.80 USD Billion in 2024 and a record low of 47.31 USD Billion in 1962. This page provides - China GDP - actual values, historical data, forecast, chart, statistics, economic calendar and news. China GDP - values, historical data and charts - was last updated on August of 2025. [...] ##### Members\\\\n\\\\n##### \\\\n\\\\n# China GDP\\\\n\\\\n## The Gross Domestic Product (GDP) in China was worth 18743.80 billion US dollars in 2024, according to official data from the World Bank. The GDP value of China represents 17.65 percent of the world economy. source: World Bank [...] ### GDP in China is expected to reach 19681.00 USD Billion by the end of 2025, according to Trading Economics global macro models and analysts expectations. In the long-term, the China GDP is projected to trend around 20626.00 USD Billion in 2026 and 21574.00 USD Billion in 2027, according to our econometric models.\\', \\'score\\': 0.507544}, {\\'title\\': \\'GDP (current US$) - China - World Bank Open Data\\', \\'url\\': \\'https://data.worldbank.org/indicator/NY.GDP.MKTP.CD?locations=CN\\', \\'content\\': \\'The World Bank\\\\n\\\\nBrowse World Development Indicators byCountryorIndicator\\\\n\\\\n# GDP (current US$) - China\\\\n\\\\n1960 - 2024\\\\n\\\\n#### Download\\\\n\\\\nCSVXMLEXCEL\\\\n\\\\n#### DataBank\\\\n\\\\nExplore Our DataBank\\\\n\\\\n#### WDI Tables\\\\n\\\\nThematic data tables from WDI\\\\n\\\\n## Selected Countries and Economies\\\\n\\\\n## All Countries and Economies\\\\n\\\\nThe World Bank Working for a World Free of Poverty\\\\nWorld Bank Facebook\\\\nWorld Bank Twitter\\\\nWorld Bank Github\\\\nWorld Bank Linkedin [...] This site uses cookies to optimize functionality and give you the best possible experience. If you continue to navigate this website beyond this page, cookies will be placed on your browser. To learn more about cookies,  click here.\\', \\'score\\': 0.28291926}, {\\'title\\': \\'GDP growth (annual %) - China - World Bank Open Data\\', \\'url\\': \\'https://data.worldbank.org/indicator/NY.GDP.MKTP.KD.ZG?locations=CN\\', \\'content\\': \\'The World Bank\\\\n\\\\nBrowse World Development Indicators byCountryorIndicator\\\\n\\\\n# GDP growth (annual %) - China\\\\n\\\\n1961 - 2024\\\\n\\\\n#### Download\\\\n\\\\nCSVXMLEXCEL\\\\n\\\\n#### DataBank\\\\n\\\\nExplore Our DataBank\\\\n\\\\n#### WDI Tables\\\\n\\\\nThematic data tables from WDI\\\\n\\\\n## Selected Countries and Economies\\\\n\\\\n## All Countries and Economies\\\\n\\\\nThe World Bank Working for a World Free of Poverty\\\\nWorld Bank Facebook\\\\nWorld Bank Twitter\\\\nWorld Bank Github\\\\nWorld Bank Linkedin [...] This site uses cookies to optimize functionality and give you the best possible experience. If you continue to navigate this website beyond this page, cookies will be placed on your browser. To learn more about cookies,  click here.\\', \\'score\\': 0.16210158}]', name='search', tool_call_id='583d8cnet'), AIMessage(content=\"The current GDP of China as of 2024 is approximately **$18,743.80 billion**. This figure represents China's economic output in nominal terms and reflects its position as a major contributor to the global economy.\", additional_kwargs={'reasoning_content': \"Alright, let me try to figure out the current GDP of China based on the information provided. The user asked about the GDP, and I used the search tool to find relevant data. \\n\\nLooking at the first search result from Statista, it mentions that China's GDP in 2024 reached around $18,743.80 billion. This seems like a specific and recent figure, so that's probably the number I'm looking for.\\n\\nThe other results, like the one from Wikipedia, mention a decrease in some economic indicators, but they don't provide a direct GDP figure for 2023 or 2024. The World Bank data also points to around $18,743.80 billion for 2024, which matches the first source.\\n\\nSo, combining these, it looks like the current GDP of China as of 2024 is approximately $18,743.80 billion.\\n\"}, response_metadata={'token_usage': {'completion_tokens': 228, 'prompt_tokens': 1185, 'total_tokens': 1413, 'completion_time': 0.953725903, 'prompt_time': 0.115643086, 'queue_time': 0.21850662799999998, 'total_time': 1.069368989}, 'model_name': 'deepseek-r1-distill-llama-70b', 'system_fingerprint': 'fp_1bbe7845ec', 'finish_reason': 'stop', 'logprobs': None}, id='run--cf2a2aa9-2646-4800-963d-1335be964c52-0', usage_metadata={'input_tokens': 1185, 'output_tokens': 228, 'total_tokens': 1413})]}\n"
     ]
    }
   ],
   "source": [
    "# Handling the Human in loop now, asking user what to do and getting approval\n",
    "\n",
    "if tool_details[0][\"name\"]== \"search\":\n",
    "    user_input = input(prompt=f\"[yes/no] do you want to continue with {tool_details[0]['name']}?\").lower()\n",
    "    if user_input==\"no\":\n",
    "        print(\"web tool discarded\")\n",
    "        raise Exception(\"Web tool discarded by the user.\")\n",
    "    else:\n",
    "        response=app2.invoke(None,config) # None continues the state(removes interruption)\n",
    "        print(response)\n",
    "else:\n",
    "    response=app2.invoke(None,config)\n",
    "    print(response)"
   ]
  },
  {
   "cell_type": "code",
   "execution_count": 49,
   "id": "c525fbe9",
   "metadata": {},
   "outputs": [
    {
     "data": {
      "text/plain": [
       "{'messages': [HumanMessage(content='What is the current gdp of the china?', additional_kwargs={}, response_metadata={}),\n",
       "  HumanMessage(content='What is the current gdp of the china?', additional_kwargs={}, response_metadata={}),\n",
       "  HumanMessage(content='What is the current gdp of the china?', additional_kwargs={}, response_metadata={}),\n",
       "  AIMessage(content='', additional_kwargs={'reasoning_content': \"Okay, the user is asking about the current GDP of China. Since I don't have real-time data, I'll need to use the 'search' tool to find the most recent information. I should structure the search query clearly to get accurate results. Let me call the search function with the appropriate parameters.\\n\", 'tool_calls': [{'id': '583d8cnet', 'function': {'arguments': '{\"query\":\"current GDP of China 2023\"}', 'name': 'search'}, 'type': 'function'}]}, response_metadata={'token_usage': {'completion_tokens': 91, 'prompt_tokens': 198, 'total_tokens': 289, 'completion_time': 0.377996959, 'prompt_time': 0.026880267, 'queue_time': 0.21762821100000002, 'total_time': 0.404877226}, 'model_name': 'deepseek-r1-distill-llama-70b', 'system_fingerprint': 'fp_1bbe7845ec', 'finish_reason': 'tool_calls', 'logprobs': None}, id='run--8aefdd3d-094d-444d-888b-3aadb15bb7cd-0', tool_calls=[{'name': 'search', 'args': {'query': 'current GDP of China 2023'}, 'id': '583d8cnet', 'type': 'tool_call'}], usage_metadata={'input_tokens': 198, 'output_tokens': 91, 'total_tokens': 289}),\n",
       "  ToolMessage(content='Result for current GDP of China 2023 is: \\n[{\\'title\\': \\'China: GDP at current prices 1985-2030 - Statista\\', \\'url\\': \\'https://www.statista.com/statistics/263770/gross-domestic-product-gdp-of-china/\\', \\'content\\': \"China\\'s real GDP growth was 3.1 percent in 2022 and 5.4 percent in 2023. In 2024, per capita GDP in China reached around 13,300 U.S. dollars.\", \\'score\\': 0.87706697}, {\\'title\\': \\'Economy of China - Wikipedia\\', \\'url\\': \\'https://en.wikipedia.org/wiki/Economy_of_China\\', \\'content\\': \\'Decrease $272.5 billion (2023) · Decrease 1.4% of GDP (2023) · Positive decrease $2.38 trillion (September 2023) · Negative increase ¥103.987 trillion; Negative\\', \\'score\\': 0.77548623}, {\\'title\\': \\'China GDP - Trading Economics\\', \\'url\\': \\'https://tradingeconomics.com/china/gdp\\', \\'content\\': \\'## GDP in China averaged 3590.13 USD Billion from 1960 until 2024, reaching an all time high of 18743.80 USD Billion in 2024 and a record low of 47.31 USD Billion in 1962. This page provides - China GDP - actual values, historical data, forecast, chart, statistics, economic calendar and news. China GDP - values, historical data and charts - was last updated on August of 2025. [...] ##### Members\\\\n\\\\n##### \\\\n\\\\n# China GDP\\\\n\\\\n## The Gross Domestic Product (GDP) in China was worth 18743.80 billion US dollars in 2024, according to official data from the World Bank. The GDP value of China represents 17.65 percent of the world economy. source: World Bank [...] ### GDP in China is expected to reach 19681.00 USD Billion by the end of 2025, according to Trading Economics global macro models and analysts expectations. In the long-term, the China GDP is projected to trend around 20626.00 USD Billion in 2026 and 21574.00 USD Billion in 2027, according to our econometric models.\\', \\'score\\': 0.507544}, {\\'title\\': \\'GDP (current US$) - China - World Bank Open Data\\', \\'url\\': \\'https://data.worldbank.org/indicator/NY.GDP.MKTP.CD?locations=CN\\', \\'content\\': \\'The World Bank\\\\n\\\\nBrowse World Development Indicators byCountryorIndicator\\\\n\\\\n# GDP (current US$) - China\\\\n\\\\n1960 - 2024\\\\n\\\\n#### Download\\\\n\\\\nCSVXMLEXCEL\\\\n\\\\n#### DataBank\\\\n\\\\nExplore Our DataBank\\\\n\\\\n#### WDI Tables\\\\n\\\\nThematic data tables from WDI\\\\n\\\\n## Selected Countries and Economies\\\\n\\\\n## All Countries and Economies\\\\n\\\\nThe World Bank Working for a World Free of Poverty\\\\nWorld Bank Facebook\\\\nWorld Bank Twitter\\\\nWorld Bank Github\\\\nWorld Bank Linkedin [...] This site uses cookies to optimize functionality and give you the best possible experience. If you continue to navigate this website beyond this page, cookies will be placed on your browser. To learn more about cookies,  click here.\\', \\'score\\': 0.28291926}, {\\'title\\': \\'GDP growth (annual %) - China - World Bank Open Data\\', \\'url\\': \\'https://data.worldbank.org/indicator/NY.GDP.MKTP.KD.ZG?locations=CN\\', \\'content\\': \\'The World Bank\\\\n\\\\nBrowse World Development Indicators byCountryorIndicator\\\\n\\\\n# GDP growth (annual %) - China\\\\n\\\\n1961 - 2024\\\\n\\\\n#### Download\\\\n\\\\nCSVXMLEXCEL\\\\n\\\\n#### DataBank\\\\n\\\\nExplore Our DataBank\\\\n\\\\n#### WDI Tables\\\\n\\\\nThematic data tables from WDI\\\\n\\\\n## Selected Countries and Economies\\\\n\\\\n## All Countries and Economies\\\\n\\\\nThe World Bank Working for a World Free of Poverty\\\\nWorld Bank Facebook\\\\nWorld Bank Twitter\\\\nWorld Bank Github\\\\nWorld Bank Linkedin [...] This site uses cookies to optimize functionality and give you the best possible experience. If you continue to navigate this website beyond this page, cookies will be placed on your browser. To learn more about cookies,  click here.\\', \\'score\\': 0.16210158}]', name='search', tool_call_id='583d8cnet'),\n",
       "  AIMessage(content=\"The current GDP of China as of 2024 is approximately **$18,743.80 billion**. This figure represents China's economic output in nominal terms and reflects its position as a major contributor to the global economy.\", additional_kwargs={'reasoning_content': \"Alright, let me try to figure out the current GDP of China based on the information provided. The user asked about the GDP, and I used the search tool to find relevant data. \\n\\nLooking at the first search result from Statista, it mentions that China's GDP in 2024 reached around $18,743.80 billion. This seems like a specific and recent figure, so that's probably the number I'm looking for.\\n\\nThe other results, like the one from Wikipedia, mention a decrease in some economic indicators, but they don't provide a direct GDP figure for 2023 or 2024. The World Bank data also points to around $18,743.80 billion for 2024, which matches the first source.\\n\\nSo, combining these, it looks like the current GDP of China as of 2024 is approximately $18,743.80 billion.\\n\"}, response_metadata={'token_usage': {'completion_tokens': 228, 'prompt_tokens': 1185, 'total_tokens': 1413, 'completion_time': 0.953725903, 'prompt_time': 0.115643086, 'queue_time': 0.21850662799999998, 'total_time': 1.069368989}, 'model_name': 'deepseek-r1-distill-llama-70b', 'system_fingerprint': 'fp_1bbe7845ec', 'finish_reason': 'stop', 'logprobs': None}, id='run--cf2a2aa9-2646-4800-963d-1335be964c52-0', usage_metadata={'input_tokens': 1185, 'output_tokens': 228, 'total_tokens': 1413}),\n",
       "  HumanMessage(content='What is the current gdp of the china?', additional_kwargs={}, response_metadata={}),\n",
       "  AIMessage(content='', additional_kwargs={'reasoning_content': \"Alright, the user is asking again about China's current GDP. I remember from the previous interaction that they were provided with information up to 2024, with a GDP of around $18,743.80 billion. Now, they're asking the same question, so I need to check if there's any new data available.\\n\\nFirst, I should consider why they're asking again. Maybe they're looking for the most recent figures or perhaps they didn't find the previous answer sufficient. Since the last data was up to 2024, I should see if there are any updates for 2025 or if the GDP has been revised.\\n\\nI'll use the same search function to look up the latest GDP figures. This will ensure that the information I provide is accurate and up-to-date. I'll structure the search to focus on 2025 to capture the most recent data.\\n\\nAfter performing the search, I'll analyze the results. If there's new data for 2025, I'll present that. If not, I'll let the user know that the latest available data is still from 2024 and offer to provide more details if needed.\\n\\nI should make sure the response is clear and helpful, addressing their potential need for the most current information. It's also important to maintain a consistent and professional tone, as I did in the previous interaction.\\n\", 'tool_calls': [{'id': 'n2j2z8ewz', 'function': {'arguments': '{\"query\":\"current GDP of China 2025\"}', 'name': 'search'}, 'type': 'function'}]}, response_metadata={'token_usage': {'completion_tokens': 297, 'prompt_tokens': 1243, 'total_tokens': 1540, 'completion_time': 1.3586484140000001, 'prompt_time': 0.121036912, 'queue_time': 0.21845120299999998, 'total_time': 1.479685326}, 'model_name': 'deepseek-r1-distill-llama-70b', 'system_fingerprint': 'fp_1bbe7845ec', 'finish_reason': 'tool_calls', 'logprobs': None}, id='run--057d521b-cc8f-4299-ad21-7d27206773e8-0', tool_calls=[{'name': 'search', 'args': {'query': 'current GDP of China 2025'}, 'id': 'n2j2z8ewz', 'type': 'tool_call'}], usage_metadata={'input_tokens': 1243, 'output_tokens': 297, 'total_tokens': 1540}),\n",
       "  ToolMessage(content='Result for current GDP of China 2025 is: \\n[{\\'title\\': \\'China GDP - Trading Economics\\', \\'url\\': \\'https://tradingeconomics.com/china/gdp\\', \\'content\\': \\'### GDP in China is expected to reach 19681.00 USD Billion by the end of 2025, according to Trading Economics global macro models and analysts expectations. In the long-term, the China GDP is projected to trend around 20626.00 USD Billion in 2026 and 21574.00 USD Billion in 2027, according to our econometric models. [...] | Related | Last | Previous | Unit | Reference |\\\\n| --- | --- | --- | --- | --- |\\\\n| Full Year GDP Growth | 5.00 | 5.40 | percent | Dec 2024 |\\\\n| GDP | 18743.80 | 18270.36 | USD Billion | Dec 2024 |\\\\n| GDP Growth Rate YoY | 5.20 | 5.40 | percent | Jun 2025 |\\\\n| GDP Growth Rate | 1.10 | 1.20 | percent | Jun 2025 |\\\\n| GDP per Capita | 13121.68 | 12484.16 | USD | Dec 2024 |\\\\n| GDP per Capita PPP | 23845.62 | 22687.08 | USD | Dec 2024 | [...] ## GDP in China averaged 3590.13 USD Billion from 1960 until 2024, reaching an all time high of 18743.80 USD Billion in 2024 and a record low of 47.31 USD Billion in 1962. This page provides - China GDP - actual values, historical data, forecast, chart, statistics, economic calendar and news. China GDP - values, historical data and charts - was last updated on August of 2025.\\', \\'score\\': 0.89849097}, {\\'title\\': \"How to Predict China\\'s Economic Performance for 2025: A Sectoral ...\", \\'url\\': \\'https://carnegieendowment.org/posts/2025/05/how-to-predict-chinas-economic-performance-for-2025?lang=en\\', \\'content\\': \\'Barring a disaster, in which case all predictions will be off, China will almost certainly achieve its GDP growth target in 2025, which means that predictions by all the global financial institutions will converge to 4.8–5.0 percent by the fourth quarter of 2025. Lower predicted growth rates earlier in the year, in other words, are mostly meaningless as predictions. [...] Already in early 2025, analysts have revised their estimates several times. At the beginning of the year, most banks expected that China’s GDP growth in 2025 would come in well below the GDP growth target of 5 percent. But these expectations changed in late March after Chinese leadership made ambitious economic pronouncements during the annual Two Sessions governmental meetings in March. As the Wall Street Journal reported, the banks HSBC, ANZ, and Citi upgraded their forecasts for China’s GDP [...] growth to 4.8 percent, 4.8 percent, and 4.7 percent, respectively—up from previous estimates of 4.5 percent, 4.3 percent, and 4.2 percent.\\', \\'score\\': 0.8058924}, {\\'title\\': \"China\\'s economy expanded by 5.4% in Q1, but faces strong ...\", \\'url\\': \\'https://www.conference-board.org/research/economy-watch-china/AP-TCB-CHINA-Economy-Watch-China-View-2025-April-final\\', \\'content\\': \"In Q1 2025, China\\'s GDP grew by 5.4% year-on-year, unchanged from the previous quarter and in line with the official growth target of “around 5%”. The growth was mainly driven by retail sales and exports. Looking forward, however, the economy faces strong headwinds from uncertainties over US trade policy, persistent weakness in consumer confidence, and malaise in the property sector. The recent politburo meeting, concluded in late April, pledged a proactive fiscal policy and moderately loose [...] In Q1 2025, China\\'s GDP grew by 5.4% year-on-year, unchanged from the previous quarter and in line with the official growth target of “around 5%”. The growth was mainly driven by retail sales and exports. Looking forward, however, the economy faces strong headwinds from uncertainties over US trade policy, persistent weakness in consumer confidence, and malaise in the property sector. The recent politburo meeting, concluded in late April, pledged a proactive fiscal policy and moderately loose [...] In Q1 2025, China\\'s GDP grew by 5.4% year-on-year, unchanged from the previous quarter and in line with the official growth target of “around 5%”. The growth was mainly driven by retail sales and exports. Looking forward, however, the economy faces strong headwinds from uncertainties over US trade policy, persistent weakness in consumer confidence, and malaise in the property sector. The recent politburo meeting, concluded in late April, pledged a proactive fiscal policy and moderately loose\", \\'score\\': 0.79080546}, {\\'title\\': \\'The Fed - Is China Really Growing at 5 Percent?\\', \\'url\\': \\'https://www.federalreserve.gov/econres/notes/feds-notes/is-china-really-growing-at-5-percent-20250606.html\\', \\'content\\': \\'Chinese authorities recently announced a growth target of \"around 5 percent\" for 2025, the same as their 2024 target. Five percent is about half the pace of growth that China sustained from the 1980s to the early 2010s, but it is nonetheless quite high for an economy flirting with deflation and mired in a years-long property bust. The ambitious growth target, given the circumstances, has led many observers of the Chinese economy to once again treat the official GDP data with skepticism. In this [...] Caines, C., S. Jeon, and C. Quijano (2025). \"Developments in Chinese Chipmaking,\" FEDS Notes. Washington: Board of Governors of the Federal Reserve System.\\\\n\\\\nClark, H., M. Pinkovskiy, and X. Sala-i Martin (2020). China\\\\\\'s GDP growth may be understated. China Economic Review, 62 (C).\\\\n\\\\nde Soyres, F., and D. Moore (2024). \"Assessing China\\\\\\'s Efforts to Increase Self-Reliance,\" FEDS Notes. Washington: Board of Governors of the Federal Reserve System. [...] note, we revisit an alternative indicator of Chinese GDP growth developed by Barcelona et al. (2022) to examine whether official data overstate Chinese GDP growth. Our findings suggest that recent GDP growth figures, which have been in line with the stated target, appear to align closely with broader Chinese economic indicators and do not appear to be overstated. We find that the recent near-target growth has been driven by a strong supply-side performance, supported by sustained global demand\\', \\'score\\': 0.71185225}, {\\'title\\': \\'Our economic outlook for China - Vanguard\\', \\'url\\': \\'https://corporate.vanguard.com/content/corporatesite/us/en/corp/vemo/vemo-china.html\\', \\'content\\': \\'Notes: GDP growth is defined as the annual change in real (inflation-adjusted) GDP in the forecast year compared with the previous year. Unemployment rate is as of December 2025. Core inflation is the year-over-year change in the Consumer Price Index, excluding volatile food and energy prices, compared with the previous year. Monetary policy is the People’s Bank of China’s seven-day reverse repo rate at year-end.\\\\n\\\\nSource: Vanguard. \\\\n\\\\nA closer look\\\\n\\\\n2025: Our global outlook [...] # Our economic outlook for China\\\\n\\\\nJuly 23, 2025\\\\n\\\\n## After solid first-half growth, a slowdown in momentum is likely\\\\n\\\\n“We expect China’s growth momentum to weaken given continued property softness, fading exports, and resilient but moderating consumption.”\\\\n\\\\nGrant Feng\\\\n\\\\nGrant Feng,  \\\\nVanguard Senior Economist [...] China’s economy demonstrated resilient growth in the second quarter, with real GDP expanding by a stronger-than-expected 5.2% year over year and a solid quarter-over-quarter increase of 1.1%. Given this strength, we have upgraded our full-year China GDP forecast from 4.6% to 4.8%. Growth was primarily underpinned by robust exports and frontloaded policy easing. A goods trade-in program has boosted consumption, and accelerated policy stimulus has supported economic growth. Exports have remained\\', \\'score\\': 0.39033696}]', name='search', tool_call_id='n2j2z8ewz'),\n",
       "  AIMessage(content='', additional_kwargs={'reasoning_content': 'As of the latest data available up to August 2025, China\\'s GDP is expected to reach **$19,681.00 billion** by the end of 2025. This projection is based on global macro models and analysts\\' expectations. The GDP growth rate for 2025 is anticipated to be around **4.8–5.0%**, in line with the official growth target of \"around 5%.\" However, the economy faces challenges such as uncertainties in U.S. trade policy, weakening consumer confidence, and issues in the property sector.'}, response_metadata={'token_usage': {'completion_tokens': 117, 'prompt_tokens': 3131, 'total_tokens': 3248, 'completion_time': 0.372268378, 'prompt_time': 0.291824556, 'queue_time': 0.19584845699999998, 'total_time': 0.664092934}, 'model_name': 'deepseek-r1-distill-llama-70b', 'system_fingerprint': 'fp_1bbe7845ec', 'finish_reason': 'stop', 'logprobs': None}, id='run--f1c6486f-b7de-4d0d-a554-2d164e9f7e8b-0', usage_metadata={'input_tokens': 3131, 'output_tokens': 117, 'total_tokens': 3248})]}"
      ]
     },
     "execution_count": 49,
     "metadata": {},
     "output_type": "execute_result"
    }
   ],
   "source": [
    "# None to handle removing human intervention\n",
    "\n",
    "app2.invoke(None,config) #none means resume the last state or resume the process"
   ]
  },
  {
   "cell_type": "markdown",
   "id": "a6442f6e",
   "metadata": {},
   "source": [
    "#### Adding Human Input into the flow"
   ]
  },
  {
   "cell_type": "code",
   "execution_count": 51,
   "id": "a3ffc23b",
   "metadata": {},
   "outputs": [
    {
     "data": {
      "text/plain": [
       "{'messages': [HumanMessage(content='What is the current gdp of the china?', additional_kwargs={}, response_metadata={}),\n",
       "  HumanMessage(content='What is the current gdp of the china?', additional_kwargs={}, response_metadata={}),\n",
       "  HumanMessage(content='What is the current gdp of the china?', additional_kwargs={}, response_metadata={}),\n",
       "  AIMessage(content='', additional_kwargs={'reasoning_content': \"Okay, the user is asking about the current GDP of China. Since I don't have real-time data, I'll need to use the 'search' tool to find the most recent information. I should structure the search query clearly to get accurate results. Let me call the search function with the appropriate parameters.\\n\", 'tool_calls': [{'id': '583d8cnet', 'function': {'arguments': '{\"query\":\"current GDP of China 2023\"}', 'name': 'search'}, 'type': 'function'}]}, response_metadata={'token_usage': {'completion_tokens': 91, 'prompt_tokens': 198, 'total_tokens': 289, 'completion_time': 0.377996959, 'prompt_time': 0.026880267, 'queue_time': 0.21762821100000002, 'total_time': 0.404877226}, 'model_name': 'deepseek-r1-distill-llama-70b', 'system_fingerprint': 'fp_1bbe7845ec', 'finish_reason': 'tool_calls', 'logprobs': None}, id='run--8aefdd3d-094d-444d-888b-3aadb15bb7cd-0', tool_calls=[{'name': 'search', 'args': {'query': 'current GDP of China 2023'}, 'id': '583d8cnet', 'type': 'tool_call'}], usage_metadata={'input_tokens': 198, 'output_tokens': 91, 'total_tokens': 289}),\n",
       "  ToolMessage(content='Result for current GDP of China 2023 is: \\n[{\\'title\\': \\'China: GDP at current prices 1985-2030 - Statista\\', \\'url\\': \\'https://www.statista.com/statistics/263770/gross-domestic-product-gdp-of-china/\\', \\'content\\': \"China\\'s real GDP growth was 3.1 percent in 2022 and 5.4 percent in 2023. In 2024, per capita GDP in China reached around 13,300 U.S. dollars.\", \\'score\\': 0.87706697}, {\\'title\\': \\'Economy of China - Wikipedia\\', \\'url\\': \\'https://en.wikipedia.org/wiki/Economy_of_China\\', \\'content\\': \\'Decrease $272.5 billion (2023) · Decrease 1.4% of GDP (2023) · Positive decrease $2.38 trillion (September 2023) · Negative increase ¥103.987 trillion; Negative\\', \\'score\\': 0.77548623}, {\\'title\\': \\'China GDP - Trading Economics\\', \\'url\\': \\'https://tradingeconomics.com/china/gdp\\', \\'content\\': \\'## GDP in China averaged 3590.13 USD Billion from 1960 until 2024, reaching an all time high of 18743.80 USD Billion in 2024 and a record low of 47.31 USD Billion in 1962. This page provides - China GDP - actual values, historical data, forecast, chart, statistics, economic calendar and news. China GDP - values, historical data and charts - was last updated on August of 2025. [...] ##### Members\\\\n\\\\n##### \\\\n\\\\n# China GDP\\\\n\\\\n## The Gross Domestic Product (GDP) in China was worth 18743.80 billion US dollars in 2024, according to official data from the World Bank. The GDP value of China represents 17.65 percent of the world economy. source: World Bank [...] ### GDP in China is expected to reach 19681.00 USD Billion by the end of 2025, according to Trading Economics global macro models and analysts expectations. In the long-term, the China GDP is projected to trend around 20626.00 USD Billion in 2026 and 21574.00 USD Billion in 2027, according to our econometric models.\\', \\'score\\': 0.507544}, {\\'title\\': \\'GDP (current US$) - China - World Bank Open Data\\', \\'url\\': \\'https://data.worldbank.org/indicator/NY.GDP.MKTP.CD?locations=CN\\', \\'content\\': \\'The World Bank\\\\n\\\\nBrowse World Development Indicators byCountryorIndicator\\\\n\\\\n# GDP (current US$) - China\\\\n\\\\n1960 - 2024\\\\n\\\\n#### Download\\\\n\\\\nCSVXMLEXCEL\\\\n\\\\n#### DataBank\\\\n\\\\nExplore Our DataBank\\\\n\\\\n#### WDI Tables\\\\n\\\\nThematic data tables from WDI\\\\n\\\\n## Selected Countries and Economies\\\\n\\\\n## All Countries and Economies\\\\n\\\\nThe World Bank Working for a World Free of Poverty\\\\nWorld Bank Facebook\\\\nWorld Bank Twitter\\\\nWorld Bank Github\\\\nWorld Bank Linkedin [...] This site uses cookies to optimize functionality and give you the best possible experience. If you continue to navigate this website beyond this page, cookies will be placed on your browser. To learn more about cookies,  click here.\\', \\'score\\': 0.28291926}, {\\'title\\': \\'GDP growth (annual %) - China - World Bank Open Data\\', \\'url\\': \\'https://data.worldbank.org/indicator/NY.GDP.MKTP.KD.ZG?locations=CN\\', \\'content\\': \\'The World Bank\\\\n\\\\nBrowse World Development Indicators byCountryorIndicator\\\\n\\\\n# GDP growth (annual %) - China\\\\n\\\\n1961 - 2024\\\\n\\\\n#### Download\\\\n\\\\nCSVXMLEXCEL\\\\n\\\\n#### DataBank\\\\n\\\\nExplore Our DataBank\\\\n\\\\n#### WDI Tables\\\\n\\\\nThematic data tables from WDI\\\\n\\\\n## Selected Countries and Economies\\\\n\\\\n## All Countries and Economies\\\\n\\\\nThe World Bank Working for a World Free of Poverty\\\\nWorld Bank Facebook\\\\nWorld Bank Twitter\\\\nWorld Bank Github\\\\nWorld Bank Linkedin [...] This site uses cookies to optimize functionality and give you the best possible experience. If you continue to navigate this website beyond this page, cookies will be placed on your browser. To learn more about cookies,  click here.\\', \\'score\\': 0.16210158}]', name='search', tool_call_id='583d8cnet'),\n",
       "  AIMessage(content=\"The current GDP of China as of 2024 is approximately **$18,743.80 billion**. This figure represents China's economic output in nominal terms and reflects its position as a major contributor to the global economy.\", additional_kwargs={'reasoning_content': \"Alright, let me try to figure out the current GDP of China based on the information provided. The user asked about the GDP, and I used the search tool to find relevant data. \\n\\nLooking at the first search result from Statista, it mentions that China's GDP in 2024 reached around $18,743.80 billion. This seems like a specific and recent figure, so that's probably the number I'm looking for.\\n\\nThe other results, like the one from Wikipedia, mention a decrease in some economic indicators, but they don't provide a direct GDP figure for 2023 or 2024. The World Bank data also points to around $18,743.80 billion for 2024, which matches the first source.\\n\\nSo, combining these, it looks like the current GDP of China as of 2024 is approximately $18,743.80 billion.\\n\"}, response_metadata={'token_usage': {'completion_tokens': 228, 'prompt_tokens': 1185, 'total_tokens': 1413, 'completion_time': 0.953725903, 'prompt_time': 0.115643086, 'queue_time': 0.21850662799999998, 'total_time': 1.069368989}, 'model_name': 'deepseek-r1-distill-llama-70b', 'system_fingerprint': 'fp_1bbe7845ec', 'finish_reason': 'stop', 'logprobs': None}, id='run--cf2a2aa9-2646-4800-963d-1335be964c52-0', usage_metadata={'input_tokens': 1185, 'output_tokens': 228, 'total_tokens': 1413}),\n",
       "  HumanMessage(content='What is the current gdp of the china?', additional_kwargs={}, response_metadata={}),\n",
       "  AIMessage(content='', additional_kwargs={'reasoning_content': \"Alright, the user is asking again about China's current GDP. I remember from the previous interaction that they were provided with information up to 2024, with a GDP of around $18,743.80 billion. Now, they're asking the same question, so I need to check if there's any new data available.\\n\\nFirst, I should consider why they're asking again. Maybe they're looking for the most recent figures or perhaps they didn't find the previous answer sufficient. Since the last data was up to 2024, I should see if there are any updates for 2025 or if the GDP has been revised.\\n\\nI'll use the same search function to look up the latest GDP figures. This will ensure that the information I provide is accurate and up-to-date. I'll structure the search to focus on 2025 to capture the most recent data.\\n\\nAfter performing the search, I'll analyze the results. If there's new data for 2025, I'll present that. If not, I'll let the user know that the latest available data is still from 2024 and offer to provide more details if needed.\\n\\nI should make sure the response is clear and helpful, addressing their potential need for the most current information. It's also important to maintain a consistent and professional tone, as I did in the previous interaction.\\n\", 'tool_calls': [{'id': 'n2j2z8ewz', 'function': {'arguments': '{\"query\":\"current GDP of China 2025\"}', 'name': 'search'}, 'type': 'function'}]}, response_metadata={'token_usage': {'completion_tokens': 297, 'prompt_tokens': 1243, 'total_tokens': 1540, 'completion_time': 1.3586484140000001, 'prompt_time': 0.121036912, 'queue_time': 0.21845120299999998, 'total_time': 1.479685326}, 'model_name': 'deepseek-r1-distill-llama-70b', 'system_fingerprint': 'fp_1bbe7845ec', 'finish_reason': 'tool_calls', 'logprobs': None}, id='run--057d521b-cc8f-4299-ad21-7d27206773e8-0', tool_calls=[{'name': 'search', 'args': {'query': 'current GDP of China 2025'}, 'id': 'n2j2z8ewz', 'type': 'tool_call'}], usage_metadata={'input_tokens': 1243, 'output_tokens': 297, 'total_tokens': 1540}),\n",
       "  ToolMessage(content='Result for current GDP of China 2025 is: \\n[{\\'title\\': \\'China GDP - Trading Economics\\', \\'url\\': \\'https://tradingeconomics.com/china/gdp\\', \\'content\\': \\'### GDP in China is expected to reach 19681.00 USD Billion by the end of 2025, according to Trading Economics global macro models and analysts expectations. In the long-term, the China GDP is projected to trend around 20626.00 USD Billion in 2026 and 21574.00 USD Billion in 2027, according to our econometric models. [...] | Related | Last | Previous | Unit | Reference |\\\\n| --- | --- | --- | --- | --- |\\\\n| Full Year GDP Growth | 5.00 | 5.40 | percent | Dec 2024 |\\\\n| GDP | 18743.80 | 18270.36 | USD Billion | Dec 2024 |\\\\n| GDP Growth Rate YoY | 5.20 | 5.40 | percent | Jun 2025 |\\\\n| GDP Growth Rate | 1.10 | 1.20 | percent | Jun 2025 |\\\\n| GDP per Capita | 13121.68 | 12484.16 | USD | Dec 2024 |\\\\n| GDP per Capita PPP | 23845.62 | 22687.08 | USD | Dec 2024 | [...] ## GDP in China averaged 3590.13 USD Billion from 1960 until 2024, reaching an all time high of 18743.80 USD Billion in 2024 and a record low of 47.31 USD Billion in 1962. This page provides - China GDP - actual values, historical data, forecast, chart, statistics, economic calendar and news. China GDP - values, historical data and charts - was last updated on August of 2025.\\', \\'score\\': 0.89849097}, {\\'title\\': \"How to Predict China\\'s Economic Performance for 2025: A Sectoral ...\", \\'url\\': \\'https://carnegieendowment.org/posts/2025/05/how-to-predict-chinas-economic-performance-for-2025?lang=en\\', \\'content\\': \\'Barring a disaster, in which case all predictions will be off, China will almost certainly achieve its GDP growth target in 2025, which means that predictions by all the global financial institutions will converge to 4.8–5.0 percent by the fourth quarter of 2025. Lower predicted growth rates earlier in the year, in other words, are mostly meaningless as predictions. [...] Already in early 2025, analysts have revised their estimates several times. At the beginning of the year, most banks expected that China’s GDP growth in 2025 would come in well below the GDP growth target of 5 percent. But these expectations changed in late March after Chinese leadership made ambitious economic pronouncements during the annual Two Sessions governmental meetings in March. As the Wall Street Journal reported, the banks HSBC, ANZ, and Citi upgraded their forecasts for China’s GDP [...] growth to 4.8 percent, 4.8 percent, and 4.7 percent, respectively—up from previous estimates of 4.5 percent, 4.3 percent, and 4.2 percent.\\', \\'score\\': 0.8058924}, {\\'title\\': \"China\\'s economy expanded by 5.4% in Q1, but faces strong ...\", \\'url\\': \\'https://www.conference-board.org/research/economy-watch-china/AP-TCB-CHINA-Economy-Watch-China-View-2025-April-final\\', \\'content\\': \"In Q1 2025, China\\'s GDP grew by 5.4% year-on-year, unchanged from the previous quarter and in line with the official growth target of “around 5%”. The growth was mainly driven by retail sales and exports. Looking forward, however, the economy faces strong headwinds from uncertainties over US trade policy, persistent weakness in consumer confidence, and malaise in the property sector. The recent politburo meeting, concluded in late April, pledged a proactive fiscal policy and moderately loose [...] In Q1 2025, China\\'s GDP grew by 5.4% year-on-year, unchanged from the previous quarter and in line with the official growth target of “around 5%”. The growth was mainly driven by retail sales and exports. Looking forward, however, the economy faces strong headwinds from uncertainties over US trade policy, persistent weakness in consumer confidence, and malaise in the property sector. The recent politburo meeting, concluded in late April, pledged a proactive fiscal policy and moderately loose [...] In Q1 2025, China\\'s GDP grew by 5.4% year-on-year, unchanged from the previous quarter and in line with the official growth target of “around 5%”. The growth was mainly driven by retail sales and exports. Looking forward, however, the economy faces strong headwinds from uncertainties over US trade policy, persistent weakness in consumer confidence, and malaise in the property sector. The recent politburo meeting, concluded in late April, pledged a proactive fiscal policy and moderately loose\", \\'score\\': 0.79080546}, {\\'title\\': \\'The Fed - Is China Really Growing at 5 Percent?\\', \\'url\\': \\'https://www.federalreserve.gov/econres/notes/feds-notes/is-china-really-growing-at-5-percent-20250606.html\\', \\'content\\': \\'Chinese authorities recently announced a growth target of \"around 5 percent\" for 2025, the same as their 2024 target. Five percent is about half the pace of growth that China sustained from the 1980s to the early 2010s, but it is nonetheless quite high for an economy flirting with deflation and mired in a years-long property bust. The ambitious growth target, given the circumstances, has led many observers of the Chinese economy to once again treat the official GDP data with skepticism. In this [...] Caines, C., S. Jeon, and C. Quijano (2025). \"Developments in Chinese Chipmaking,\" FEDS Notes. Washington: Board of Governors of the Federal Reserve System.\\\\n\\\\nClark, H., M. Pinkovskiy, and X. Sala-i Martin (2020). China\\\\\\'s GDP growth may be understated. China Economic Review, 62 (C).\\\\n\\\\nde Soyres, F., and D. Moore (2024). \"Assessing China\\\\\\'s Efforts to Increase Self-Reliance,\" FEDS Notes. Washington: Board of Governors of the Federal Reserve System. [...] note, we revisit an alternative indicator of Chinese GDP growth developed by Barcelona et al. (2022) to examine whether official data overstate Chinese GDP growth. Our findings suggest that recent GDP growth figures, which have been in line with the stated target, appear to align closely with broader Chinese economic indicators and do not appear to be overstated. We find that the recent near-target growth has been driven by a strong supply-side performance, supported by sustained global demand\\', \\'score\\': 0.71185225}, {\\'title\\': \\'Our economic outlook for China - Vanguard\\', \\'url\\': \\'https://corporate.vanguard.com/content/corporatesite/us/en/corp/vemo/vemo-china.html\\', \\'content\\': \\'Notes: GDP growth is defined as the annual change in real (inflation-adjusted) GDP in the forecast year compared with the previous year. Unemployment rate is as of December 2025. Core inflation is the year-over-year change in the Consumer Price Index, excluding volatile food and energy prices, compared with the previous year. Monetary policy is the People’s Bank of China’s seven-day reverse repo rate at year-end.\\\\n\\\\nSource: Vanguard. \\\\n\\\\nA closer look\\\\n\\\\n2025: Our global outlook [...] # Our economic outlook for China\\\\n\\\\nJuly 23, 2025\\\\n\\\\n## After solid first-half growth, a slowdown in momentum is likely\\\\n\\\\n“We expect China’s growth momentum to weaken given continued property softness, fading exports, and resilient but moderating consumption.”\\\\n\\\\nGrant Feng\\\\n\\\\nGrant Feng,  \\\\nVanguard Senior Economist [...] China’s economy demonstrated resilient growth in the second quarter, with real GDP expanding by a stronger-than-expected 5.2% year over year and a solid quarter-over-quarter increase of 1.1%. Given this strength, we have upgraded our full-year China GDP forecast from 4.6% to 4.8%. Growth was primarily underpinned by robust exports and frontloaded policy easing. A goods trade-in program has boosted consumption, and accelerated policy stimulus has supported economic growth. Exports have remained\\', \\'score\\': 0.39033696}]', name='search', tool_call_id='n2j2z8ewz'),\n",
       "  AIMessage(content='', additional_kwargs={'reasoning_content': 'As of the latest data available up to August 2025, China\\'s GDP is expected to reach **$19,681.00 billion** by the end of 2025. This projection is based on global macro models and analysts\\' expectations. The GDP growth rate for 2025 is anticipated to be around **4.8–5.0%**, in line with the official growth target of \"around 5%.\" However, the economy faces challenges such as uncertainties in U.S. trade policy, weakening consumer confidence, and issues in the property sector.'}, response_metadata={'token_usage': {'completion_tokens': 117, 'prompt_tokens': 3131, 'total_tokens': 3248, 'completion_time': 0.372268378, 'prompt_time': 0.291824556, 'queue_time': 0.19584845699999998, 'total_time': 0.664092934}, 'model_name': 'deepseek-r1-distill-llama-70b', 'system_fingerprint': 'fp_1bbe7845ec', 'finish_reason': 'stop', 'logprobs': None}, id='run--f1c6486f-b7de-4d0d-a554-2d164e9f7e8b-0', usage_metadata={'input_tokens': 3131, 'output_tokens': 117, 'total_tokens': 3248}),\n",
       "  HumanMessage(content='What is the current gdp of the japan?', additional_kwargs={}, response_metadata={}),\n",
       "  AIMessage(content='', additional_kwargs={'reasoning_content': 'Okay, the user is asking for the current GDP of Japan. I remember in the previous interactions, they asked about China\\'s GDP multiple times, so maybe they\\'re comparing economies or doing some research on global economics. \\n\\nI should use the same approach I used for China. First, I\\'ll call the search tool with the query \"current GDP of Japan 2025\" to get the most recent data. I\\'ll need to make sure the function call is correctly formatted in JSON within the tool_call tags.\\n\\nLooking at the previous example, the tool_call included an id, name, and arguments. I\\'ll follow that structure. Once I get the search results, I\\'ll extract the relevant GDP figure from the results, probably from a reliable source like Trading Economics or the World Bank.\\n\\nI should present the information clearly, stating the current GDP in USD billion and mention the year it\\'s applicable to. Also, it might be good to include a bit of context, like Japan\\'s economic position or any notable trends, if available from the search results.\\n\\nI need to ensure accuracy, so double-checking the source and the figure is important. If there are multiple sources with similar data, that adds confidence. If there are discrepancies, I might need to address that, but since the user is asking for the current GDP, I\\'ll go with the most authoritative source.\\n\\nFinally, I\\'ll format the response as per the user\\'s instructions, using the tool_call XML tags for the function call and then provide the extracted information in a clear, concise manner.\\n', 'tool_calls': [{'id': 'n2j2z8ewz', 'function': {'arguments': '{\"query\":\"current GDP of Japan 2025\"}', 'name': 'search'}, 'type': 'function'}]}, response_metadata={'token_usage': {'completion_tokens': 346, 'prompt_tokens': 3144, 'total_tokens': 3490, 'completion_time': 1.761542621, 'prompt_time': 0.29321191, 'queue_time': 0.195923764, 'total_time': 2.054754531}, 'model_name': 'deepseek-r1-distill-llama-70b', 'system_fingerprint': 'fp_1bbe7845ec', 'finish_reason': 'tool_calls', 'logprobs': None}, id='run--90a57107-d2c2-49cc-a308-45111faae0df-0', tool_calls=[{'name': 'search', 'args': {'query': 'current GDP of Japan 2025'}, 'id': 'n2j2z8ewz', 'type': 'tool_call'}], usage_metadata={'input_tokens': 3144, 'output_tokens': 346, 'total_tokens': 3490})]}"
      ]
     },
     "execution_count": 51,
     "metadata": {},
     "output_type": "execute_result"
    }
   ],
   "source": [
    "response=app2.invoke({\"messages\":[HumanMessage(\"What is the current gdp of the japan?\")]},config=config)\n",
    "response"
   ]
  },
  {
   "cell_type": "code",
   "execution_count": 52,
   "id": "332c8c7d",
   "metadata": {},
   "outputs": [
    {
     "data": {
      "text/plain": [
       "('tools',)"
      ]
     },
     "execution_count": 52,
     "metadata": {},
     "output_type": "execute_result"
    }
   ],
   "source": [
    "snapshot=app2.get_state(config)\n",
    "snapshot.next"
   ]
  },
  {
   "cell_type": "code",
   "execution_count": 53,
   "id": "2028c973",
   "metadata": {},
   "outputs": [
    {
     "data": {
      "text/plain": [
       "[{'name': 'search',\n",
       "  'args': {'query': 'current GDP of Japan 2025'},\n",
       "  'id': 'n2j2z8ewz',\n",
       "  'type': 'tool_call'}]"
      ]
     },
     "execution_count": 53,
     "metadata": {},
     "output_type": "execute_result"
    }
   ],
   "source": [
    "last_message=snapshot.values[\"messages\"][-1]\n",
    "last_message.tool_calls"
   ]
  },
  {
   "cell_type": "code",
   "execution_count": 54,
   "id": "433aa5af",
   "metadata": {},
   "outputs": [
    {
     "data": {
      "text/plain": [
       "'n2j2z8ewz'"
      ]
     },
     "execution_count": 54,
     "metadata": {},
     "output_type": "execute_result"
    }
   ],
   "source": [
    "tool_call_id=last_message.tool_calls[0][\"id\"]\n",
    "tool_call_id"
   ]
  },
  {
   "cell_type": "code",
   "execution_count": 55,
   "id": "368dc42e",
   "metadata": {},
   "outputs": [],
   "source": [
    "new_message=[\n",
    "    ToolMessage(content=\"according to the latest data 4.1 trillion USD\", tool_call_id=tool_call_id),\n",
    "]"
   ]
  },
  {
   "cell_type": "code",
   "execution_count": 56,
   "id": "22b04ae3",
   "metadata": {},
   "outputs": [
    {
     "data": {
      "text/plain": [
       "{'configurable': {'thread_id': '1',\n",
       "  'checkpoint_ns': '',\n",
       "  'checkpoint_id': '1f070bb6-c2f9-640f-8012-1daade2f9282'}}"
      ]
     },
     "execution_count": 56,
     "metadata": {},
     "output_type": "execute_result"
    }
   ],
   "source": [
    "app2.update_state(config,\n",
    "                  {\n",
    "                      \"messages\": new_message\n",
    "                  })"
   ]
  },
  {
   "cell_type": "code",
   "execution_count": 57,
   "id": "13ecdd5d",
   "metadata": {},
   "outputs": [
    {
     "data": {
      "text/plain": [
       "ToolMessage(content='according to the latest data 4.1 trillion USD', tool_call_id='n2j2z8ewz')"
      ]
     },
     "execution_count": 57,
     "metadata": {},
     "output_type": "execute_result"
    }
   ],
   "source": [
    "app2.get_state(config).values[\"messages\"][-1]"
   ]
  },
  {
   "cell_type": "code",
   "execution_count": 58,
   "id": "7e749808",
   "metadata": {},
   "outputs": [
    {
     "data": {
      "text/plain": [
       "{'messages': [HumanMessage(content='What is the current gdp of the china?', additional_kwargs={}, response_metadata={}),\n",
       "  HumanMessage(content='What is the current gdp of the china?', additional_kwargs={}, response_metadata={}),\n",
       "  HumanMessage(content='What is the current gdp of the china?', additional_kwargs={}, response_metadata={}),\n",
       "  AIMessage(content='', additional_kwargs={'reasoning_content': \"Okay, the user is asking about the current GDP of China. Since I don't have real-time data, I'll need to use the 'search' tool to find the most recent information. I should structure the search query clearly to get accurate results. Let me call the search function with the appropriate parameters.\\n\", 'tool_calls': [{'id': '583d8cnet', 'function': {'arguments': '{\"query\":\"current GDP of China 2023\"}', 'name': 'search'}, 'type': 'function'}]}, response_metadata={'token_usage': {'completion_tokens': 91, 'prompt_tokens': 198, 'total_tokens': 289, 'completion_time': 0.377996959, 'prompt_time': 0.026880267, 'queue_time': 0.21762821100000002, 'total_time': 0.404877226}, 'model_name': 'deepseek-r1-distill-llama-70b', 'system_fingerprint': 'fp_1bbe7845ec', 'finish_reason': 'tool_calls', 'logprobs': None}, id='run--8aefdd3d-094d-444d-888b-3aadb15bb7cd-0', tool_calls=[{'name': 'search', 'args': {'query': 'current GDP of China 2023'}, 'id': '583d8cnet', 'type': 'tool_call'}], usage_metadata={'input_tokens': 198, 'output_tokens': 91, 'total_tokens': 289}),\n",
       "  ToolMessage(content='Result for current GDP of China 2023 is: \\n[{\\'title\\': \\'China: GDP at current prices 1985-2030 - Statista\\', \\'url\\': \\'https://www.statista.com/statistics/263770/gross-domestic-product-gdp-of-china/\\', \\'content\\': \"China\\'s real GDP growth was 3.1 percent in 2022 and 5.4 percent in 2023. In 2024, per capita GDP in China reached around 13,300 U.S. dollars.\", \\'score\\': 0.87706697}, {\\'title\\': \\'Economy of China - Wikipedia\\', \\'url\\': \\'https://en.wikipedia.org/wiki/Economy_of_China\\', \\'content\\': \\'Decrease $272.5 billion (2023) · Decrease 1.4% of GDP (2023) · Positive decrease $2.38 trillion (September 2023) · Negative increase ¥103.987 trillion; Negative\\', \\'score\\': 0.77548623}, {\\'title\\': \\'China GDP - Trading Economics\\', \\'url\\': \\'https://tradingeconomics.com/china/gdp\\', \\'content\\': \\'## GDP in China averaged 3590.13 USD Billion from 1960 until 2024, reaching an all time high of 18743.80 USD Billion in 2024 and a record low of 47.31 USD Billion in 1962. This page provides - China GDP - actual values, historical data, forecast, chart, statistics, economic calendar and news. China GDP - values, historical data and charts - was last updated on August of 2025. [...] ##### Members\\\\n\\\\n##### \\\\n\\\\n# China GDP\\\\n\\\\n## The Gross Domestic Product (GDP) in China was worth 18743.80 billion US dollars in 2024, according to official data from the World Bank. The GDP value of China represents 17.65 percent of the world economy. source: World Bank [...] ### GDP in China is expected to reach 19681.00 USD Billion by the end of 2025, according to Trading Economics global macro models and analysts expectations. In the long-term, the China GDP is projected to trend around 20626.00 USD Billion in 2026 and 21574.00 USD Billion in 2027, according to our econometric models.\\', \\'score\\': 0.507544}, {\\'title\\': \\'GDP (current US$) - China - World Bank Open Data\\', \\'url\\': \\'https://data.worldbank.org/indicator/NY.GDP.MKTP.CD?locations=CN\\', \\'content\\': \\'The World Bank\\\\n\\\\nBrowse World Development Indicators byCountryorIndicator\\\\n\\\\n# GDP (current US$) - China\\\\n\\\\n1960 - 2024\\\\n\\\\n#### Download\\\\n\\\\nCSVXMLEXCEL\\\\n\\\\n#### DataBank\\\\n\\\\nExplore Our DataBank\\\\n\\\\n#### WDI Tables\\\\n\\\\nThematic data tables from WDI\\\\n\\\\n## Selected Countries and Economies\\\\n\\\\n## All Countries and Economies\\\\n\\\\nThe World Bank Working for a World Free of Poverty\\\\nWorld Bank Facebook\\\\nWorld Bank Twitter\\\\nWorld Bank Github\\\\nWorld Bank Linkedin [...] This site uses cookies to optimize functionality and give you the best possible experience. If you continue to navigate this website beyond this page, cookies will be placed on your browser. To learn more about cookies,  click here.\\', \\'score\\': 0.28291926}, {\\'title\\': \\'GDP growth (annual %) - China - World Bank Open Data\\', \\'url\\': \\'https://data.worldbank.org/indicator/NY.GDP.MKTP.KD.ZG?locations=CN\\', \\'content\\': \\'The World Bank\\\\n\\\\nBrowse World Development Indicators byCountryorIndicator\\\\n\\\\n# GDP growth (annual %) - China\\\\n\\\\n1961 - 2024\\\\n\\\\n#### Download\\\\n\\\\nCSVXMLEXCEL\\\\n\\\\n#### DataBank\\\\n\\\\nExplore Our DataBank\\\\n\\\\n#### WDI Tables\\\\n\\\\nThematic data tables from WDI\\\\n\\\\n## Selected Countries and Economies\\\\n\\\\n## All Countries and Economies\\\\n\\\\nThe World Bank Working for a World Free of Poverty\\\\nWorld Bank Facebook\\\\nWorld Bank Twitter\\\\nWorld Bank Github\\\\nWorld Bank Linkedin [...] This site uses cookies to optimize functionality and give you the best possible experience. If you continue to navigate this website beyond this page, cookies will be placed on your browser. To learn more about cookies,  click here.\\', \\'score\\': 0.16210158}]', name='search', tool_call_id='583d8cnet'),\n",
       "  AIMessage(content=\"The current GDP of China as of 2024 is approximately **$18,743.80 billion**. This figure represents China's economic output in nominal terms and reflects its position as a major contributor to the global economy.\", additional_kwargs={'reasoning_content': \"Alright, let me try to figure out the current GDP of China based on the information provided. The user asked about the GDP, and I used the search tool to find relevant data. \\n\\nLooking at the first search result from Statista, it mentions that China's GDP in 2024 reached around $18,743.80 billion. This seems like a specific and recent figure, so that's probably the number I'm looking for.\\n\\nThe other results, like the one from Wikipedia, mention a decrease in some economic indicators, but they don't provide a direct GDP figure for 2023 or 2024. The World Bank data also points to around $18,743.80 billion for 2024, which matches the first source.\\n\\nSo, combining these, it looks like the current GDP of China as of 2024 is approximately $18,743.80 billion.\\n\"}, response_metadata={'token_usage': {'completion_tokens': 228, 'prompt_tokens': 1185, 'total_tokens': 1413, 'completion_time': 0.953725903, 'prompt_time': 0.115643086, 'queue_time': 0.21850662799999998, 'total_time': 1.069368989}, 'model_name': 'deepseek-r1-distill-llama-70b', 'system_fingerprint': 'fp_1bbe7845ec', 'finish_reason': 'stop', 'logprobs': None}, id='run--cf2a2aa9-2646-4800-963d-1335be964c52-0', usage_metadata={'input_tokens': 1185, 'output_tokens': 228, 'total_tokens': 1413}),\n",
       "  HumanMessage(content='What is the current gdp of the china?', additional_kwargs={}, response_metadata={}),\n",
       "  AIMessage(content='', additional_kwargs={'reasoning_content': \"Alright, the user is asking again about China's current GDP. I remember from the previous interaction that they were provided with information up to 2024, with a GDP of around $18,743.80 billion. Now, they're asking the same question, so I need to check if there's any new data available.\\n\\nFirst, I should consider why they're asking again. Maybe they're looking for the most recent figures or perhaps they didn't find the previous answer sufficient. Since the last data was up to 2024, I should see if there are any updates for 2025 or if the GDP has been revised.\\n\\nI'll use the same search function to look up the latest GDP figures. This will ensure that the information I provide is accurate and up-to-date. I'll structure the search to focus on 2025 to capture the most recent data.\\n\\nAfter performing the search, I'll analyze the results. If there's new data for 2025, I'll present that. If not, I'll let the user know that the latest available data is still from 2024 and offer to provide more details if needed.\\n\\nI should make sure the response is clear and helpful, addressing their potential need for the most current information. It's also important to maintain a consistent and professional tone, as I did in the previous interaction.\\n\", 'tool_calls': [{'id': 'n2j2z8ewz', 'function': {'arguments': '{\"query\":\"current GDP of China 2025\"}', 'name': 'search'}, 'type': 'function'}]}, response_metadata={'token_usage': {'completion_tokens': 297, 'prompt_tokens': 1243, 'total_tokens': 1540, 'completion_time': 1.3586484140000001, 'prompt_time': 0.121036912, 'queue_time': 0.21845120299999998, 'total_time': 1.479685326}, 'model_name': 'deepseek-r1-distill-llama-70b', 'system_fingerprint': 'fp_1bbe7845ec', 'finish_reason': 'tool_calls', 'logprobs': None}, id='run--057d521b-cc8f-4299-ad21-7d27206773e8-0', tool_calls=[{'name': 'search', 'args': {'query': 'current GDP of China 2025'}, 'id': 'n2j2z8ewz', 'type': 'tool_call'}], usage_metadata={'input_tokens': 1243, 'output_tokens': 297, 'total_tokens': 1540}),\n",
       "  ToolMessage(content='Result for current GDP of China 2025 is: \\n[{\\'title\\': \\'China GDP - Trading Economics\\', \\'url\\': \\'https://tradingeconomics.com/china/gdp\\', \\'content\\': \\'### GDP in China is expected to reach 19681.00 USD Billion by the end of 2025, according to Trading Economics global macro models and analysts expectations. In the long-term, the China GDP is projected to trend around 20626.00 USD Billion in 2026 and 21574.00 USD Billion in 2027, according to our econometric models. [...] | Related | Last | Previous | Unit | Reference |\\\\n| --- | --- | --- | --- | --- |\\\\n| Full Year GDP Growth | 5.00 | 5.40 | percent | Dec 2024 |\\\\n| GDP | 18743.80 | 18270.36 | USD Billion | Dec 2024 |\\\\n| GDP Growth Rate YoY | 5.20 | 5.40 | percent | Jun 2025 |\\\\n| GDP Growth Rate | 1.10 | 1.20 | percent | Jun 2025 |\\\\n| GDP per Capita | 13121.68 | 12484.16 | USD | Dec 2024 |\\\\n| GDP per Capita PPP | 23845.62 | 22687.08 | USD | Dec 2024 | [...] ## GDP in China averaged 3590.13 USD Billion from 1960 until 2024, reaching an all time high of 18743.80 USD Billion in 2024 and a record low of 47.31 USD Billion in 1962. This page provides - China GDP - actual values, historical data, forecast, chart, statistics, economic calendar and news. China GDP - values, historical data and charts - was last updated on August of 2025.\\', \\'score\\': 0.89849097}, {\\'title\\': \"How to Predict China\\'s Economic Performance for 2025: A Sectoral ...\", \\'url\\': \\'https://carnegieendowment.org/posts/2025/05/how-to-predict-chinas-economic-performance-for-2025?lang=en\\', \\'content\\': \\'Barring a disaster, in which case all predictions will be off, China will almost certainly achieve its GDP growth target in 2025, which means that predictions by all the global financial institutions will converge to 4.8–5.0 percent by the fourth quarter of 2025. Lower predicted growth rates earlier in the year, in other words, are mostly meaningless as predictions. [...] Already in early 2025, analysts have revised their estimates several times. At the beginning of the year, most banks expected that China’s GDP growth in 2025 would come in well below the GDP growth target of 5 percent. But these expectations changed in late March after Chinese leadership made ambitious economic pronouncements during the annual Two Sessions governmental meetings in March. As the Wall Street Journal reported, the banks HSBC, ANZ, and Citi upgraded their forecasts for China’s GDP [...] growth to 4.8 percent, 4.8 percent, and 4.7 percent, respectively—up from previous estimates of 4.5 percent, 4.3 percent, and 4.2 percent.\\', \\'score\\': 0.8058924}, {\\'title\\': \"China\\'s economy expanded by 5.4% in Q1, but faces strong ...\", \\'url\\': \\'https://www.conference-board.org/research/economy-watch-china/AP-TCB-CHINA-Economy-Watch-China-View-2025-April-final\\', \\'content\\': \"In Q1 2025, China\\'s GDP grew by 5.4% year-on-year, unchanged from the previous quarter and in line with the official growth target of “around 5%”. The growth was mainly driven by retail sales and exports. Looking forward, however, the economy faces strong headwinds from uncertainties over US trade policy, persistent weakness in consumer confidence, and malaise in the property sector. The recent politburo meeting, concluded in late April, pledged a proactive fiscal policy and moderately loose [...] In Q1 2025, China\\'s GDP grew by 5.4% year-on-year, unchanged from the previous quarter and in line with the official growth target of “around 5%”. The growth was mainly driven by retail sales and exports. Looking forward, however, the economy faces strong headwinds from uncertainties over US trade policy, persistent weakness in consumer confidence, and malaise in the property sector. The recent politburo meeting, concluded in late April, pledged a proactive fiscal policy and moderately loose [...] In Q1 2025, China\\'s GDP grew by 5.4% year-on-year, unchanged from the previous quarter and in line with the official growth target of “around 5%”. The growth was mainly driven by retail sales and exports. Looking forward, however, the economy faces strong headwinds from uncertainties over US trade policy, persistent weakness in consumer confidence, and malaise in the property sector. The recent politburo meeting, concluded in late April, pledged a proactive fiscal policy and moderately loose\", \\'score\\': 0.79080546}, {\\'title\\': \\'The Fed - Is China Really Growing at 5 Percent?\\', \\'url\\': \\'https://www.federalreserve.gov/econres/notes/feds-notes/is-china-really-growing-at-5-percent-20250606.html\\', \\'content\\': \\'Chinese authorities recently announced a growth target of \"around 5 percent\" for 2025, the same as their 2024 target. Five percent is about half the pace of growth that China sustained from the 1980s to the early 2010s, but it is nonetheless quite high for an economy flirting with deflation and mired in a years-long property bust. The ambitious growth target, given the circumstances, has led many observers of the Chinese economy to once again treat the official GDP data with skepticism. In this [...] Caines, C., S. Jeon, and C. Quijano (2025). \"Developments in Chinese Chipmaking,\" FEDS Notes. Washington: Board of Governors of the Federal Reserve System.\\\\n\\\\nClark, H., M. Pinkovskiy, and X. Sala-i Martin (2020). China\\\\\\'s GDP growth may be understated. China Economic Review, 62 (C).\\\\n\\\\nde Soyres, F., and D. Moore (2024). \"Assessing China\\\\\\'s Efforts to Increase Self-Reliance,\" FEDS Notes. Washington: Board of Governors of the Federal Reserve System. [...] note, we revisit an alternative indicator of Chinese GDP growth developed by Barcelona et al. (2022) to examine whether official data overstate Chinese GDP growth. Our findings suggest that recent GDP growth figures, which have been in line with the stated target, appear to align closely with broader Chinese economic indicators and do not appear to be overstated. We find that the recent near-target growth has been driven by a strong supply-side performance, supported by sustained global demand\\', \\'score\\': 0.71185225}, {\\'title\\': \\'Our economic outlook for China - Vanguard\\', \\'url\\': \\'https://corporate.vanguard.com/content/corporatesite/us/en/corp/vemo/vemo-china.html\\', \\'content\\': \\'Notes: GDP growth is defined as the annual change in real (inflation-adjusted) GDP in the forecast year compared with the previous year. Unemployment rate is as of December 2025. Core inflation is the year-over-year change in the Consumer Price Index, excluding volatile food and energy prices, compared with the previous year. Monetary policy is the People’s Bank of China’s seven-day reverse repo rate at year-end.\\\\n\\\\nSource: Vanguard. \\\\n\\\\nA closer look\\\\n\\\\n2025: Our global outlook [...] # Our economic outlook for China\\\\n\\\\nJuly 23, 2025\\\\n\\\\n## After solid first-half growth, a slowdown in momentum is likely\\\\n\\\\n“We expect China’s growth momentum to weaken given continued property softness, fading exports, and resilient but moderating consumption.”\\\\n\\\\nGrant Feng\\\\n\\\\nGrant Feng,  \\\\nVanguard Senior Economist [...] China’s economy demonstrated resilient growth in the second quarter, with real GDP expanding by a stronger-than-expected 5.2% year over year and a solid quarter-over-quarter increase of 1.1%. Given this strength, we have upgraded our full-year China GDP forecast from 4.6% to 4.8%. Growth was primarily underpinned by robust exports and frontloaded policy easing. A goods trade-in program has boosted consumption, and accelerated policy stimulus has supported economic growth. Exports have remained\\', \\'score\\': 0.39033696}]', name='search', tool_call_id='n2j2z8ewz'),\n",
       "  AIMessage(content='', additional_kwargs={'reasoning_content': 'As of the latest data available up to August 2025, China\\'s GDP is expected to reach **$19,681.00 billion** by the end of 2025. This projection is based on global macro models and analysts\\' expectations. The GDP growth rate for 2025 is anticipated to be around **4.8–5.0%**, in line with the official growth target of \"around 5%.\" However, the economy faces challenges such as uncertainties in U.S. trade policy, weakening consumer confidence, and issues in the property sector.'}, response_metadata={'token_usage': {'completion_tokens': 117, 'prompt_tokens': 3131, 'total_tokens': 3248, 'completion_time': 0.372268378, 'prompt_time': 0.291824556, 'queue_time': 0.19584845699999998, 'total_time': 0.664092934}, 'model_name': 'deepseek-r1-distill-llama-70b', 'system_fingerprint': 'fp_1bbe7845ec', 'finish_reason': 'stop', 'logprobs': None}, id='run--f1c6486f-b7de-4d0d-a554-2d164e9f7e8b-0', usage_metadata={'input_tokens': 3131, 'output_tokens': 117, 'total_tokens': 3248}),\n",
       "  HumanMessage(content='What is the current gdp of the japan?', additional_kwargs={}, response_metadata={}),\n",
       "  AIMessage(content='', additional_kwargs={'reasoning_content': 'Okay, the user is asking for the current GDP of Japan. I remember in the previous interactions, they asked about China\\'s GDP multiple times, so maybe they\\'re comparing economies or doing some research on global economics. \\n\\nI should use the same approach I used for China. First, I\\'ll call the search tool with the query \"current GDP of Japan 2025\" to get the most recent data. I\\'ll need to make sure the function call is correctly formatted in JSON within the tool_call tags.\\n\\nLooking at the previous example, the tool_call included an id, name, and arguments. I\\'ll follow that structure. Once I get the search results, I\\'ll extract the relevant GDP figure from the results, probably from a reliable source like Trading Economics or the World Bank.\\n\\nI should present the information clearly, stating the current GDP in USD billion and mention the year it\\'s applicable to. Also, it might be good to include a bit of context, like Japan\\'s economic position or any notable trends, if available from the search results.\\n\\nI need to ensure accuracy, so double-checking the source and the figure is important. If there are multiple sources with similar data, that adds confidence. If there are discrepancies, I might need to address that, but since the user is asking for the current GDP, I\\'ll go with the most authoritative source.\\n\\nFinally, I\\'ll format the response as per the user\\'s instructions, using the tool_call XML tags for the function call and then provide the extracted information in a clear, concise manner.\\n', 'tool_calls': [{'id': 'n2j2z8ewz', 'function': {'arguments': '{\"query\":\"current GDP of Japan 2025\"}', 'name': 'search'}, 'type': 'function'}]}, response_metadata={'token_usage': {'completion_tokens': 346, 'prompt_tokens': 3144, 'total_tokens': 3490, 'completion_time': 1.761542621, 'prompt_time': 0.29321191, 'queue_time': 0.195923764, 'total_time': 2.054754531}, 'model_name': 'deepseek-r1-distill-llama-70b', 'system_fingerprint': 'fp_1bbe7845ec', 'finish_reason': 'tool_calls', 'logprobs': None}, id='run--90a57107-d2c2-49cc-a308-45111faae0df-0', tool_calls=[{'name': 'search', 'args': {'query': 'current GDP of Japan 2025'}, 'id': 'n2j2z8ewz', 'type': 'tool_call'}], usage_metadata={'input_tokens': 3144, 'output_tokens': 346, 'total_tokens': 3490}),\n",
       "  ToolMessage(content='according to the latest data 4.1 trillion USD', tool_call_id='n2j2z8ewz')]}"
      ]
     },
     "execution_count": 58,
     "metadata": {},
     "output_type": "execute_result"
    }
   ],
   "source": [
    "app2.invoke(None,config=config)"
   ]
  },
  {
   "cell_type": "code",
   "execution_count": 59,
   "id": "3b5fdb40",
   "metadata": {},
   "outputs": [
    {
     "data": {
      "text/plain": [
       "{'messages': [HumanMessage(content='What is the current gdp of the china?', additional_kwargs={}, response_metadata={}),\n",
       "  HumanMessage(content='What is the current gdp of the china?', additional_kwargs={}, response_metadata={}),\n",
       "  HumanMessage(content='What is the current gdp of the china?', additional_kwargs={}, response_metadata={}),\n",
       "  AIMessage(content='', additional_kwargs={'reasoning_content': \"Okay, the user is asking about the current GDP of China. Since I don't have real-time data, I'll need to use the 'search' tool to find the most recent information. I should structure the search query clearly to get accurate results. Let me call the search function with the appropriate parameters.\\n\", 'tool_calls': [{'id': '583d8cnet', 'function': {'arguments': '{\"query\":\"current GDP of China 2023\"}', 'name': 'search'}, 'type': 'function'}]}, response_metadata={'token_usage': {'completion_tokens': 91, 'prompt_tokens': 198, 'total_tokens': 289, 'completion_time': 0.377996959, 'prompt_time': 0.026880267, 'queue_time': 0.21762821100000002, 'total_time': 0.404877226}, 'model_name': 'deepseek-r1-distill-llama-70b', 'system_fingerprint': 'fp_1bbe7845ec', 'finish_reason': 'tool_calls', 'logprobs': None}, id='run--8aefdd3d-094d-444d-888b-3aadb15bb7cd-0', tool_calls=[{'name': 'search', 'args': {'query': 'current GDP of China 2023'}, 'id': '583d8cnet', 'type': 'tool_call'}], usage_metadata={'input_tokens': 198, 'output_tokens': 91, 'total_tokens': 289}),\n",
       "  ToolMessage(content='Result for current GDP of China 2023 is: \\n[{\\'title\\': \\'China: GDP at current prices 1985-2030 - Statista\\', \\'url\\': \\'https://www.statista.com/statistics/263770/gross-domestic-product-gdp-of-china/\\', \\'content\\': \"China\\'s real GDP growth was 3.1 percent in 2022 and 5.4 percent in 2023. In 2024, per capita GDP in China reached around 13,300 U.S. dollars.\", \\'score\\': 0.87706697}, {\\'title\\': \\'Economy of China - Wikipedia\\', \\'url\\': \\'https://en.wikipedia.org/wiki/Economy_of_China\\', \\'content\\': \\'Decrease $272.5 billion (2023) · Decrease 1.4% of GDP (2023) · Positive decrease $2.38 trillion (September 2023) · Negative increase ¥103.987 trillion; Negative\\', \\'score\\': 0.77548623}, {\\'title\\': \\'China GDP - Trading Economics\\', \\'url\\': \\'https://tradingeconomics.com/china/gdp\\', \\'content\\': \\'## GDP in China averaged 3590.13 USD Billion from 1960 until 2024, reaching an all time high of 18743.80 USD Billion in 2024 and a record low of 47.31 USD Billion in 1962. This page provides - China GDP - actual values, historical data, forecast, chart, statistics, economic calendar and news. China GDP - values, historical data and charts - was last updated on August of 2025. [...] ##### Members\\\\n\\\\n##### \\\\n\\\\n# China GDP\\\\n\\\\n## The Gross Domestic Product (GDP) in China was worth 18743.80 billion US dollars in 2024, according to official data from the World Bank. The GDP value of China represents 17.65 percent of the world economy. source: World Bank [...] ### GDP in China is expected to reach 19681.00 USD Billion by the end of 2025, according to Trading Economics global macro models and analysts expectations. In the long-term, the China GDP is projected to trend around 20626.00 USD Billion in 2026 and 21574.00 USD Billion in 2027, according to our econometric models.\\', \\'score\\': 0.507544}, {\\'title\\': \\'GDP (current US$) - China - World Bank Open Data\\', \\'url\\': \\'https://data.worldbank.org/indicator/NY.GDP.MKTP.CD?locations=CN\\', \\'content\\': \\'The World Bank\\\\n\\\\nBrowse World Development Indicators byCountryorIndicator\\\\n\\\\n# GDP (current US$) - China\\\\n\\\\n1960 - 2024\\\\n\\\\n#### Download\\\\n\\\\nCSVXMLEXCEL\\\\n\\\\n#### DataBank\\\\n\\\\nExplore Our DataBank\\\\n\\\\n#### WDI Tables\\\\n\\\\nThematic data tables from WDI\\\\n\\\\n## Selected Countries and Economies\\\\n\\\\n## All Countries and Economies\\\\n\\\\nThe World Bank Working for a World Free of Poverty\\\\nWorld Bank Facebook\\\\nWorld Bank Twitter\\\\nWorld Bank Github\\\\nWorld Bank Linkedin [...] This site uses cookies to optimize functionality and give you the best possible experience. If you continue to navigate this website beyond this page, cookies will be placed on your browser. To learn more about cookies,  click here.\\', \\'score\\': 0.28291926}, {\\'title\\': \\'GDP growth (annual %) - China - World Bank Open Data\\', \\'url\\': \\'https://data.worldbank.org/indicator/NY.GDP.MKTP.KD.ZG?locations=CN\\', \\'content\\': \\'The World Bank\\\\n\\\\nBrowse World Development Indicators byCountryorIndicator\\\\n\\\\n# GDP growth (annual %) - China\\\\n\\\\n1961 - 2024\\\\n\\\\n#### Download\\\\n\\\\nCSVXMLEXCEL\\\\n\\\\n#### DataBank\\\\n\\\\nExplore Our DataBank\\\\n\\\\n#### WDI Tables\\\\n\\\\nThematic data tables from WDI\\\\n\\\\n## Selected Countries and Economies\\\\n\\\\n## All Countries and Economies\\\\n\\\\nThe World Bank Working for a World Free of Poverty\\\\nWorld Bank Facebook\\\\nWorld Bank Twitter\\\\nWorld Bank Github\\\\nWorld Bank Linkedin [...] This site uses cookies to optimize functionality and give you the best possible experience. If you continue to navigate this website beyond this page, cookies will be placed on your browser. To learn more about cookies,  click here.\\', \\'score\\': 0.16210158}]', name='search', tool_call_id='583d8cnet'),\n",
       "  AIMessage(content=\"The current GDP of China as of 2024 is approximately **$18,743.80 billion**. This figure represents China's economic output in nominal terms and reflects its position as a major contributor to the global economy.\", additional_kwargs={'reasoning_content': \"Alright, let me try to figure out the current GDP of China based on the information provided. The user asked about the GDP, and I used the search tool to find relevant data. \\n\\nLooking at the first search result from Statista, it mentions that China's GDP in 2024 reached around $18,743.80 billion. This seems like a specific and recent figure, so that's probably the number I'm looking for.\\n\\nThe other results, like the one from Wikipedia, mention a decrease in some economic indicators, but they don't provide a direct GDP figure for 2023 or 2024. The World Bank data also points to around $18,743.80 billion for 2024, which matches the first source.\\n\\nSo, combining these, it looks like the current GDP of China as of 2024 is approximately $18,743.80 billion.\\n\"}, response_metadata={'token_usage': {'completion_tokens': 228, 'prompt_tokens': 1185, 'total_tokens': 1413, 'completion_time': 0.953725903, 'prompt_time': 0.115643086, 'queue_time': 0.21850662799999998, 'total_time': 1.069368989}, 'model_name': 'deepseek-r1-distill-llama-70b', 'system_fingerprint': 'fp_1bbe7845ec', 'finish_reason': 'stop', 'logprobs': None}, id='run--cf2a2aa9-2646-4800-963d-1335be964c52-0', usage_metadata={'input_tokens': 1185, 'output_tokens': 228, 'total_tokens': 1413}),\n",
       "  HumanMessage(content='What is the current gdp of the china?', additional_kwargs={}, response_metadata={}),\n",
       "  AIMessage(content='', additional_kwargs={'reasoning_content': \"Alright, the user is asking again about China's current GDP. I remember from the previous interaction that they were provided with information up to 2024, with a GDP of around $18,743.80 billion. Now, they're asking the same question, so I need to check if there's any new data available.\\n\\nFirst, I should consider why they're asking again. Maybe they're looking for the most recent figures or perhaps they didn't find the previous answer sufficient. Since the last data was up to 2024, I should see if there are any updates for 2025 or if the GDP has been revised.\\n\\nI'll use the same search function to look up the latest GDP figures. This will ensure that the information I provide is accurate and up-to-date. I'll structure the search to focus on 2025 to capture the most recent data.\\n\\nAfter performing the search, I'll analyze the results. If there's new data for 2025, I'll present that. If not, I'll let the user know that the latest available data is still from 2024 and offer to provide more details if needed.\\n\\nI should make sure the response is clear and helpful, addressing their potential need for the most current information. It's also important to maintain a consistent and professional tone, as I did in the previous interaction.\\n\", 'tool_calls': [{'id': 'n2j2z8ewz', 'function': {'arguments': '{\"query\":\"current GDP of China 2025\"}', 'name': 'search'}, 'type': 'function'}]}, response_metadata={'token_usage': {'completion_tokens': 297, 'prompt_tokens': 1243, 'total_tokens': 1540, 'completion_time': 1.3586484140000001, 'prompt_time': 0.121036912, 'queue_time': 0.21845120299999998, 'total_time': 1.479685326}, 'model_name': 'deepseek-r1-distill-llama-70b', 'system_fingerprint': 'fp_1bbe7845ec', 'finish_reason': 'tool_calls', 'logprobs': None}, id='run--057d521b-cc8f-4299-ad21-7d27206773e8-0', tool_calls=[{'name': 'search', 'args': {'query': 'current GDP of China 2025'}, 'id': 'n2j2z8ewz', 'type': 'tool_call'}], usage_metadata={'input_tokens': 1243, 'output_tokens': 297, 'total_tokens': 1540}),\n",
       "  ToolMessage(content='Result for current GDP of China 2025 is: \\n[{\\'title\\': \\'China GDP - Trading Economics\\', \\'url\\': \\'https://tradingeconomics.com/china/gdp\\', \\'content\\': \\'### GDP in China is expected to reach 19681.00 USD Billion by the end of 2025, according to Trading Economics global macro models and analysts expectations. In the long-term, the China GDP is projected to trend around 20626.00 USD Billion in 2026 and 21574.00 USD Billion in 2027, according to our econometric models. [...] | Related | Last | Previous | Unit | Reference |\\\\n| --- | --- | --- | --- | --- |\\\\n| Full Year GDP Growth | 5.00 | 5.40 | percent | Dec 2024 |\\\\n| GDP | 18743.80 | 18270.36 | USD Billion | Dec 2024 |\\\\n| GDP Growth Rate YoY | 5.20 | 5.40 | percent | Jun 2025 |\\\\n| GDP Growth Rate | 1.10 | 1.20 | percent | Jun 2025 |\\\\n| GDP per Capita | 13121.68 | 12484.16 | USD | Dec 2024 |\\\\n| GDP per Capita PPP | 23845.62 | 22687.08 | USD | Dec 2024 | [...] ## GDP in China averaged 3590.13 USD Billion from 1960 until 2024, reaching an all time high of 18743.80 USD Billion in 2024 and a record low of 47.31 USD Billion in 1962. This page provides - China GDP - actual values, historical data, forecast, chart, statistics, economic calendar and news. China GDP - values, historical data and charts - was last updated on August of 2025.\\', \\'score\\': 0.89849097}, {\\'title\\': \"How to Predict China\\'s Economic Performance for 2025: A Sectoral ...\", \\'url\\': \\'https://carnegieendowment.org/posts/2025/05/how-to-predict-chinas-economic-performance-for-2025?lang=en\\', \\'content\\': \\'Barring a disaster, in which case all predictions will be off, China will almost certainly achieve its GDP growth target in 2025, which means that predictions by all the global financial institutions will converge to 4.8–5.0 percent by the fourth quarter of 2025. Lower predicted growth rates earlier in the year, in other words, are mostly meaningless as predictions. [...] Already in early 2025, analysts have revised their estimates several times. At the beginning of the year, most banks expected that China’s GDP growth in 2025 would come in well below the GDP growth target of 5 percent. But these expectations changed in late March after Chinese leadership made ambitious economic pronouncements during the annual Two Sessions governmental meetings in March. As the Wall Street Journal reported, the banks HSBC, ANZ, and Citi upgraded their forecasts for China’s GDP [...] growth to 4.8 percent, 4.8 percent, and 4.7 percent, respectively—up from previous estimates of 4.5 percent, 4.3 percent, and 4.2 percent.\\', \\'score\\': 0.8058924}, {\\'title\\': \"China\\'s economy expanded by 5.4% in Q1, but faces strong ...\", \\'url\\': \\'https://www.conference-board.org/research/economy-watch-china/AP-TCB-CHINA-Economy-Watch-China-View-2025-April-final\\', \\'content\\': \"In Q1 2025, China\\'s GDP grew by 5.4% year-on-year, unchanged from the previous quarter and in line with the official growth target of “around 5%”. The growth was mainly driven by retail sales and exports. Looking forward, however, the economy faces strong headwinds from uncertainties over US trade policy, persistent weakness in consumer confidence, and malaise in the property sector. The recent politburo meeting, concluded in late April, pledged a proactive fiscal policy and moderately loose [...] In Q1 2025, China\\'s GDP grew by 5.4% year-on-year, unchanged from the previous quarter and in line with the official growth target of “around 5%”. The growth was mainly driven by retail sales and exports. Looking forward, however, the economy faces strong headwinds from uncertainties over US trade policy, persistent weakness in consumer confidence, and malaise in the property sector. The recent politburo meeting, concluded in late April, pledged a proactive fiscal policy and moderately loose [...] In Q1 2025, China\\'s GDP grew by 5.4% year-on-year, unchanged from the previous quarter and in line with the official growth target of “around 5%”. The growth was mainly driven by retail sales and exports. Looking forward, however, the economy faces strong headwinds from uncertainties over US trade policy, persistent weakness in consumer confidence, and malaise in the property sector. The recent politburo meeting, concluded in late April, pledged a proactive fiscal policy and moderately loose\", \\'score\\': 0.79080546}, {\\'title\\': \\'The Fed - Is China Really Growing at 5 Percent?\\', \\'url\\': \\'https://www.federalreserve.gov/econres/notes/feds-notes/is-china-really-growing-at-5-percent-20250606.html\\', \\'content\\': \\'Chinese authorities recently announced a growth target of \"around 5 percent\" for 2025, the same as their 2024 target. Five percent is about half the pace of growth that China sustained from the 1980s to the early 2010s, but it is nonetheless quite high for an economy flirting with deflation and mired in a years-long property bust. The ambitious growth target, given the circumstances, has led many observers of the Chinese economy to once again treat the official GDP data with skepticism. In this [...] Caines, C., S. Jeon, and C. Quijano (2025). \"Developments in Chinese Chipmaking,\" FEDS Notes. Washington: Board of Governors of the Federal Reserve System.\\\\n\\\\nClark, H., M. Pinkovskiy, and X. Sala-i Martin (2020). China\\\\\\'s GDP growth may be understated. China Economic Review, 62 (C).\\\\n\\\\nde Soyres, F., and D. Moore (2024). \"Assessing China\\\\\\'s Efforts to Increase Self-Reliance,\" FEDS Notes. Washington: Board of Governors of the Federal Reserve System. [...] note, we revisit an alternative indicator of Chinese GDP growth developed by Barcelona et al. (2022) to examine whether official data overstate Chinese GDP growth. Our findings suggest that recent GDP growth figures, which have been in line with the stated target, appear to align closely with broader Chinese economic indicators and do not appear to be overstated. We find that the recent near-target growth has been driven by a strong supply-side performance, supported by sustained global demand\\', \\'score\\': 0.71185225}, {\\'title\\': \\'Our economic outlook for China - Vanguard\\', \\'url\\': \\'https://corporate.vanguard.com/content/corporatesite/us/en/corp/vemo/vemo-china.html\\', \\'content\\': \\'Notes: GDP growth is defined as the annual change in real (inflation-adjusted) GDP in the forecast year compared with the previous year. Unemployment rate is as of December 2025. Core inflation is the year-over-year change in the Consumer Price Index, excluding volatile food and energy prices, compared with the previous year. Monetary policy is the People’s Bank of China’s seven-day reverse repo rate at year-end.\\\\n\\\\nSource: Vanguard. \\\\n\\\\nA closer look\\\\n\\\\n2025: Our global outlook [...] # Our economic outlook for China\\\\n\\\\nJuly 23, 2025\\\\n\\\\n## After solid first-half growth, a slowdown in momentum is likely\\\\n\\\\n“We expect China’s growth momentum to weaken given continued property softness, fading exports, and resilient but moderating consumption.”\\\\n\\\\nGrant Feng\\\\n\\\\nGrant Feng,  \\\\nVanguard Senior Economist [...] China’s economy demonstrated resilient growth in the second quarter, with real GDP expanding by a stronger-than-expected 5.2% year over year and a solid quarter-over-quarter increase of 1.1%. Given this strength, we have upgraded our full-year China GDP forecast from 4.6% to 4.8%. Growth was primarily underpinned by robust exports and frontloaded policy easing. A goods trade-in program has boosted consumption, and accelerated policy stimulus has supported economic growth. Exports have remained\\', \\'score\\': 0.39033696}]', name='search', tool_call_id='n2j2z8ewz'),\n",
       "  AIMessage(content='', additional_kwargs={'reasoning_content': 'As of the latest data available up to August 2025, China\\'s GDP is expected to reach **$19,681.00 billion** by the end of 2025. This projection is based on global macro models and analysts\\' expectations. The GDP growth rate for 2025 is anticipated to be around **4.8–5.0%**, in line with the official growth target of \"around 5%.\" However, the economy faces challenges such as uncertainties in U.S. trade policy, weakening consumer confidence, and issues in the property sector.'}, response_metadata={'token_usage': {'completion_tokens': 117, 'prompt_tokens': 3131, 'total_tokens': 3248, 'completion_time': 0.372268378, 'prompt_time': 0.291824556, 'queue_time': 0.19584845699999998, 'total_time': 0.664092934}, 'model_name': 'deepseek-r1-distill-llama-70b', 'system_fingerprint': 'fp_1bbe7845ec', 'finish_reason': 'stop', 'logprobs': None}, id='run--f1c6486f-b7de-4d0d-a554-2d164e9f7e8b-0', usage_metadata={'input_tokens': 3131, 'output_tokens': 117, 'total_tokens': 3248}),\n",
       "  HumanMessage(content='What is the current gdp of the japan?', additional_kwargs={}, response_metadata={}),\n",
       "  AIMessage(content='', additional_kwargs={'reasoning_content': 'Okay, the user is asking for the current GDP of Japan. I remember in the previous interactions, they asked about China\\'s GDP multiple times, so maybe they\\'re comparing economies or doing some research on global economics. \\n\\nI should use the same approach I used for China. First, I\\'ll call the search tool with the query \"current GDP of Japan 2025\" to get the most recent data. I\\'ll need to make sure the function call is correctly formatted in JSON within the tool_call tags.\\n\\nLooking at the previous example, the tool_call included an id, name, and arguments. I\\'ll follow that structure. Once I get the search results, I\\'ll extract the relevant GDP figure from the results, probably from a reliable source like Trading Economics or the World Bank.\\n\\nI should present the information clearly, stating the current GDP in USD billion and mention the year it\\'s applicable to. Also, it might be good to include a bit of context, like Japan\\'s economic position or any notable trends, if available from the search results.\\n\\nI need to ensure accuracy, so double-checking the source and the figure is important. If there are multiple sources with similar data, that adds confidence. If there are discrepancies, I might need to address that, but since the user is asking for the current GDP, I\\'ll go with the most authoritative source.\\n\\nFinally, I\\'ll format the response as per the user\\'s instructions, using the tool_call XML tags for the function call and then provide the extracted information in a clear, concise manner.\\n', 'tool_calls': [{'id': 'n2j2z8ewz', 'function': {'arguments': '{\"query\":\"current GDP of Japan 2025\"}', 'name': 'search'}, 'type': 'function'}]}, response_metadata={'token_usage': {'completion_tokens': 346, 'prompt_tokens': 3144, 'total_tokens': 3490, 'completion_time': 1.761542621, 'prompt_time': 0.29321191, 'queue_time': 0.195923764, 'total_time': 2.054754531}, 'model_name': 'deepseek-r1-distill-llama-70b', 'system_fingerprint': 'fp_1bbe7845ec', 'finish_reason': 'tool_calls', 'logprobs': None}, id='run--90a57107-d2c2-49cc-a308-45111faae0df-0', tool_calls=[{'name': 'search', 'args': {'query': 'current GDP of Japan 2025'}, 'id': 'n2j2z8ewz', 'type': 'tool_call'}], usage_metadata={'input_tokens': 3144, 'output_tokens': 346, 'total_tokens': 3490}),\n",
       "  ToolMessage(content='according to the latest data 4.1 trillion USD', tool_call_id='n2j2z8ewz'),\n",
       "  HumanMessage(content='What is the current gdp of the japan?', additional_kwargs={}, response_metadata={}),\n",
       "  AIMessage(content='', additional_kwargs={'reasoning_content': 'Okay, the user is asking for the current GDP of Japan. I remember in the previous interactions, they asked about China\\'s GDP, and I used the \\'search\\' tool to find that information. Now, they\\'re shifting focus to Japan, so I should follow the same approach.\\n\\nFirst, I\\'ll need to call the \\'search\\' function with the query \"current GDP of Japan 2025\" to get the most recent data. I\\'ll format the tool call correctly, ensuring the JSON structure is accurate.\\n\\nAfter receiving the search results, I\\'ll look through the provided links and content to find the latest GDP figure. I\\'ll check for the most reliable sources, like official statistics or reputable economic websites.\\n\\nOnce I find the GDP value, I\\'ll present it clearly, mentioning the year and the source if possible. I should make sure the response is concise and informative, just like I did for China\\'s GDP.\\n\\nI also need to consider the user\\'s potential deeper needs. They might be comparing economies or researching economic trends, so providing accurate and up-to-date information is crucial. I\\'ll avoid any markdown and keep the response natural and straightforward.\\n', 'tool_calls': [{'id': 'n2j2z8ewz', 'function': {'arguments': '{\"query\":\"current GDP of Japan 2025\"}', 'name': 'search'}, 'type': 'function'}]}, response_metadata={'token_usage': {'completion_tokens': 266, 'prompt_tokens': 3222, 'total_tokens': 3488, 'completion_time': 1.192857947, 'prompt_time': 0.299192316, 'queue_time': 0.21992714399999996, 'total_time': 1.4920502629999999}, 'model_name': 'deepseek-r1-distill-llama-70b', 'system_fingerprint': 'fp_1bbe7845ec', 'finish_reason': 'tool_calls', 'logprobs': None}, id='run--9e400d8a-299c-468c-ba67-b2446b745514-0', tool_calls=[{'name': 'search', 'args': {'query': 'current GDP of Japan 2025'}, 'id': 'n2j2z8ewz', 'type': 'tool_call'}], usage_metadata={'input_tokens': 3222, 'output_tokens': 266, 'total_tokens': 3488})]}"
      ]
     },
     "execution_count": 59,
     "metadata": {},
     "output_type": "execute_result"
    }
   ],
   "source": [
    "app2.invoke({\"messages\":[HumanMessage(\"What is the current gdp of the japan?\")]},config=config)"
   ]
  },
  {
   "cell_type": "code",
   "execution_count": 60,
   "id": "2d55a2a7",
   "metadata": {},
   "outputs": [
    {
     "data": {
      "text/plain": [
       "{'messages': [HumanMessage(content='What is the current gdp of the china?', additional_kwargs={}, response_metadata={}),\n",
       "  HumanMessage(content='What is the current gdp of the china?', additional_kwargs={}, response_metadata={}),\n",
       "  HumanMessage(content='What is the current gdp of the china?', additional_kwargs={}, response_metadata={}),\n",
       "  AIMessage(content='', additional_kwargs={'reasoning_content': \"Okay, the user is asking about the current GDP of China. Since I don't have real-time data, I'll need to use the 'search' tool to find the most recent information. I should structure the search query clearly to get accurate results. Let me call the search function with the appropriate parameters.\\n\", 'tool_calls': [{'id': '583d8cnet', 'function': {'arguments': '{\"query\":\"current GDP of China 2023\"}', 'name': 'search'}, 'type': 'function'}]}, response_metadata={'token_usage': {'completion_tokens': 91, 'prompt_tokens': 198, 'total_tokens': 289, 'completion_time': 0.377996959, 'prompt_time': 0.026880267, 'queue_time': 0.21762821100000002, 'total_time': 0.404877226}, 'model_name': 'deepseek-r1-distill-llama-70b', 'system_fingerprint': 'fp_1bbe7845ec', 'finish_reason': 'tool_calls', 'logprobs': None}, id='run--8aefdd3d-094d-444d-888b-3aadb15bb7cd-0', tool_calls=[{'name': 'search', 'args': {'query': 'current GDP of China 2023'}, 'id': '583d8cnet', 'type': 'tool_call'}], usage_metadata={'input_tokens': 198, 'output_tokens': 91, 'total_tokens': 289}),\n",
       "  ToolMessage(content='Result for current GDP of China 2023 is: \\n[{\\'title\\': \\'China: GDP at current prices 1985-2030 - Statista\\', \\'url\\': \\'https://www.statista.com/statistics/263770/gross-domestic-product-gdp-of-china/\\', \\'content\\': \"China\\'s real GDP growth was 3.1 percent in 2022 and 5.4 percent in 2023. In 2024, per capita GDP in China reached around 13,300 U.S. dollars.\", \\'score\\': 0.87706697}, {\\'title\\': \\'Economy of China - Wikipedia\\', \\'url\\': \\'https://en.wikipedia.org/wiki/Economy_of_China\\', \\'content\\': \\'Decrease $272.5 billion (2023) · Decrease 1.4% of GDP (2023) · Positive decrease $2.38 trillion (September 2023) · Negative increase ¥103.987 trillion; Negative\\', \\'score\\': 0.77548623}, {\\'title\\': \\'China GDP - Trading Economics\\', \\'url\\': \\'https://tradingeconomics.com/china/gdp\\', \\'content\\': \\'## GDP in China averaged 3590.13 USD Billion from 1960 until 2024, reaching an all time high of 18743.80 USD Billion in 2024 and a record low of 47.31 USD Billion in 1962. This page provides - China GDP - actual values, historical data, forecast, chart, statistics, economic calendar and news. China GDP - values, historical data and charts - was last updated on August of 2025. [...] ##### Members\\\\n\\\\n##### \\\\n\\\\n# China GDP\\\\n\\\\n## The Gross Domestic Product (GDP) in China was worth 18743.80 billion US dollars in 2024, according to official data from the World Bank. The GDP value of China represents 17.65 percent of the world economy. source: World Bank [...] ### GDP in China is expected to reach 19681.00 USD Billion by the end of 2025, according to Trading Economics global macro models and analysts expectations. In the long-term, the China GDP is projected to trend around 20626.00 USD Billion in 2026 and 21574.00 USD Billion in 2027, according to our econometric models.\\', \\'score\\': 0.507544}, {\\'title\\': \\'GDP (current US$) - China - World Bank Open Data\\', \\'url\\': \\'https://data.worldbank.org/indicator/NY.GDP.MKTP.CD?locations=CN\\', \\'content\\': \\'The World Bank\\\\n\\\\nBrowse World Development Indicators byCountryorIndicator\\\\n\\\\n# GDP (current US$) - China\\\\n\\\\n1960 - 2024\\\\n\\\\n#### Download\\\\n\\\\nCSVXMLEXCEL\\\\n\\\\n#### DataBank\\\\n\\\\nExplore Our DataBank\\\\n\\\\n#### WDI Tables\\\\n\\\\nThematic data tables from WDI\\\\n\\\\n## Selected Countries and Economies\\\\n\\\\n## All Countries and Economies\\\\n\\\\nThe World Bank Working for a World Free of Poverty\\\\nWorld Bank Facebook\\\\nWorld Bank Twitter\\\\nWorld Bank Github\\\\nWorld Bank Linkedin [...] This site uses cookies to optimize functionality and give you the best possible experience. If you continue to navigate this website beyond this page, cookies will be placed on your browser. To learn more about cookies,  click here.\\', \\'score\\': 0.28291926}, {\\'title\\': \\'GDP growth (annual %) - China - World Bank Open Data\\', \\'url\\': \\'https://data.worldbank.org/indicator/NY.GDP.MKTP.KD.ZG?locations=CN\\', \\'content\\': \\'The World Bank\\\\n\\\\nBrowse World Development Indicators byCountryorIndicator\\\\n\\\\n# GDP growth (annual %) - China\\\\n\\\\n1961 - 2024\\\\n\\\\n#### Download\\\\n\\\\nCSVXMLEXCEL\\\\n\\\\n#### DataBank\\\\n\\\\nExplore Our DataBank\\\\n\\\\n#### WDI Tables\\\\n\\\\nThematic data tables from WDI\\\\n\\\\n## Selected Countries and Economies\\\\n\\\\n## All Countries and Economies\\\\n\\\\nThe World Bank Working for a World Free of Poverty\\\\nWorld Bank Facebook\\\\nWorld Bank Twitter\\\\nWorld Bank Github\\\\nWorld Bank Linkedin [...] This site uses cookies to optimize functionality and give you the best possible experience. If you continue to navigate this website beyond this page, cookies will be placed on your browser. To learn more about cookies,  click here.\\', \\'score\\': 0.16210158}]', name='search', tool_call_id='583d8cnet'),\n",
       "  AIMessage(content=\"The current GDP of China as of 2024 is approximately **$18,743.80 billion**. This figure represents China's economic output in nominal terms and reflects its position as a major contributor to the global economy.\", additional_kwargs={'reasoning_content': \"Alright, let me try to figure out the current GDP of China based on the information provided. The user asked about the GDP, and I used the search tool to find relevant data. \\n\\nLooking at the first search result from Statista, it mentions that China's GDP in 2024 reached around $18,743.80 billion. This seems like a specific and recent figure, so that's probably the number I'm looking for.\\n\\nThe other results, like the one from Wikipedia, mention a decrease in some economic indicators, but they don't provide a direct GDP figure for 2023 or 2024. The World Bank data also points to around $18,743.80 billion for 2024, which matches the first source.\\n\\nSo, combining these, it looks like the current GDP of China as of 2024 is approximately $18,743.80 billion.\\n\"}, response_metadata={'token_usage': {'completion_tokens': 228, 'prompt_tokens': 1185, 'total_tokens': 1413, 'completion_time': 0.953725903, 'prompt_time': 0.115643086, 'queue_time': 0.21850662799999998, 'total_time': 1.069368989}, 'model_name': 'deepseek-r1-distill-llama-70b', 'system_fingerprint': 'fp_1bbe7845ec', 'finish_reason': 'stop', 'logprobs': None}, id='run--cf2a2aa9-2646-4800-963d-1335be964c52-0', usage_metadata={'input_tokens': 1185, 'output_tokens': 228, 'total_tokens': 1413}),\n",
       "  HumanMessage(content='What is the current gdp of the china?', additional_kwargs={}, response_metadata={}),\n",
       "  AIMessage(content='', additional_kwargs={'reasoning_content': \"Alright, the user is asking again about China's current GDP. I remember from the previous interaction that they were provided with information up to 2024, with a GDP of around $18,743.80 billion. Now, they're asking the same question, so I need to check if there's any new data available.\\n\\nFirst, I should consider why they're asking again. Maybe they're looking for the most recent figures or perhaps they didn't find the previous answer sufficient. Since the last data was up to 2024, I should see if there are any updates for 2025 or if the GDP has been revised.\\n\\nI'll use the same search function to look up the latest GDP figures. This will ensure that the information I provide is accurate and up-to-date. I'll structure the search to focus on 2025 to capture the most recent data.\\n\\nAfter performing the search, I'll analyze the results. If there's new data for 2025, I'll present that. If not, I'll let the user know that the latest available data is still from 2024 and offer to provide more details if needed.\\n\\nI should make sure the response is clear and helpful, addressing their potential need for the most current information. It's also important to maintain a consistent and professional tone, as I did in the previous interaction.\\n\", 'tool_calls': [{'id': 'n2j2z8ewz', 'function': {'arguments': '{\"query\":\"current GDP of China 2025\"}', 'name': 'search'}, 'type': 'function'}]}, response_metadata={'token_usage': {'completion_tokens': 297, 'prompt_tokens': 1243, 'total_tokens': 1540, 'completion_time': 1.3586484140000001, 'prompt_time': 0.121036912, 'queue_time': 0.21845120299999998, 'total_time': 1.479685326}, 'model_name': 'deepseek-r1-distill-llama-70b', 'system_fingerprint': 'fp_1bbe7845ec', 'finish_reason': 'tool_calls', 'logprobs': None}, id='run--057d521b-cc8f-4299-ad21-7d27206773e8-0', tool_calls=[{'name': 'search', 'args': {'query': 'current GDP of China 2025'}, 'id': 'n2j2z8ewz', 'type': 'tool_call'}], usage_metadata={'input_tokens': 1243, 'output_tokens': 297, 'total_tokens': 1540}),\n",
       "  ToolMessage(content='Result for current GDP of China 2025 is: \\n[{\\'title\\': \\'China GDP - Trading Economics\\', \\'url\\': \\'https://tradingeconomics.com/china/gdp\\', \\'content\\': \\'### GDP in China is expected to reach 19681.00 USD Billion by the end of 2025, according to Trading Economics global macro models and analysts expectations. In the long-term, the China GDP is projected to trend around 20626.00 USD Billion in 2026 and 21574.00 USD Billion in 2027, according to our econometric models. [...] | Related | Last | Previous | Unit | Reference |\\\\n| --- | --- | --- | --- | --- |\\\\n| Full Year GDP Growth | 5.00 | 5.40 | percent | Dec 2024 |\\\\n| GDP | 18743.80 | 18270.36 | USD Billion | Dec 2024 |\\\\n| GDP Growth Rate YoY | 5.20 | 5.40 | percent | Jun 2025 |\\\\n| GDP Growth Rate | 1.10 | 1.20 | percent | Jun 2025 |\\\\n| GDP per Capita | 13121.68 | 12484.16 | USD | Dec 2024 |\\\\n| GDP per Capita PPP | 23845.62 | 22687.08 | USD | Dec 2024 | [...] ## GDP in China averaged 3590.13 USD Billion from 1960 until 2024, reaching an all time high of 18743.80 USD Billion in 2024 and a record low of 47.31 USD Billion in 1962. This page provides - China GDP - actual values, historical data, forecast, chart, statistics, economic calendar and news. China GDP - values, historical data and charts - was last updated on August of 2025.\\', \\'score\\': 0.89849097}, {\\'title\\': \"How to Predict China\\'s Economic Performance for 2025: A Sectoral ...\", \\'url\\': \\'https://carnegieendowment.org/posts/2025/05/how-to-predict-chinas-economic-performance-for-2025?lang=en\\', \\'content\\': \\'Barring a disaster, in which case all predictions will be off, China will almost certainly achieve its GDP growth target in 2025, which means that predictions by all the global financial institutions will converge to 4.8–5.0 percent by the fourth quarter of 2025. Lower predicted growth rates earlier in the year, in other words, are mostly meaningless as predictions. [...] Already in early 2025, analysts have revised their estimates several times. At the beginning of the year, most banks expected that China’s GDP growth in 2025 would come in well below the GDP growth target of 5 percent. But these expectations changed in late March after Chinese leadership made ambitious economic pronouncements during the annual Two Sessions governmental meetings in March. As the Wall Street Journal reported, the banks HSBC, ANZ, and Citi upgraded their forecasts for China’s GDP [...] growth to 4.8 percent, 4.8 percent, and 4.7 percent, respectively—up from previous estimates of 4.5 percent, 4.3 percent, and 4.2 percent.\\', \\'score\\': 0.8058924}, {\\'title\\': \"China\\'s economy expanded by 5.4% in Q1, but faces strong ...\", \\'url\\': \\'https://www.conference-board.org/research/economy-watch-china/AP-TCB-CHINA-Economy-Watch-China-View-2025-April-final\\', \\'content\\': \"In Q1 2025, China\\'s GDP grew by 5.4% year-on-year, unchanged from the previous quarter and in line with the official growth target of “around 5%”. The growth was mainly driven by retail sales and exports. Looking forward, however, the economy faces strong headwinds from uncertainties over US trade policy, persistent weakness in consumer confidence, and malaise in the property sector. The recent politburo meeting, concluded in late April, pledged a proactive fiscal policy and moderately loose [...] In Q1 2025, China\\'s GDP grew by 5.4% year-on-year, unchanged from the previous quarter and in line with the official growth target of “around 5%”. The growth was mainly driven by retail sales and exports. Looking forward, however, the economy faces strong headwinds from uncertainties over US trade policy, persistent weakness in consumer confidence, and malaise in the property sector. The recent politburo meeting, concluded in late April, pledged a proactive fiscal policy and moderately loose [...] In Q1 2025, China\\'s GDP grew by 5.4% year-on-year, unchanged from the previous quarter and in line with the official growth target of “around 5%”. The growth was mainly driven by retail sales and exports. Looking forward, however, the economy faces strong headwinds from uncertainties over US trade policy, persistent weakness in consumer confidence, and malaise in the property sector. The recent politburo meeting, concluded in late April, pledged a proactive fiscal policy and moderately loose\", \\'score\\': 0.79080546}, {\\'title\\': \\'The Fed - Is China Really Growing at 5 Percent?\\', \\'url\\': \\'https://www.federalreserve.gov/econres/notes/feds-notes/is-china-really-growing-at-5-percent-20250606.html\\', \\'content\\': \\'Chinese authorities recently announced a growth target of \"around 5 percent\" for 2025, the same as their 2024 target. Five percent is about half the pace of growth that China sustained from the 1980s to the early 2010s, but it is nonetheless quite high for an economy flirting with deflation and mired in a years-long property bust. The ambitious growth target, given the circumstances, has led many observers of the Chinese economy to once again treat the official GDP data with skepticism. In this [...] Caines, C., S. Jeon, and C. Quijano (2025). \"Developments in Chinese Chipmaking,\" FEDS Notes. Washington: Board of Governors of the Federal Reserve System.\\\\n\\\\nClark, H., M. Pinkovskiy, and X. Sala-i Martin (2020). China\\\\\\'s GDP growth may be understated. China Economic Review, 62 (C).\\\\n\\\\nde Soyres, F., and D. Moore (2024). \"Assessing China\\\\\\'s Efforts to Increase Self-Reliance,\" FEDS Notes. Washington: Board of Governors of the Federal Reserve System. [...] note, we revisit an alternative indicator of Chinese GDP growth developed by Barcelona et al. (2022) to examine whether official data overstate Chinese GDP growth. Our findings suggest that recent GDP growth figures, which have been in line with the stated target, appear to align closely with broader Chinese economic indicators and do not appear to be overstated. We find that the recent near-target growth has been driven by a strong supply-side performance, supported by sustained global demand\\', \\'score\\': 0.71185225}, {\\'title\\': \\'Our economic outlook for China - Vanguard\\', \\'url\\': \\'https://corporate.vanguard.com/content/corporatesite/us/en/corp/vemo/vemo-china.html\\', \\'content\\': \\'Notes: GDP growth is defined as the annual change in real (inflation-adjusted) GDP in the forecast year compared with the previous year. Unemployment rate is as of December 2025. Core inflation is the year-over-year change in the Consumer Price Index, excluding volatile food and energy prices, compared with the previous year. Monetary policy is the People’s Bank of China’s seven-day reverse repo rate at year-end.\\\\n\\\\nSource: Vanguard. \\\\n\\\\nA closer look\\\\n\\\\n2025: Our global outlook [...] # Our economic outlook for China\\\\n\\\\nJuly 23, 2025\\\\n\\\\n## After solid first-half growth, a slowdown in momentum is likely\\\\n\\\\n“We expect China’s growth momentum to weaken given continued property softness, fading exports, and resilient but moderating consumption.”\\\\n\\\\nGrant Feng\\\\n\\\\nGrant Feng,  \\\\nVanguard Senior Economist [...] China’s economy demonstrated resilient growth in the second quarter, with real GDP expanding by a stronger-than-expected 5.2% year over year and a solid quarter-over-quarter increase of 1.1%. Given this strength, we have upgraded our full-year China GDP forecast from 4.6% to 4.8%. Growth was primarily underpinned by robust exports and frontloaded policy easing. A goods trade-in program has boosted consumption, and accelerated policy stimulus has supported economic growth. Exports have remained\\', \\'score\\': 0.39033696}]', name='search', tool_call_id='n2j2z8ewz'),\n",
       "  AIMessage(content='', additional_kwargs={'reasoning_content': 'As of the latest data available up to August 2025, China\\'s GDP is expected to reach **$19,681.00 billion** by the end of 2025. This projection is based on global macro models and analysts\\' expectations. The GDP growth rate for 2025 is anticipated to be around **4.8–5.0%**, in line with the official growth target of \"around 5%.\" However, the economy faces challenges such as uncertainties in U.S. trade policy, weakening consumer confidence, and issues in the property sector.'}, response_metadata={'token_usage': {'completion_tokens': 117, 'prompt_tokens': 3131, 'total_tokens': 3248, 'completion_time': 0.372268378, 'prompt_time': 0.291824556, 'queue_time': 0.19584845699999998, 'total_time': 0.664092934}, 'model_name': 'deepseek-r1-distill-llama-70b', 'system_fingerprint': 'fp_1bbe7845ec', 'finish_reason': 'stop', 'logprobs': None}, id='run--f1c6486f-b7de-4d0d-a554-2d164e9f7e8b-0', usage_metadata={'input_tokens': 3131, 'output_tokens': 117, 'total_tokens': 3248}),\n",
       "  HumanMessage(content='What is the current gdp of the japan?', additional_kwargs={}, response_metadata={}),\n",
       "  AIMessage(content='', additional_kwargs={'reasoning_content': 'Okay, the user is asking for the current GDP of Japan. I remember in the previous interactions, they asked about China\\'s GDP multiple times, so maybe they\\'re comparing economies or doing some research on global economics. \\n\\nI should use the same approach I used for China. First, I\\'ll call the search tool with the query \"current GDP of Japan 2025\" to get the most recent data. I\\'ll need to make sure the function call is correctly formatted in JSON within the tool_call tags.\\n\\nLooking at the previous example, the tool_call included an id, name, and arguments. I\\'ll follow that structure. Once I get the search results, I\\'ll extract the relevant GDP figure from the results, probably from a reliable source like Trading Economics or the World Bank.\\n\\nI should present the information clearly, stating the current GDP in USD billion and mention the year it\\'s applicable to. Also, it might be good to include a bit of context, like Japan\\'s economic position or any notable trends, if available from the search results.\\n\\nI need to ensure accuracy, so double-checking the source and the figure is important. If there are multiple sources with similar data, that adds confidence. If there are discrepancies, I might need to address that, but since the user is asking for the current GDP, I\\'ll go with the most authoritative source.\\n\\nFinally, I\\'ll format the response as per the user\\'s instructions, using the tool_call XML tags for the function call and then provide the extracted information in a clear, concise manner.\\n', 'tool_calls': [{'id': 'n2j2z8ewz', 'function': {'arguments': '{\"query\":\"current GDP of Japan 2025\"}', 'name': 'search'}, 'type': 'function'}]}, response_metadata={'token_usage': {'completion_tokens': 346, 'prompt_tokens': 3144, 'total_tokens': 3490, 'completion_time': 1.761542621, 'prompt_time': 0.29321191, 'queue_time': 0.195923764, 'total_time': 2.054754531}, 'model_name': 'deepseek-r1-distill-llama-70b', 'system_fingerprint': 'fp_1bbe7845ec', 'finish_reason': 'tool_calls', 'logprobs': None}, id='run--90a57107-d2c2-49cc-a308-45111faae0df-0', tool_calls=[{'name': 'search', 'args': {'query': 'current GDP of Japan 2025'}, 'id': 'n2j2z8ewz', 'type': 'tool_call'}], usage_metadata={'input_tokens': 3144, 'output_tokens': 346, 'total_tokens': 3490}),\n",
       "  ToolMessage(content='according to the latest data 4.1 trillion USD', tool_call_id='n2j2z8ewz'),\n",
       "  HumanMessage(content='What is the current gdp of the japan?', additional_kwargs={}, response_metadata={}),\n",
       "  AIMessage(content='', additional_kwargs={'reasoning_content': 'Okay, the user is asking for the current GDP of Japan. I remember in the previous interactions, they asked about China\\'s GDP, and I used the \\'search\\' tool to find that information. Now, they\\'re shifting focus to Japan, so I should follow the same approach.\\n\\nFirst, I\\'ll need to call the \\'search\\' function with the query \"current GDP of Japan 2025\" to get the most recent data. I\\'ll format the tool call correctly, ensuring the JSON structure is accurate.\\n\\nAfter receiving the search results, I\\'ll look through the provided links and content to find the latest GDP figure. I\\'ll check for the most reliable sources, like official statistics or reputable economic websites.\\n\\nOnce I find the GDP value, I\\'ll present it clearly, mentioning the year and the source if possible. I should make sure the response is concise and informative, just like I did for China\\'s GDP.\\n\\nI also need to consider the user\\'s potential deeper needs. They might be comparing economies or researching economic trends, so providing accurate and up-to-date information is crucial. I\\'ll avoid any markdown and keep the response natural and straightforward.\\n', 'tool_calls': [{'id': 'n2j2z8ewz', 'function': {'arguments': '{\"query\":\"current GDP of Japan 2025\"}', 'name': 'search'}, 'type': 'function'}]}, response_metadata={'token_usage': {'completion_tokens': 266, 'prompt_tokens': 3222, 'total_tokens': 3488, 'completion_time': 1.192857947, 'prompt_time': 0.299192316, 'queue_time': 0.21992714399999996, 'total_time': 1.4920502629999999}, 'model_name': 'deepseek-r1-distill-llama-70b', 'system_fingerprint': 'fp_1bbe7845ec', 'finish_reason': 'tool_calls', 'logprobs': None}, id='run--9e400d8a-299c-468c-ba67-b2446b745514-0', tool_calls=[{'name': 'search', 'args': {'query': 'current GDP of Japan 2025'}, 'id': 'n2j2z8ewz', 'type': 'tool_call'}], usage_metadata={'input_tokens': 3222, 'output_tokens': 266, 'total_tokens': 3488}),\n",
       "  ToolMessage(content='Result for current GDP of Japan 2025 is: \\n[{\\'title\\': \\'Japan GDP Growth Rate - Trading Economics\\', \\'url\\': \\'https://tradingeconomics.com/japan/gdp-growth\\', \\'content\\': \\'| Related | Last | Previous | Unit | Reference |\\\\n| --- | --- | --- | --- | --- |\\\\n| Full Year GDP Growth | 0.10 | 1.90 | percent | Dec 2024 |\\\\n| GDP Annual Growth Rate | 1.70 | 1.30 | percent | Mar 2025 |\\\\n| GDP Constant Prices | 561055.80 | 562010.80 | JPY Billion | Mar 2025 |\\\\n| GDP from Agriculture | 5369.50 | 5312.10 | JPY Billion | Dec 2023 |\\\\n| GDP from Construction | 28722.30 | 28159.60 | JPY Billion | Dec 2023 |\\\\n| GDP from Manufacturing | 121800.40 | 120606.60 | JPY Billion | Dec 2023 | [...] | GDP Capital Expenditure | 138872.30 | 137787.20 | JPY Billion | Mar 2025 |\\\\n| Gross National Product | 591411.90 | 590296.60 | JPY Billion | Mar 2025 | [...] ### The Gross Domestic Product (GDP) in Japan stagnated 0 percent in the first quarter of 2025 over the previous quarter. GDP Growth Rate in Japan is expected to be 0.40 percent by the end of this quarter, according to Trading Economics global macro models and analysts expectations. In the long-term, the Japan GDP Growth Rate is projected to trend around 0.40 percent in 2026, according to our econometric models.\\', \\'score\\': 0.8646883}, {\\'title\\': \\'Japan economic outlook, July 2025 - Deloitte\\', \\'url\\': \\'https://www.deloitte.com/us/en/insights/topics/economy/asia-pacific/japan-economic-outlook.html\\', \\'content\\': \\'Japan’s economy is struggling to find its footing amid high inflation and a global slowdown. Real gross domestic product fell an annualized 0.2% between the fourth quarter of 2024 and the first quarter of 2025.1 The main drags to growth came from the public sector and net exports. Imports had been weak in the previous quarter but rebounded at the start of the year, lowering the trade balance. [...] The reported numbers were also weighed down by elevated inflation. Nominal GDP grew at a 3.6% annualized rate from the previous quarter.4 If inflation comes back down to the Bank of Japan’s 2% target while maintaining this level of nominal growth, real GDP will rebound quite nicely. Unfortunately, inflation could prove to be sticky, and trade tensions with the United States could threaten a vital source of growth for the country. We expect real GDP to return to positive growth as some [...] 4.4% in May but accelerated to 7.8% by December.7\\', \\'score\\': 0.6307082}, {\\'title\\': \\'[PDF] Outlook for Economic Activity and Prices (April 2025)\\', \\'url\\': \\'https://www.boj.or.jp/en/mopo/outlook/gor2504a.pdf\\', \\'content\\': \\'activity are skewed to the downside for fiscal 2025 and 2026. Risks to prices are also skewed to the downside for fiscal 2025 and 2026. 1 \"The Bank\\\\\\'s View\" was decided by the Policy Board at the Monetary Policy Meeting held on April 30 and May 1, 2025. 2 I. Current Situation of Economic Activity and Prices in Japan Japan\\\\\\'s economy has recovered moderately, although some weakness has been seen in part. Overseas economies have grown moderately on the whole, although some weakness has been seen in [...] rise in employee income. Private consumption is also projected to be underpinned by the government\\\\\\'s initiatives such as the measures to reduce the household burden of higher gasoline prices and the tax reform in fiscal 2025. Meanwhile, public investment is expected to be more or less flat, and government consumption is expected to increase moderately in reflection of an uptrend in healthcare and nursing care expenditures. Thereafter, Japan\\\\\\'s economic growth rate is likely to rise, with [...] because productivity is likely to increase due to advances in digitalization and investment in human capital, and because capital stock growth is projected to accelerate due to a rise in business fixed investment. Potential growth is likely to be supported by the government\\\\\\'s various measures and other factors. 4 Under a specific methodology, Japan\\\\\\'s recent potential growth rate is estimated to be around 0.5 percent. However, the rate should be interpreted with considerable latitude. This is\\', \\'score\\': 0.5954225}, {\\'title\\': \\'Japan - World Economic Outlook (April 2025) - GDP, current prices\\', \\'url\\': \\'https://www.imf.org/external/datamapper/NGDPD@WEO/JPN\\', \\'content\\': \\'World Economic Outlook (April 2025) - GDP, current prices. GDP, current prices. Billions of US dollars. map, list, chart.\\', \\'score\\': 0.5265625}, {\\'title\\': \\'Our economic outlook for Japan - Vanguard\\', \\'url\\': \\'https://corporate.vanguard.com/content/corporatesite/us/en/corp/vemo/vemo-japan.html\\', \\'content\\': \\'Notes: GDP growth is defined as the annual change in real (inflation-adjusted) GDP in the forecast year compared with the previous year. Unemployment rate is as of December 2025. Core inflation is the year-over-year change in the Consumer Price Index, excluding volatile fresh food prices, as of December 2025. Monetary policy is the Bank of Japan’s year-end target for the overnight rate.\\\\n\\\\nSource: Vanguard.\\\\n\\\\nA closer look\\\\n\\\\n2025: Our global outlook\\\\n\\\\nOur U.S. outlook\\\\n\\\\nOur U.S. return forecasts [...] # Our economic outlook for Japan\\\\n\\\\nJuly 23, 2025\\\\n\\\\n## BoJ adopts cautious stance amid uncertainty, capital market concerns\\\\n\\\\n“We expect the BoJ will stick to its policy-normalization cycle, as domestic inflation momentum remains well above target and wage-price dynamics are strengthening.”\\\\n\\\\nGrant Feng\\\\n\\\\nGrant Feng,  \\\\nVanguard Senior Economist [...] remain high.\\', \\'score\\': 0.3900581}]', name='search', tool_call_id='n2j2z8ewz'),\n",
       "  AIMessage(content='', additional_kwargs={'reasoning_content': \"The current GDP of Japan as of 2025 is approximately **$4.1 trillion USD**. This figure reflects Japan's economic performance amidst various global and domestic factors influencing its growth.\"}, response_metadata={'token_usage': {'completion_tokens': 41, 'prompt_tokens': 4636, 'total_tokens': 4677, 'completion_time': 0.121488575, 'prompt_time': 0.429989939, 'queue_time': 0.19720590200000004, 'total_time': 0.551478514}, 'model_name': 'deepseek-r1-distill-llama-70b', 'system_fingerprint': 'fp_1bbe7845ec', 'finish_reason': 'stop', 'logprobs': None}, id='run--51027821-0847-4337-a1f1-e7113dc90029-0', usage_metadata={'input_tokens': 4636, 'output_tokens': 41, 'total_tokens': 4677})]}"
      ]
     },
     "execution_count": 60,
     "metadata": {},
     "output_type": "execute_result"
    }
   ],
   "source": [
    "app2.invoke(None,config=config)"
   ]
  },
  {
   "cell_type": "code",
   "execution_count": null,
   "id": "328e3fa1",
   "metadata": {},
   "outputs": [],
   "source": []
  }
 ],
 "metadata": {
  "kernelspec": {
   "display_name": "Python 3",
   "language": "python",
   "name": "python3"
  },
  "language_info": {
   "codemirror_mode": {
    "name": "ipython",
    "version": 3
   },
   "file_extension": ".py",
   "mimetype": "text/x-python",
   "name": "python",
   "nbconvert_exporter": "python",
   "pygments_lexer": "ipython3",
   "version": "3.13.0"
  }
 },
 "nbformat": 4,
 "nbformat_minor": 5
}
