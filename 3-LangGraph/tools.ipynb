{
 "cells": [
  {
   "cell_type": "markdown",
   "id": "e0fd149c",
   "metadata": {},
   "source": [
    "# Built-In Tools"
   ]
  },
  {
   "cell_type": "markdown",
   "id": "c63434f0",
   "metadata": {},
   "source": [
    "### Wikipedia Built In Tool"
   ]
  },
  {
   "cell_type": "code",
   "execution_count": 1,
   "id": "9b44b7d4",
   "metadata": {},
   "outputs": [],
   "source": [
    "from langchain_community.tools import WikipediaQueryRun"
   ]
  },
  {
   "cell_type": "code",
   "execution_count": 2,
   "id": "38f17dac",
   "metadata": {},
   "outputs": [],
   "source": [
    "from langchain_community.utilities import WikipediaAPIWrapper"
   ]
  },
  {
   "cell_type": "code",
   "execution_count": 3,
   "id": "0e776b5f",
   "metadata": {},
   "outputs": [],
   "source": [
    "api_wrapper=WikipediaAPIWrapper(top_k_results=5,doc_content_chars_max= 500)"
   ]
  },
  {
   "cell_type": "code",
   "execution_count": 4,
   "id": "07d1899a",
   "metadata": {},
   "outputs": [],
   "source": [
    "wiki_tool = WikipediaQueryRun(api_wrapper= api_wrapper)"
   ]
  },
  {
   "cell_type": "code",
   "execution_count": 5,
   "id": "f8926bd3",
   "metadata": {},
   "outputs": [
    {
     "data": {
      "text/plain": [
       "'wikipedia'"
      ]
     },
     "execution_count": 5,
     "metadata": {},
     "output_type": "execute_result"
    }
   ],
   "source": [
    "wiki_tool.name"
   ]
  },
  {
   "cell_type": "code",
   "execution_count": 6,
   "id": "949fd965",
   "metadata": {},
   "outputs": [
    {
     "data": {
      "text/plain": [
       "'A wrapper around Wikipedia. Useful for when you need to answer general questions about people, places, companies, facts, historical events, or other subjects. Input should be a search query.'"
      ]
     },
     "execution_count": 6,
     "metadata": {},
     "output_type": "execute_result"
    }
   ],
   "source": [
    "wiki_tool.description"
   ]
  },
  {
   "cell_type": "code",
   "execution_count": 7,
   "id": "05686776",
   "metadata": {},
   "outputs": [
    {
     "data": {
      "text/plain": [
       "{'query': {'description': 'query to look up on wikipedia',\n",
       "  'title': 'Query',\n",
       "  'type': 'string'}}"
      ]
     },
     "execution_count": 7,
     "metadata": {},
     "output_type": "execute_result"
    }
   ],
   "source": [
    "wiki_tool.args"
   ]
  },
  {
   "cell_type": "code",
   "execution_count": 8,
   "id": "e6b04962",
   "metadata": {},
   "outputs": [
    {
     "data": {
      "text/plain": [
       "\"Page: Elon Musk\\nSummary: Elon Reeve Musk  ( EE-lon; born June 28, 1971) is a businessman. He is known for his leadership of Tesla, SpaceX, X (formerly Twitter), and the Department of Government Efficiency (DOGE). Musk has been considered the wealthiest person in the world since 2021; as of May 2025, Forbes estimates his net worth to be US$424.7 billion. \\nBorn to a wealthy family in Pretoria, South Africa, Musk emigrated in 1989 to Canada. He received bachelor's degrees from the University of Pen\""
      ]
     },
     "execution_count": 8,
     "metadata": {},
     "output_type": "execute_result"
    }
   ],
   "source": [
    "wiki_tool.run({\"query\": \"elon musk\"})"
   ]
  },
  {
   "cell_type": "code",
   "execution_count": 10,
   "id": "dc0dd8f9",
   "metadata": {},
   "outputs": [
    {
     "name": "stderr",
     "output_type": "stream",
     "text": [
      "g:\\AgenticAI\\venv\\Lib\\site-packages\\wikipedia\\wikipedia.py:389: GuessedAtParserWarning: No parser was explicitly specified, so I'm using the best available HTML parser for this system (\"html.parser\"). This usually isn't a problem, but if you run this code on another system, or in a different virtual environment, it may use a different parser and behave differently.\n",
      "\n",
      "The code that caused this warning is on line 389 of the file g:\\AgenticAI\\venv\\Lib\\site-packages\\wikipedia\\wikipedia.py. To get rid of this warning, pass the additional argument 'features=\"html.parser\"' to the BeautifulSoup constructor.\n",
      "\n",
      "  lis = BeautifulSoup(html).find_all('li')\n"
     ]
    },
    {
     "data": {
      "text/plain": [
       "\"Page: Royal Challengers Bengaluru\\nSummary: Royal Challengers Bengaluru, formerly Royal Challengers Bangalore, also known as RCB, are a professional Twenty20 cricket team based in Bengaluru, Karnataka, that competes in the Indian Premier League (IPL). Founded in 2008 by United Spirits, the team's home ground is M. Chinnaswamy Stadium. They won their first title in 2025. The team finished as the runners-up on three occasions: in 2009, 2011, and 2016. They have also qualified for the playoffs in te\""
      ]
     },
     "execution_count": 10,
     "metadata": {},
     "output_type": "execute_result"
    }
   ],
   "source": [
    "wiki_tool.run(\"RCB\")"
   ]
  },
  {
   "cell_type": "markdown",
   "id": "dff2df7a",
   "metadata": {},
   "source": [
    "### YouTube Search Built In Tool"
   ]
  },
  {
   "cell_type": "code",
   "execution_count": 11,
   "id": "cd766c23",
   "metadata": {},
   "outputs": [],
   "source": [
    "from langchain_community.tools import YouTubeSearchTool"
   ]
  },
  {
   "cell_type": "code",
   "execution_count": 12,
   "id": "aa1a6185",
   "metadata": {},
   "outputs": [],
   "source": [
    "tool = YouTubeSearchTool()"
   ]
  },
  {
   "cell_type": "code",
   "execution_count": 13,
   "id": "abdf2adf",
   "metadata": {},
   "outputs": [
    {
     "data": {
      "text/plain": [
       "'youtube_search'"
      ]
     },
     "execution_count": 13,
     "metadata": {},
     "output_type": "execute_result"
    }
   ],
   "source": [
    "tool.name"
   ]
  },
  {
   "cell_type": "code",
   "execution_count": 14,
   "id": "875036f1",
   "metadata": {},
   "outputs": [
    {
     "data": {
      "text/plain": [
       "'search for youtube videos associated with a person. the input to this tool should be a comma separated list, the first part contains a person name and the second a number that is the maximum number of video results to return aka num_results. the second part is optional'"
      ]
     },
     "execution_count": 14,
     "metadata": {},
     "output_type": "execute_result"
    }
   ],
   "source": [
    "tool.description"
   ]
  },
  {
   "cell_type": "code",
   "execution_count": 16,
   "id": "7c60e1e3",
   "metadata": {},
   "outputs": [
    {
     "data": {
      "text/plain": [
       "\"['https://www.youtube.com/watch?v=TYEqenKrbaM&pp=ygUKS3Jpc2ggTmFpaw%3D%3D', 'https://www.youtube.com/watch?v=ghnFmeY4bO4&pp=ygUKS3Jpc2ggTmFpaw%3D%3D']\""
      ]
     },
     "execution_count": 16,
     "metadata": {},
     "output_type": "execute_result"
    }
   ],
   "source": [
    "tool.run(\"Krish Naik\")"
   ]
  },
  {
   "cell_type": "markdown",
   "id": "bc6ead90",
   "metadata": {},
   "source": [
    "### Tavily (Search Engine) Built In Tool"
   ]
  },
  {
   "cell_type": "code",
   "execution_count": 1,
   "id": "d57d5529",
   "metadata": {},
   "outputs": [],
   "source": [
    "from langchain_community.tools.tavily_search import TavilySearchResults"
   ]
  },
  {
   "cell_type": "code",
   "execution_count": 2,
   "id": "22a8218e",
   "metadata": {},
   "outputs": [],
   "source": [
    "import os\n",
    "TAVILY_API_KEY=os.getenv(\"TAVILY_API_KEY\")"
   ]
  },
  {
   "cell_type": "code",
   "execution_count": 4,
   "id": "31d6f556",
   "metadata": {},
   "outputs": [
    {
     "name": "stderr",
     "output_type": "stream",
     "text": [
      "C:\\Users\\Harshit\\AppData\\Local\\Temp\\ipykernel_15636\\1068719361.py:1: LangChainDeprecationWarning: The class `TavilySearchResults` was deprecated in LangChain 0.3.25 and will be removed in 1.0. An updated version of the class exists in the :class:`~langchain-tavily package and should be used instead. To use it run `pip install -U :class:`~langchain-tavily` and import as `from :class:`~langchain_tavily import TavilySearch``.\n",
      "  tool=TavilySearchResults(tavily_api_key=TAVILY_API_KEY)\n"
     ]
    }
   ],
   "source": [
    "tool=TavilySearchResults(tavily_api_key=TAVILY_API_KEY)"
   ]
  },
  {
   "cell_type": "code",
   "execution_count": 5,
   "id": "d38200c1",
   "metadata": {},
   "outputs": [
    {
     "data": {
      "text/plain": [
       "[{'title': \"Trump says DOGE is a monster that may 'go back and eat Elon' - CNN\",\n",
       "  'url': 'https://www.cnn.com/2025/07/01/business/elon-musk-donald-trump-fight',\n",
       "  'content': 'WASHINGTON, DC - MAY 30: Tesla CEO Elon Musk listens as U.S. President Donald Trump speaks to reporters in the Oval Office of the White House on May 30, 2025 in Washington, DC. Musk, who served as an adviser to Trump and led the Department of Government Efficiency, announced he would leave his role the Trump administration to refocus on his businesses. (Photo by Kevin Dietsch/Getty Images)\\n\\nThe truce between Elon Musk and President Donald Trump didn’t even last a month. [...] So far, the feud hasn’t grown as personal or as vicious as their public blow-up last month when Musk, without providing evidence, accused Trump of withholding information about disgraced financier and convicted pedophile Jeffrey Epstein, and claiming that Trump’s name was included in the government’s so-called Epstein files. [...] A week after the peak of that feud, Musk said he regretted some of his posts about Trump. Musk deleted some of his most inflammatory X posts, including the one relating to Epstein and another agreeing with the suggestion that Trump should be impeached. Musk had since softened his tone about Trump and the bill, largely shifting his focus on social media and in interviews to his companies.',\n",
       "  'score': 0.78650844},\n",
       " {'title': 'Trump ramps up Musk feud with deportation threat - The Korea Herald',\n",
       "  'url': 'https://www.koreaherald.com/article/10522570',\n",
       "  'content': 'WASHINGTON (AFP) — Donald Trump and Elon Musk reignited their bitter feud Tuesday, with the US president threatening to deport the tech',\n",
       "  'score': 0.7734393},\n",
       " {'title': 'Trump sends Elon Musk a dire warning amid escalating feud - NJ.com',\n",
       "  'url': 'https://www.nj.com/politics/2025/07/trump-sends-elon-musk-a-dire-warning-amid-escalating-feud.html',\n",
       "  'content': 'Musk said last month that the bill was an “abomination,” leading to public rebuke from Trump and a number of his allies. Trump fired back and threatened to cancel Musk’s government contracts. Musk then accused Trump of being included in the documents about convicted sex offender Jeffrey Epstein.\\n\\nThe two men eventually cooled off for a few weeks before Musk started posting again about the bill on X over the weekend and on Monday. [...] Musk departed from the Trump administration last month in a shocking public breakup with the president. Musk has campaigned against Trump’s “big beautiful bill,” arguing that it includes too much spending and goes against what his Department of Government Efficiency (DOGE) was trying to accomplish. [...] After Musk threatened to fund primary challenges against some Republicans supporting the legislation on Monday, Trump lashed out on social media. He warned in a late-night post that DOGE could cut government subsidies granted to Musk’s companies.',\n",
       "  'score': 0.7489592},\n",
       " {'title': \"Trump says he'll 'look' at deporting Musk as feud reignites - ABC News\",\n",
       "  'url': 'https://abcnews.go.com/Politics/trump-hell-deporting-musk-feud-reignites/story?id=123372908',\n",
       "  'content': 'The war of words marked an end to a two and a half week detente between the president and Musk.\\n\\nLast month, Musk, who had just left his role in the White House, went to X to criticize the spending bill and House Republicans who approved it.\\n\\n\"This massive, outrageous, pork-filled Congressional spending bill is a disgusting abomination,\" he wrote on June 3. \"Shame on those who voted for it: you know you did wrong. You know it.\" [...] Trump continued to hammer Musk later in the day as he visited Florida.\\n\\n\"If DOGE looks at Musk, we\\'re going to save a fortune,\" he told reporters.\\n\\nOn Monday, Musk threatened to fund primary challengers of any Republican who voted on the bill \"if it is the last thing I do on this Earth.\"\\n\\nWhen asked by ABC News about Musk\\'s criticism, the president reiterated that it was about the EV mandate.',\n",
       "  'score': 0.74385756},\n",
       " {'title': 'Donald Trump Talks Of Deporting Elon Musk And Unleashing DOGE ...',\n",
       "  'url': 'https://deadline.com/2025/07/trump-musk-deport-doge-1236446563/',\n",
       "  'content': 'The feud between President Donald Trump and Elon Musk is back on.\\n\\nAfter Musk has railed against Trump’s Big, Beautiful Bill in recent days, as GOP leaders struggle to get it across the finish line, the president took the opportunity to lash out at him. [...] Musk and Trump had a detente in recent weeks, but the tensions flared back up as the Tesla CEO again went after the Big, Beautiful Bill, saying that it would force the U.S. into “debt slavery.” He has also revived his idea of creating a third party, and warned of the legislation’s rollback of clean energy initiatives. Musk wrote on Sunday, “A massive strategic error is being made right now to damage solar/battery that will leave America extremely vulnerable in the future.” [...] The Department of Government Efficiency is the effort to slash the size of the federal government that was led by Musk until late May. That was followed days later by a very public falling out between Musk and Trump, with the billionaire accusing the president of being linked to Jeffrey Epstein. Trump again said that Musk was upset that the legislation terminates the electric vehicle mandate, something that benefits his company Tesla.\\n\\n### Watch on Deadline\\n\\n### Watch on Deadline',\n",
       "  'score': 0.7343678}]"
      ]
     },
     "execution_count": 5,
     "metadata": {},
     "output_type": "execute_result"
    }
   ],
   "source": [
    "tool.invoke({\"query\":\"what happend between Trump and Musk today?\"})\n"
   ]
  },
  {
   "cell_type": "markdown",
   "id": "33ed1db5",
   "metadata": {},
   "source": [
    "# Custom Tools"
   ]
  },
  {
   "cell_type": "markdown",
   "id": "fc6ac728",
   "metadata": {},
   "source": [
    "### Tool 1: Multiply"
   ]
  },
  {
   "cell_type": "code",
   "execution_count": 9,
   "id": "d693045d",
   "metadata": {},
   "outputs": [],
   "source": [
    "from langchain.agents import tool"
   ]
  },
  {
   "cell_type": "code",
   "execution_count": 10,
   "id": "2bc2fb2f",
   "metadata": {},
   "outputs": [],
   "source": [
    "@tool\n",
    "def multiply(a:int, b:int)->int:\n",
    "    '''This tool is for multiplication'''\n",
    "    return a*b"
   ]
  },
  {
   "cell_type": "code",
   "execution_count": 11,
   "id": "8879e27d",
   "metadata": {},
   "outputs": [
    {
     "data": {
      "text/plain": [
       "30"
      ]
     },
     "execution_count": 11,
     "metadata": {},
     "output_type": "execute_result"
    }
   ],
   "source": [
    "multiply.invoke({\"a\": 10, \"b\": 3})"
   ]
  },
  {
   "cell_type": "code",
   "execution_count": 12,
   "id": "2eef5778",
   "metadata": {},
   "outputs": [
    {
     "data": {
      "text/plain": [
       "'multiply'"
      ]
     },
     "execution_count": 12,
     "metadata": {},
     "output_type": "execute_result"
    }
   ],
   "source": [
    "multiply.name\n"
   ]
  },
  {
   "cell_type": "code",
   "execution_count": 13,
   "id": "5c8c49a4",
   "metadata": {},
   "outputs": [
    {
     "data": {
      "text/plain": [
       "'This tool is for multiplication'"
      ]
     },
     "execution_count": 13,
     "metadata": {},
     "output_type": "execute_result"
    }
   ],
   "source": [
    "multiply.description\n"
   ]
  },
  {
   "cell_type": "code",
   "execution_count": 14,
   "id": "05cad05d",
   "metadata": {},
   "outputs": [
    {
     "data": {
      "text/plain": [
       "{'a': {'title': 'A', 'type': 'integer'},\n",
       " 'b': {'title': 'B', 'type': 'integer'}}"
      ]
     },
     "execution_count": 14,
     "metadata": {},
     "output_type": "execute_result"
    }
   ],
   "source": [
    "multiply.args\n"
   ]
  },
  {
   "cell_type": "markdown",
   "id": "dc175995",
   "metadata": {},
   "source": [
    "### Tool 2: Length of Word"
   ]
  },
  {
   "cell_type": "code",
   "execution_count": 15,
   "id": "8a71983f",
   "metadata": {},
   "outputs": [],
   "source": [
    "@tool\n",
    "def get_word_length(word:str)->int:\n",
    "    \"\"\"this funtion is calculating a length of the word\"\"\"\n",
    "    return len(word)"
   ]
  },
  {
   "cell_type": "code",
   "execution_count": 16,
   "id": "68d25edd",
   "metadata": {},
   "outputs": [
    {
     "data": {
      "text/plain": [
       "'get_word_length'"
      ]
     },
     "execution_count": 16,
     "metadata": {},
     "output_type": "execute_result"
    }
   ],
   "source": [
    "get_word_length.name\n"
   ]
  },
  {
   "cell_type": "code",
   "execution_count": 17,
   "id": "47860535",
   "metadata": {},
   "outputs": [
    {
     "data": {
      "text/plain": [
       "'this funtion is calculating a length of the word'"
      ]
     },
     "execution_count": 17,
     "metadata": {},
     "output_type": "execute_result"
    }
   ],
   "source": [
    "get_word_length.description\n"
   ]
  },
  {
   "cell_type": "code",
   "execution_count": 18,
   "id": "11a58249",
   "metadata": {},
   "outputs": [
    {
     "data": {
      "text/plain": [
       "{'word': {'title': 'Word', 'type': 'string'}}"
      ]
     },
     "execution_count": 18,
     "metadata": {},
     "output_type": "execute_result"
    }
   ],
   "source": [
    "get_word_length.args\n"
   ]
  },
  {
   "cell_type": "code",
   "execution_count": 19,
   "id": "1a67f291",
   "metadata": {},
   "outputs": [
    {
     "data": {
      "text/plain": [
       "5"
      ]
     },
     "execution_count": 19,
     "metadata": {},
     "output_type": "execute_result"
    }
   ],
   "source": [
    "get_word_length(\"sunny\")\n"
   ]
  },
  {
   "cell_type": "code",
   "execution_count": 20,
   "id": "22cb4386",
   "metadata": {},
   "outputs": [
    {
     "data": {
      "text/plain": [
       "5"
      ]
     },
     "execution_count": 20,
     "metadata": {},
     "output_type": "execute_result"
    }
   ],
   "source": [
    "get_word_length.invoke(\"sunny\")\n"
   ]
  },
  {
   "cell_type": "code",
   "execution_count": null,
   "id": "66c47298",
   "metadata": {},
   "outputs": [],
   "source": []
  }
 ],
 "metadata": {
  "kernelspec": {
   "display_name": "Python 3",
   "language": "python",
   "name": "python3"
  },
  "language_info": {
   "codemirror_mode": {
    "name": "ipython",
    "version": 3
   },
   "file_extension": ".py",
   "mimetype": "text/x-python",
   "name": "python",
   "nbconvert_exporter": "python",
   "pygments_lexer": "ipython3",
   "version": "3.13.0"
  }
 },
 "nbformat": 4,
 "nbformat_minor": 5
}
