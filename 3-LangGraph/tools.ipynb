{
 "cells": [
  {
   "cell_type": "markdown",
   "id": "e0fd149c",
   "metadata": {},
   "source": [
    "# Built-In Tools"
   ]
  },
  {
   "cell_type": "markdown",
   "id": "c63434f0",
   "metadata": {},
   "source": [
    "### Wikipedia Built In Tool"
   ]
  },
  {
   "cell_type": "code",
   "execution_count": 1,
   "id": "9b44b7d4",
   "metadata": {},
   "outputs": [],
   "source": [
    "from langchain_community.tools import WikipediaQueryRun"
   ]
  },
  {
   "cell_type": "code",
   "execution_count": 2,
   "id": "38f17dac",
   "metadata": {},
   "outputs": [],
   "source": [
    "from langchain_community.utilities import WikipediaAPIWrapper"
   ]
  },
  {
   "cell_type": "code",
   "execution_count": 3,
   "id": "0e776b5f",
   "metadata": {},
   "outputs": [],
   "source": [
    "api_wrapper=WikipediaAPIWrapper(top_k_results=5,doc_content_chars_max= 500)"
   ]
  },
  {
   "cell_type": "code",
   "execution_count": 4,
   "id": "07d1899a",
   "metadata": {},
   "outputs": [],
   "source": [
    "wiki_tool = WikipediaQueryRun(api_wrapper= api_wrapper)"
   ]
  },
  {
   "cell_type": "code",
   "execution_count": 5,
   "id": "f8926bd3",
   "metadata": {},
   "outputs": [
    {
     "data": {
      "text/plain": [
       "'wikipedia'"
      ]
     },
     "execution_count": 5,
     "metadata": {},
     "output_type": "execute_result"
    }
   ],
   "source": [
    "wiki_tool.name"
   ]
  },
  {
   "cell_type": "code",
   "execution_count": 6,
   "id": "949fd965",
   "metadata": {},
   "outputs": [
    {
     "data": {
      "text/plain": [
       "'A wrapper around Wikipedia. Useful for when you need to answer general questions about people, places, companies, facts, historical events, or other subjects. Input should be a search query.'"
      ]
     },
     "execution_count": 6,
     "metadata": {},
     "output_type": "execute_result"
    }
   ],
   "source": [
    "wiki_tool.description"
   ]
  },
  {
   "cell_type": "code",
   "execution_count": 7,
   "id": "05686776",
   "metadata": {},
   "outputs": [
    {
     "data": {
      "text/plain": [
       "{'query': {'description': 'query to look up on wikipedia',\n",
       "  'title': 'Query',\n",
       "  'type': 'string'}}"
      ]
     },
     "execution_count": 7,
     "metadata": {},
     "output_type": "execute_result"
    }
   ],
   "source": [
    "wiki_tool.args"
   ]
  },
  {
   "cell_type": "code",
   "execution_count": 8,
   "id": "e6b04962",
   "metadata": {},
   "outputs": [
    {
     "data": {
      "text/plain": [
       "\"Page: Elon Musk\\nSummary: Elon Reeve Musk  ( EE-lon; born June 28, 1971) is a businessman. He is known for his leadership of Tesla, SpaceX, X (formerly Twitter), and the Department of Government Efficiency (DOGE). Musk has been considered the wealthiest person in the world since 2021; as of May 2025, Forbes estimates his net worth to be US$424.7 billion. \\nBorn to a wealthy family in Pretoria, South Africa, Musk emigrated in 1989 to Canada. He received bachelor's degrees from the University of Pen\""
      ]
     },
     "execution_count": 8,
     "metadata": {},
     "output_type": "execute_result"
    }
   ],
   "source": [
    "wiki_tool.run({\"query\": \"elon musk\"})"
   ]
  },
  {
   "cell_type": "code",
   "execution_count": 10,
   "id": "dc0dd8f9",
   "metadata": {},
   "outputs": [
    {
     "name": "stderr",
     "output_type": "stream",
     "text": [
      "g:\\AgenticAI\\venv\\Lib\\site-packages\\wikipedia\\wikipedia.py:389: GuessedAtParserWarning: No parser was explicitly specified, so I'm using the best available HTML parser for this system (\"html.parser\"). This usually isn't a problem, but if you run this code on another system, or in a different virtual environment, it may use a different parser and behave differently.\n",
      "\n",
      "The code that caused this warning is on line 389 of the file g:\\AgenticAI\\venv\\Lib\\site-packages\\wikipedia\\wikipedia.py. To get rid of this warning, pass the additional argument 'features=\"html.parser\"' to the BeautifulSoup constructor.\n",
      "\n",
      "  lis = BeautifulSoup(html).find_all('li')\n"
     ]
    },
    {
     "data": {
      "text/plain": [
       "\"Page: Royal Challengers Bengaluru\\nSummary: Royal Challengers Bengaluru, formerly Royal Challengers Bangalore, also known as RCB, are a professional Twenty20 cricket team based in Bengaluru, Karnataka, that competes in the Indian Premier League (IPL). Founded in 2008 by United Spirits, the team's home ground is M. Chinnaswamy Stadium. They won their first title in 2025. The team finished as the runners-up on three occasions: in 2009, 2011, and 2016. They have also qualified for the playoffs in te\""
      ]
     },
     "execution_count": 10,
     "metadata": {},
     "output_type": "execute_result"
    }
   ],
   "source": [
    "wiki_tool.run(\"RCB\")"
   ]
  },
  {
   "cell_type": "markdown",
   "id": "dff2df7a",
   "metadata": {},
   "source": [
    "### YouTube Search Built In Tool"
   ]
  },
  {
   "cell_type": "code",
   "execution_count": 11,
   "id": "cd766c23",
   "metadata": {},
   "outputs": [],
   "source": [
    "from langchain_community.tools import YouTubeSearchTool"
   ]
  },
  {
   "cell_type": "code",
   "execution_count": 12,
   "id": "aa1a6185",
   "metadata": {},
   "outputs": [],
   "source": [
    "tool = YouTubeSearchTool()"
   ]
  },
  {
   "cell_type": "code",
   "execution_count": 13,
   "id": "abdf2adf",
   "metadata": {},
   "outputs": [
    {
     "data": {
      "text/plain": [
       "'youtube_search'"
      ]
     },
     "execution_count": 13,
     "metadata": {},
     "output_type": "execute_result"
    }
   ],
   "source": [
    "tool.name"
   ]
  },
  {
   "cell_type": "code",
   "execution_count": 14,
   "id": "875036f1",
   "metadata": {},
   "outputs": [
    {
     "data": {
      "text/plain": [
       "'search for youtube videos associated with a person. the input to this tool should be a comma separated list, the first part contains a person name and the second a number that is the maximum number of video results to return aka num_results. the second part is optional'"
      ]
     },
     "execution_count": 14,
     "metadata": {},
     "output_type": "execute_result"
    }
   ],
   "source": [
    "tool.description"
   ]
  },
  {
   "cell_type": "code",
   "execution_count": 16,
   "id": "7c60e1e3",
   "metadata": {},
   "outputs": [
    {
     "data": {
      "text/plain": [
       "\"['https://www.youtube.com/watch?v=TYEqenKrbaM&pp=ygUKS3Jpc2ggTmFpaw%3D%3D', 'https://www.youtube.com/watch?v=ghnFmeY4bO4&pp=ygUKS3Jpc2ggTmFpaw%3D%3D']\""
      ]
     },
     "execution_count": 16,
     "metadata": {},
     "output_type": "execute_result"
    }
   ],
   "source": [
    "tool.run(\"Krish Naik\")"
   ]
  },
  {
   "cell_type": "markdown",
   "id": "bc6ead90",
   "metadata": {},
   "source": [
    "### Tavily (Search Engine) Built In Tool"
   ]
  },
  {
   "cell_type": "code",
   "execution_count": 1,
   "id": "d57d5529",
   "metadata": {},
   "outputs": [],
   "source": [
    "from langchain_community.tools.tavily_search import TavilySearchResults"
   ]
  },
  {
   "cell_type": "code",
   "execution_count": 2,
   "id": "22a8218e",
   "metadata": {},
   "outputs": [],
   "source": [
    "import os\n",
    "TAVILY_API_KEY=os.getenv(\"TAVILY_API_KEY\")"
   ]
  },
  {
   "cell_type": "code",
   "execution_count": 3,
   "id": "31d6f556",
   "metadata": {},
   "outputs": [
    {
     "name": "stderr",
     "output_type": "stream",
     "text": [
      "C:\\Users\\Harshit\\AppData\\Local\\Temp\\ipykernel_5592\\1068719361.py:1: LangChainDeprecationWarning: The class `TavilySearchResults` was deprecated in LangChain 0.3.25 and will be removed in 1.0. An updated version of the class exists in the :class:`~langchain-tavily package and should be used instead. To use it run `pip install -U :class:`~langchain-tavily` and import as `from :class:`~langchain_tavily import TavilySearch``.\n",
      "  tool=TavilySearchResults(tavily_api_key=TAVILY_API_KEY)\n"
     ]
    }
   ],
   "source": [
    "tool=TavilySearchResults(tavily_api_key=TAVILY_API_KEY)"
   ]
  },
  {
   "cell_type": "code",
   "execution_count": 1,
   "id": "45f20a18",
   "metadata": {},
   "outputs": [
    {
     "data": {
      "text/plain": [
       "{'query': 'Anwer the follow question by searching the internet and getting best response. Following is the user question: what happend between Trump and Musk today?',\n",
       " 'follow_up_questions': None,\n",
       " 'answer': None,\n",
       " 'images': [],\n",
       " 'results': [{'url': 'https://www.cnn.com/business/timeline-elon-musk-trump-x-dg',\n",
       "   'title': \"Timeline of Elon Musk and Donald Trump's feud | CNN Business\",\n",
       "   'content': 'A public feud between President Donald Trump and his on-again, off-again ally, billionaire Elon Musk, reignited this week after an apparent truce lasted',\n",
       "   'score': 0.6158511,\n",
       "   'raw_content': None},\n",
       "  {'url': 'https://www.forbes.com/sites/saradorn/2025/07/07/the-musk-vs-trump-feud-latest-richest-man-trolls-president-over-epstein-list-again/',\n",
       "   'title': 'The Complete Musk Vs. Trump Feud Timeline - Forbes',\n",
       "   'content': 'Elon Musk escalated his public attacks on President Donald Trump Monday, suggesting his administration withheld findings about the federal',\n",
       "   'score': 0.56431514,\n",
       "   'raw_content': None},\n",
       "  {'url': 'https://www.pbs.org/newshour/politics/how-trump-and-musks-relationship-flamed-out',\n",
       "   'title': \"How Trump and Musk's relationship flamed out | PBS News\",\n",
       "   'content': \"Donald Trump and Elon Musk's alliance took off like one of SpaceX's rockets. And then it blew up.\",\n",
       "   'score': 0.5366292,\n",
       "   'raw_content': None},\n",
       "  {'url': 'https://www.youtube.com/watch?v=3fcR3BKTttA',\n",
       "   'title': \"US President Donald Trump 'not interested' in making up with Elon ...\",\n",
       "   'content': \"... with tech billionaire Elon Musk in the wake of their online feud. Since leaving the White House, Musk has been voicing opposition to Trump's\",\n",
       "   'score': 0.50022036,\n",
       "   'raw_content': None},\n",
       "  {'url': 'https://people.com/donald-trump-elon-musk-feud-timeline-11749663',\n",
       "   'title': \"A Timeline of Donald Trump and Elon Musk's Friendship and Fight\",\n",
       "   'content': 'NEED TO KNOW. Elon Musk publicly endorsed President Donald Trump during his 2024 presidential campaign; After winning the election, Trump',\n",
       "   'score': 0.42749292,\n",
       "   'raw_content': None}],\n",
       " 'response_time': 1.89}"
      ]
     },
     "execution_count": 1,
     "metadata": {},
     "output_type": "execute_result"
    }
   ],
   "source": [
    "from langchain_tavily import TavilySearch\n",
    "import os\n",
    "TAVILY_API_KEY=os.getenv(\"TAVILY_API_KEY\")\n",
    "\n",
    "tavily_tool=TavilySearch(tavily_api_key=TAVILY_API_KEY)\n",
    "\n",
    "question = \"what happend between Trump and Musk today?\"\n",
    "complete_query = \"Anwer the follow question by searching the internet and getting best response. Following is the user question: \" + question\n",
    "\n",
    "tavily_tool.invoke(complete_query)"
   ]
  },
  {
   "cell_type": "code",
   "execution_count": 4,
   "id": "ab09bcf6",
   "metadata": {},
   "outputs": [
    {
     "data": {
      "text/plain": [
       "[{'title': \"Elon Musk vows to start a new political party after Trump feud. Here's ...\",\n",
       "  'url': 'https://www.cbsnews.com/news/elon-musk-new-america-political-party-trump-feud-harder-than-it-sounds/',\n",
       "  'content': 'On Saturday, a day after Mr. Trump signed the bill into law, Musk wrote in a social media post that the \"America Party\" had formed after polling his followers on X.\\n\\n\"By a factor of 2 to 1, you want a new political party and you shall have it!\" Musk said in the post. \"When it comes to bankrupting our country with waste & graft, we live in a one-party system, not a democracy. Today, the America Party is formed to give you back your freedom.\" [...] Musk first floated launching a third party, dubbed the \"America Party,\" earlier this month, part of a nasty back-and-forth between the president and the Tesla CEO that marked the likely end of their political alliance. The billionaire raised the idea of a third party again last week as lawmakers raced to send the One Big Beautiful Bill Act to Mr. Trump\\'s desk — saying he would start the party if Congress passed what he described as an \"insane spending bill.\" [...] In a Truth Social post on Sunday, Mr. Trump reacted to the idea of Musk\\'s new party, saying it would cause \"total disruption and chaos.\" The president also said Musk is \"off the rails\" and was \"becoming a train wreck\" over the past five weeks.\\n\\nMusk did not offer any other details on the formation of the \"America Party\" this weekend, and it\\'s unclear what steps he has taken so far.',\n",
       "  'score': 0.6010557},\n",
       " {'title': \"Trump says Elon Musk will face 'very serious consequences' if he ...\",\n",
       "  'url': 'https://www.nbcnews.com/politics/donald-trump/trump-elon-musk-consequences-funds-democratic-candidates-rcna211605',\n",
       "  'content': 'In the days leading up to their public falling out, Musk had been critical of a GOP-led spending bill that the House passed last month.\\n\\nIn the Oval Office on Thursday, Trump responded to Musk’s criticisms, telling reporters, “I’m very disappointed because Elon knew the inner workings of this bill. I’m very disappointed in Elon. I’ve helped Elon a lot.” [...] Asked if he thought his relationship with the Tesla and SpaceX CEO was over, Trump said, “I would assume so, yeah.”\\n\\nTrump’s comments were the most extensive since he and Musk exchanged threats and attacks on X and Truth Social earlier this week. He added that he thought the Republican Party was more unified than ever after the two men fell out in front of the world. [...] Shortly after those comments, Musk launched his flurry of posts, including a now-deleted post promoting a call for Trump to be impeached and another where he said the president’s tariff agenda would cause a recession later this year.\\n\\nTrump on Thursday also responded with his own posts on Truth Social. In one post, he wrote, “I don’t mind Elon turning against me, but he should have done so months ago,” suggesting that Musk knew what was in the bill before it was passed.',\n",
       "  'score': 0.5948579},\n",
       " {'title': \"Timeline of Elon Musk and Donald Trump's feud | CNN Business\",\n",
       "  'url': 'https://www.cnn.com/business/timeline-elon-musk-trump-x-dg',\n",
       "  'content': 'The renewed dispute comes after Trump and Musk first began publicly fighting about the bill last month, which raged for several days across social media and in the Oval Office. During that first round of barbs, other prominent figures from the president’s and the tech leader’s respective orbits also joined in, some taking sides and others calling for the feud to end.\\n\\nThe public fighting briefly died down, with Musk deleting some of his earlier posts, before kicking off again this week. [...] Musk resumed his criticism of Trump’s massive tax and domestic policy bill on Monday, as Republican leaders push to shore up support for the legislation and pushes to get it to the president’s desk by July 4. The Tesla CEO also repeatedly threatened to create a new political party if the agenda bill passes.\\n\\n“If this insane spending bill passes, the America Party will be formed the next day,” Musk said in an X post Monday evening. [...] ### CNN values your feedback\\n\\ntrumpmuskfeud.jpg\\n\\n# Here’s how the feud between Elon Musk and Donald Trump has unfolded\\n\\nClare Duffy\\n\\nA public feud between President Donald Trump and his on-again, off-again ally, billionaire Elon Musk, reignited this week after an apparent truce lasted less than a month.',\n",
       "  'score': 0.58664185},\n",
       " {'title': \"Should Trump be worried about Elon Musk's political party?\",\n",
       "  'url': 'https://spectrumlocalnews.com/us/snplus/politics/2025/07/11/should-trump-be-worried-about-elon-musk-s-political-party-',\n",
       "  'content': \"Musk criticized the Republicans who voted to pass the One Big Beautiful Bill Act, calling the bill an â\\x80\\x9cabomination.â\\x80\\x9d On X, Musk wrote, â\\x80\\x9cToday the America Party is formed to give you back your freedom.â\\x80\\x9d\\n\\nTrump dismissed the idea, calling the effort â\\x80\\x9cridiculous.â\\x80\\x9d\\n\\nâ\\x80\\x9cItâ\\x80\\x99s always been a two-party system, and I think starting a third party just adds to confusion,â\\x80\\x9d the president said. â\\x80\\x9cThird parties have never worked.â\\x80\\x9d [...] Billionaire Elon Musk last weekend announced plans to create his own new political party, the â\\x80\\x9cAmerica Party.â\\x80\\x9d The announcement came via his social media platform, X, after Musk had a falling out with President Donald Trump over the presidentâ\\x80\\x99s massive tax and spending legislation.\\n\\n#### What You Need To Know [...] #####  Billionaire Elon Musk last weekend announced plans to create his own new political party, the â\\x80\\x9cAmerica Party.â\\x80\\x9d  President Donald Trump dismissed the idea, calling the effort â\\x80\\x9cridiculous.â\\x80\\x9d  Although no third-party candidate has ever won a U.S. presidential race, Matt Dallek, a political science professor at The George Washington University, said they often influence national politics  Dallek said Musk, the world's richest man, could impact elections if he's strategic about how he\",\n",
       "  'score': 0.5697814},\n",
       " {'title': 'Trump calls Musk\\'s formation of new party \"ridiculous\" and criticizes ...',\n",
       "  'url': 'https://www.reuters.com/business/autos-transportation/investment-firm-azoria-postpones-tesla-etf-after-musk-plans-political-party-2025-07-06/',\n",
       "  'content': '# Trump calls Musk\\'s formation of new party \"ridiculous\" and criticizes his own NASA pick\\n\\nSign up  here.\\n\\nU.S. President Donald Trump and Elon Musk attend a press conference at the White House\\nUS President-elect Donald Trump attends a meeting with House Republicans at the Hyatt Regency hotel in Washington\\n\\n## NASA APPOINTMENT \\'INAPPROPRIATE\\'',\n",
       "  'score': 0.53298485}]"
      ]
     },
     "execution_count": 4,
     "metadata": {},
     "output_type": "execute_result"
    }
   ],
   "source": [
    "question = \"what happend between Trump and Musk today?\"\n",
    "complete_query = \"Anwer the follow question by searching the internet and getting best response. Following is the user question: \" + question\n",
    "\n",
    "tool.invoke(complete_query)"
   ]
  },
  {
   "cell_type": "code",
   "execution_count": 12,
   "id": "d38200c1",
   "metadata": {},
   "outputs": [
    {
     "data": {
      "text/plain": [
       "[{'title': 'Musk says he is forming new political party after fallout with Trump',\n",
       "  'url': 'https://www.cnn.com/2025/07/05/politics/elon-musk-political-party',\n",
       "  'content': 'Musk’s criticism of the bill was the catalyst for a major falling out between the two men last month. That feud seemingly cooled after Musk expressed regret and deleted the most incendiary social media posts he made about Trump, but it reignited in the last several days as the bill neared passage. Trump signed the bill into law on Friday.\\n\\nFor his part, Trump called Musk’s announcement of the new party “ridiculous” and said it would sow confusion. [...] In a late-night post on his Truth Social, Trump further attacked Musk, describing him as “off the rails.”\\n\\n“I am saddened to watch Elon Musk go completely ‘off the rails,’ essentially becoming a TRAIN WRECK over the past five weeks,” Trump wrote late Sunday. “He even wants to start a Third Political Party, despite the fact that they have never succeeded in the United States.” [...] Trump, in turn, has made his own threats against the man who at one point was his most visible adviser. The president said earlier this week the government may reconsider its massive contracts with Musk’s companies and described the Department of Government Efficiency, which the billionaire previously helmed,as a monster that may “go back and eat Elon.”\\n\\nCNN’s Hadas Gold and Samantha Waldenberg contributed to this report.',\n",
       "  'score': 0.7539928},\n",
       " {'title': 'Trump and Musk feud escalates after Musk floats creating new ...',\n",
       "  'url': 'https://abcnews.go.com/Politics/trump-musk-feud-escalates-after-musk-floats-creating/story?id=123532608',\n",
       "  'content': '## ABC News\\n\\n## Live\\n\\n## Video\\n\\n## Shows\\n\\n## Shop\\n\\n## Stream on\\n\\nhulu\\n\\n# Trump and Musk feud escalates after Musk floats creating new political party\\n\\nMusk said he\\'ll form an \"America Party\" in response to Trump\\'s megabill.\\n\\nPresident Donald Trump and Elon Musk are once again trading public insults after the Tesla billionaire, the world\\'s richest man, said he will create a new political party. [...] \"When it comes to bankrupting our country with waste & graft, we live in a one-party system, not a democracy,\" Musk posted on X on Saturday. \"Today, the America Party is formed to give you back your freedom.\"\\n\\n### MORE: Trump says he\\'ll \\'look\\' at deporting Musk as feud reignites\\n\\nTrump on Sunday slammed the idea as \"ridiculous.\" [...] Musk, who has been floating the idea of creating a third political party for weeks in the wake of his split with the president, reignited the push over the weekend after the passage of Trump\\'s sweeping tax cut and spending bill -- which Musk railed against over its estimated impact adding trillions to the national debt.',\n",
       "  'score': 0.7185356},\n",
       " {'title': \"Elon Musk vows to start a new political party after Trump feud. Here's ...\",\n",
       "  'url': 'https://www.cbsnews.com/news/elon-musk-new-america-political-party-trump-feud-harder-than-it-sounds/',\n",
       "  'content': 'On Saturday, a day after Mr. Trump signed the bill into law, Musk wrote in a social media post that the \"America Party\" had formed after polling his followers on X.\\n\\n\"By a factor of 2 to 1, you want a new political party and you shall have it!\" Musk said in the post. \"When it comes to bankrupting our country with waste & graft, we live in a one-party system, not a democracy. Today, the America Party is formed to give you back your freedom.\" [...] Musk first floated launching a third party, dubbed the \"America Party,\" earlier this month, part of a nasty back-and-forth between the president and the Tesla CEO that marked the likely end of their political alliance. The billionaire raised the idea of a third party again last week as lawmakers raced to send the One Big Beautiful Bill Act to Mr. Trump\\'s desk — saying he would start the party if Congress passed what he described as an \"insane spending bill.\" [...] In a Truth Social post on Sunday, Mr. Trump reacted to the idea of Musk\\'s new party, saying it would cause \"total disruption and chaos.\" The president also said Musk is \"off the rails\" and was \"becoming a train wreck\" over the past five weeks.\\n\\nMusk did not offer any other details on the formation of the \"America Party\" this weekend, and it\\'s unclear what steps he has taken so far.',\n",
       "  'score': 0.6889923},\n",
       " {'title': \"Should Trump be worried about Elon Musk's political party?\",\n",
       "  'url': 'https://spectrumlocalnews.com/us/snplus/politics/2025/07/11/should-trump-be-worried-about-elon-musk-s-political-party-',\n",
       "  'content': \"Musk criticized the Republicans who voted to pass the One Big Beautiful Bill Act, calling the bill an â\\x80\\x9cabomination.â\\x80\\x9d On X, Musk wrote, â\\x80\\x9cToday the America Party is formed to give you back your freedom.â\\x80\\x9d\\n\\nTrump dismissed the idea, calling the effort â\\x80\\x9cridiculous.â\\x80\\x9d\\n\\nâ\\x80\\x9cItâ\\x80\\x99s always been a two-party system, and I think starting a third party just adds to confusion,â\\x80\\x9d the president said. â\\x80\\x9cThird parties have never worked.â\\x80\\x9d [...] Billionaire Elon Musk last weekend announced plans to create his own new political party, the â\\x80\\x9cAmerica Party.â\\x80\\x9d The announcement came via his social media platform, X, after Musk had a falling out with President Donald Trump over the presidentâ\\x80\\x99s massive tax and spending legislation.\\n\\n#### What You Need To Know [...] #####  Billionaire Elon Musk last weekend announced plans to create his own new political party, the â\\x80\\x9cAmerica Party.â\\x80\\x9d  President Donald Trump dismissed the idea, calling the effort â\\x80\\x9cridiculous.â\\x80\\x9d  Although no third-party candidate has ever won a U.S. presidential race, Matt Dallek, a political science professor at The George Washington University, said they often influence national politics  Dallek said Musk, the world's richest man, could impact elections if he's strategic about how he\",\n",
       "  'score': 0.599087},\n",
       " {'title': \"Trump calls Musk's new political party 'ridiculous' - BBC\",\n",
       "  'url': 'https://www.bbc.com/news/articles/cy4n09lpz41o',\n",
       "  'content': '# Trump calls Musk\\'s new political party \\'ridiculous\\'\\n\\nGetty Images US President Donald Trump and White House Senior Advisor, Tesla and SpaceX CEO Elon Musk sit in a Tesla Model S on the South Lawn of the White House on 11 March, 2025 in Washington, DC. \\n\\nUS President Donald Trump has hit out at former close ally Elon Musk over the multi-billionaire\\'s plan to launch a new political party. [...] Trump and Musk were formerly closeallies, with the Tesla boss leading the Department of Government Efficiency (Doge), which is tasked with helping to cut federal spending.\\n\\nMusk has repeatedly criticised government policies that increase the US national debt.\\n\\nOn Sunday, he said that while the new party may back a presidential candidate at some point \"the focus for the next 12 months is on the House and the Senate.\"',\n",
       "  'score': 0.5792344}]"
      ]
     },
     "execution_count": 12,
     "metadata": {},
     "output_type": "execute_result"
    }
   ],
   "source": [
    "tool.invoke({\"query\":\"what happend between Trump and Musk today?\"})\n"
   ]
  },
  {
   "cell_type": "markdown",
   "id": "33ed1db5",
   "metadata": {},
   "source": [
    "# Custom Tools"
   ]
  },
  {
   "cell_type": "markdown",
   "id": "fc6ac728",
   "metadata": {},
   "source": [
    "### Tool 1: Multiply"
   ]
  },
  {
   "cell_type": "code",
   "execution_count": 9,
   "id": "d693045d",
   "metadata": {},
   "outputs": [],
   "source": [
    "from langchain.agents import tool"
   ]
  },
  {
   "cell_type": "code",
   "execution_count": 10,
   "id": "2bc2fb2f",
   "metadata": {},
   "outputs": [],
   "source": [
    "@tool\n",
    "def multiply(a:int, b:int)->int:\n",
    "    '''This tool is for multiplication'''\n",
    "    return a*b"
   ]
  },
  {
   "cell_type": "code",
   "execution_count": 11,
   "id": "8879e27d",
   "metadata": {},
   "outputs": [
    {
     "data": {
      "text/plain": [
       "30"
      ]
     },
     "execution_count": 11,
     "metadata": {},
     "output_type": "execute_result"
    }
   ],
   "source": [
    "multiply.invoke({\"a\": 10, \"b\": 3})"
   ]
  },
  {
   "cell_type": "code",
   "execution_count": 12,
   "id": "2eef5778",
   "metadata": {},
   "outputs": [
    {
     "data": {
      "text/plain": [
       "'multiply'"
      ]
     },
     "execution_count": 12,
     "metadata": {},
     "output_type": "execute_result"
    }
   ],
   "source": [
    "multiply.name\n"
   ]
  },
  {
   "cell_type": "code",
   "execution_count": 13,
   "id": "5c8c49a4",
   "metadata": {},
   "outputs": [
    {
     "data": {
      "text/plain": [
       "'This tool is for multiplication'"
      ]
     },
     "execution_count": 13,
     "metadata": {},
     "output_type": "execute_result"
    }
   ],
   "source": [
    "multiply.description\n"
   ]
  },
  {
   "cell_type": "code",
   "execution_count": 14,
   "id": "05cad05d",
   "metadata": {},
   "outputs": [
    {
     "data": {
      "text/plain": [
       "{'a': {'title': 'A', 'type': 'integer'},\n",
       " 'b': {'title': 'B', 'type': 'integer'}}"
      ]
     },
     "execution_count": 14,
     "metadata": {},
     "output_type": "execute_result"
    }
   ],
   "source": [
    "multiply.args\n"
   ]
  },
  {
   "cell_type": "markdown",
   "id": "dc175995",
   "metadata": {},
   "source": [
    "### Tool 2: Length of Word"
   ]
  },
  {
   "cell_type": "code",
   "execution_count": 15,
   "id": "8a71983f",
   "metadata": {},
   "outputs": [],
   "source": [
    "@tool\n",
    "def get_word_length(word:str)->int:\n",
    "    \"\"\"this funtion is calculating a length of the word\"\"\"\n",
    "    return len(word)"
   ]
  },
  {
   "cell_type": "code",
   "execution_count": 16,
   "id": "68d25edd",
   "metadata": {},
   "outputs": [
    {
     "data": {
      "text/plain": [
       "'get_word_length'"
      ]
     },
     "execution_count": 16,
     "metadata": {},
     "output_type": "execute_result"
    }
   ],
   "source": [
    "get_word_length.name\n"
   ]
  },
  {
   "cell_type": "code",
   "execution_count": 17,
   "id": "47860535",
   "metadata": {},
   "outputs": [
    {
     "data": {
      "text/plain": [
       "'this funtion is calculating a length of the word'"
      ]
     },
     "execution_count": 17,
     "metadata": {},
     "output_type": "execute_result"
    }
   ],
   "source": [
    "get_word_length.description\n"
   ]
  },
  {
   "cell_type": "code",
   "execution_count": 18,
   "id": "11a58249",
   "metadata": {},
   "outputs": [
    {
     "data": {
      "text/plain": [
       "{'word': {'title': 'Word', 'type': 'string'}}"
      ]
     },
     "execution_count": 18,
     "metadata": {},
     "output_type": "execute_result"
    }
   ],
   "source": [
    "get_word_length.args\n"
   ]
  },
  {
   "cell_type": "code",
   "execution_count": 19,
   "id": "1a67f291",
   "metadata": {},
   "outputs": [
    {
     "data": {
      "text/plain": [
       "5"
      ]
     },
     "execution_count": 19,
     "metadata": {},
     "output_type": "execute_result"
    }
   ],
   "source": [
    "get_word_length(\"sunny\")\n"
   ]
  },
  {
   "cell_type": "code",
   "execution_count": 20,
   "id": "22cb4386",
   "metadata": {},
   "outputs": [
    {
     "data": {
      "text/plain": [
       "5"
      ]
     },
     "execution_count": 20,
     "metadata": {},
     "output_type": "execute_result"
    }
   ],
   "source": [
    "get_word_length.invoke(\"sunny\")\n"
   ]
  },
  {
   "cell_type": "code",
   "execution_count": null,
   "id": "66c47298",
   "metadata": {},
   "outputs": [],
   "source": []
  }
 ],
 "metadata": {
  "kernelspec": {
   "display_name": "Python 3",
   "language": "python",
   "name": "python3"
  },
  "language_info": {
   "codemirror_mode": {
    "name": "ipython",
    "version": 3
   },
   "file_extension": ".py",
   "mimetype": "text/x-python",
   "name": "python",
   "nbconvert_exporter": "python",
   "pygments_lexer": "ipython3",
   "version": "3.13.0"
  }
 },
 "nbformat": 4,
 "nbformat_minor": 5
}
